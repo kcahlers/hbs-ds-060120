{
 "cells": [
  {
   "cell_type": "markdown",
   "metadata": {},
   "source": [
    "# Polynomial Regression\n",
    "\n",
    "## Objectives:\n",
    "\n",
    "1. Understanding of interaction effect in linear regression\n",
    "\n",
    "2. Understanding how to read residuals.\n",
    "\n",
    "3. Creating higher order terms and interaction terms by using PolynomialFeatures from sklearn."
   ]
  },
  {
   "cell_type": "code",
   "execution_count": 1,
   "metadata": {},
   "outputs": [],
   "source": [
    "import pandas as pd\n",
    "import numpy as np\n",
    "import matplotlib.pyplot as plt\n",
    "%matplotlib inline\n",
    "import statsmodels.api as sm"
   ]
  },
  {
   "cell_type": "code",
   "execution_count": 2,
   "metadata": {},
   "outputs": [],
   "source": [
    "advertising = pd.read_csv('data/Advertising.csv', index_col=0)"
   ]
  },
  {
   "cell_type": "code",
   "execution_count": 3,
   "metadata": {},
   "outputs": [],
   "source": [
    "y = advertising.Sales\n",
    "X = advertising[['TV', 'Radio']]"
   ]
  },
  {
   "cell_type": "markdown",
   "metadata": {},
   "source": [
    "Let's make sure that everything is as expected."
   ]
  },
  {
   "cell_type": "code",
   "execution_count": 4,
   "metadata": {},
   "outputs": [
    {
     "data": {
      "text/html": [
       "<div>\n",
       "<style scoped>\n",
       "    .dataframe tbody tr th:only-of-type {\n",
       "        vertical-align: middle;\n",
       "    }\n",
       "\n",
       "    .dataframe tbody tr th {\n",
       "        vertical-align: top;\n",
       "    }\n",
       "\n",
       "    .dataframe thead th {\n",
       "        text-align: right;\n",
       "    }\n",
       "</style>\n",
       "<table border=\"1\" class=\"dataframe\">\n",
       "  <thead>\n",
       "    <tr style=\"text-align: right;\">\n",
       "      <th></th>\n",
       "      <th>TV</th>\n",
       "      <th>Radio</th>\n",
       "    </tr>\n",
       "  </thead>\n",
       "  <tbody>\n",
       "    <tr>\n",
       "      <th>1</th>\n",
       "      <td>230.1</td>\n",
       "      <td>37.8</td>\n",
       "    </tr>\n",
       "    <tr>\n",
       "      <th>2</th>\n",
       "      <td>44.5</td>\n",
       "      <td>39.3</td>\n",
       "    </tr>\n",
       "    <tr>\n",
       "      <th>3</th>\n",
       "      <td>17.2</td>\n",
       "      <td>45.9</td>\n",
       "    </tr>\n",
       "  </tbody>\n",
       "</table>\n",
       "</div>"
      ],
      "text/plain": [
       "      TV  Radio\n",
       "1  230.1   37.8\n",
       "2   44.5   39.3\n",
       "3   17.2   45.9"
      ]
     },
     "execution_count": 4,
     "metadata": {},
     "output_type": "execute_result"
    }
   ],
   "source": [
    "X.head(3)\n"
   ]
  },
  {
   "cell_type": "code",
   "execution_count": 5,
   "metadata": {},
   "outputs": [
    {
     "data": {
      "text/plain": [
       "1    22.1\n",
       "2    10.4\n",
       "3     9.3\n",
       "Name: Sales, dtype: float64"
      ]
     },
     "execution_count": 5,
     "metadata": {},
     "output_type": "execute_result"
    }
   ],
   "source": [
    "y.head(3)"
   ]
  },
  {
   "cell_type": "markdown",
   "metadata": {},
   "source": [
    "__Your Turn__\n",
    "\n",
    "- Use statsmodels.api to fit a linear regression model to this data."
   ]
  },
  {
   "cell_type": "code",
   "execution_count": 8,
   "metadata": {},
   "outputs": [
    {
     "data": {
      "text/html": [
       "<table class=\"simpletable\">\n",
       "<caption>OLS Regression Results</caption>\n",
       "<tr>\n",
       "  <th>Dep. Variable:</th>          <td>Sales</td>      <th>  R-squared:         </th> <td>   0.897</td>\n",
       "</tr>\n",
       "<tr>\n",
       "  <th>Model:</th>                   <td>OLS</td>       <th>  Adj. R-squared:    </th> <td>   0.896</td>\n",
       "</tr>\n",
       "<tr>\n",
       "  <th>Method:</th>             <td>Least Squares</td>  <th>  F-statistic:       </th> <td>   859.6</td>\n",
       "</tr>\n",
       "<tr>\n",
       "  <th>Date:</th>             <td>Thu, 25 Jun 2020</td> <th>  Prob (F-statistic):</th> <td>4.83e-98</td>\n",
       "</tr>\n",
       "<tr>\n",
       "  <th>Time:</th>                 <td>12:40:15</td>     <th>  Log-Likelihood:    </th> <td> -386.20</td>\n",
       "</tr>\n",
       "<tr>\n",
       "  <th>No. Observations:</th>      <td>   200</td>      <th>  AIC:               </th> <td>   778.4</td>\n",
       "</tr>\n",
       "<tr>\n",
       "  <th>Df Residuals:</th>          <td>   197</td>      <th>  BIC:               </th> <td>   788.3</td>\n",
       "</tr>\n",
       "<tr>\n",
       "  <th>Df Model:</th>              <td>     2</td>      <th>                     </th>     <td> </td>   \n",
       "</tr>\n",
       "<tr>\n",
       "  <th>Covariance Type:</th>      <td>nonrobust</td>    <th>                     </th>     <td> </td>   \n",
       "</tr>\n",
       "</table>\n",
       "<table class=\"simpletable\">\n",
       "<tr>\n",
       "    <td></td>       <th>coef</th>     <th>std err</th>      <th>t</th>      <th>P>|t|</th>  <th>[0.025</th>    <th>0.975]</th>  \n",
       "</tr>\n",
       "<tr>\n",
       "  <th>const</th> <td>    2.9211</td> <td>    0.294</td> <td>    9.919</td> <td> 0.000</td> <td>    2.340</td> <td>    3.502</td>\n",
       "</tr>\n",
       "<tr>\n",
       "  <th>TV</th>    <td>    0.0458</td> <td>    0.001</td> <td>   32.909</td> <td> 0.000</td> <td>    0.043</td> <td>    0.048</td>\n",
       "</tr>\n",
       "<tr>\n",
       "  <th>Radio</th> <td>    0.1880</td> <td>    0.008</td> <td>   23.382</td> <td> 0.000</td> <td>    0.172</td> <td>    0.204</td>\n",
       "</tr>\n",
       "</table>\n",
       "<table class=\"simpletable\">\n",
       "<tr>\n",
       "  <th>Omnibus:</th>       <td>60.022</td> <th>  Durbin-Watson:     </th> <td>   2.081</td>\n",
       "</tr>\n",
       "<tr>\n",
       "  <th>Prob(Omnibus):</th> <td> 0.000</td> <th>  Jarque-Bera (JB):  </th> <td> 148.679</td>\n",
       "</tr>\n",
       "<tr>\n",
       "  <th>Skew:</th>          <td>-1.323</td> <th>  Prob(JB):          </th> <td>5.19e-33</td>\n",
       "</tr>\n",
       "<tr>\n",
       "  <th>Kurtosis:</th>      <td> 6.292</td> <th>  Cond. No.          </th> <td>    425.</td>\n",
       "</tr>\n",
       "</table><br/><br/>Warnings:<br/>[1] Standard Errors assume that the covariance matrix of the errors is correctly specified."
      ],
      "text/plain": [
       "<class 'statsmodels.iolib.summary.Summary'>\n",
       "\"\"\"\n",
       "                            OLS Regression Results                            \n",
       "==============================================================================\n",
       "Dep. Variable:                  Sales   R-squared:                       0.897\n",
       "Model:                            OLS   Adj. R-squared:                  0.896\n",
       "Method:                 Least Squares   F-statistic:                     859.6\n",
       "Date:                Thu, 25 Jun 2020   Prob (F-statistic):           4.83e-98\n",
       "Time:                        12:40:15   Log-Likelihood:                -386.20\n",
       "No. Observations:                 200   AIC:                             778.4\n",
       "Df Residuals:                     197   BIC:                             788.3\n",
       "Df Model:                           2                                         \n",
       "Covariance Type:            nonrobust                                         \n",
       "==============================================================================\n",
       "                 coef    std err          t      P>|t|      [0.025      0.975]\n",
       "------------------------------------------------------------------------------\n",
       "const          2.9211      0.294      9.919      0.000       2.340       3.502\n",
       "TV             0.0458      0.001     32.909      0.000       0.043       0.048\n",
       "Radio          0.1880      0.008     23.382      0.000       0.172       0.204\n",
       "==============================================================================\n",
       "Omnibus:                       60.022   Durbin-Watson:                   2.081\n",
       "Prob(Omnibus):                  0.000   Jarque-Bera (JB):              148.679\n",
       "Skew:                          -1.323   Prob(JB):                     5.19e-33\n",
       "Kurtosis:                       6.292   Cond. No.                         425.\n",
       "==============================================================================\n",
       "\n",
       "Warnings:\n",
       "[1] Standard Errors assume that the covariance matrix of the errors is correctly specified.\n",
       "\"\"\""
      ]
     },
     "execution_count": 8,
     "metadata": {},
     "output_type": "execute_result"
    }
   ],
   "source": [
    "import statsmodels.api as sm\n",
    "model = sm.OLS(y,sm.add_constant(X)).fit()\n",
    "model.summary()"
   ]
  },
  {
   "cell_type": "markdown",
   "metadata": {},
   "source": [
    "__Your Turn__\n",
    "\n",
    "- Find y_predict (your predictions for the cities based on the model we fitted)"
   ]
  },
  {
   "cell_type": "code",
   "execution_count": 10,
   "metadata": {},
   "outputs": [],
   "source": [
    "y_predict = model.predict(sm.add_constant(X))"
   ]
  },
  {
   "cell_type": "markdown",
   "metadata": {},
   "source": [
    "__Your Turn__\n",
    "\n",
    "- Find residuals (The amount of error in your prediction for each city. Recall that the true values are in y)"
   ]
  },
  {
   "cell_type": "code",
   "execution_count": 11,
   "metadata": {},
   "outputs": [
    {
     "data": {
      "text/plain": [
       "1      1.544535\n",
       "2     -1.945362\n",
       "3     -3.037018\n",
       "4      0.882884\n",
       "5     -0.323908\n",
       "         ...   \n",
       "196    2.235488\n",
       "197    1.547625\n",
       "198    0.031952\n",
       "199    1.707077\n",
       "200   -1.757543\n",
       "Length: 200, dtype: float64"
      ]
     },
     "execution_count": 11,
     "metadata": {},
     "output_type": "execute_result"
    }
   ],
   "source": [
    "y-y_predict"
   ]
  },
  {
   "cell_type": "code",
   "execution_count": 12,
   "metadata": {},
   "outputs": [
    {
     "data": {
      "text/plain": [
       "1      1.544535\n",
       "2     -1.945362\n",
       "3     -3.037018\n",
       "4      0.882884\n",
       "5     -0.323908\n",
       "         ...   \n",
       "196    2.235488\n",
       "197    1.547625\n",
       "198    0.031952\n",
       "199    1.707077\n",
       "200   -1.757543\n",
       "Length: 200, dtype: float64"
      ]
     },
     "execution_count": 12,
     "metadata": {},
     "output_type": "execute_result"
    }
   ],
   "source": [
    "model.resid"
   ]
  },
  {
   "cell_type": "markdown",
   "metadata": {},
   "source": [
    "## Residual Plot"
   ]
  },
  {
   "cell_type": "code",
   "execution_count": 13,
   "metadata": {},
   "outputs": [],
   "source": [
    "residuals=model.resid"
   ]
  },
  {
   "cell_type": "code",
   "execution_count": 14,
   "metadata": {},
   "outputs": [
    {
     "data": {
      "image/png": "[encoded data removed]",
      "text/plain": [
       "<Figure size 432x288 with 1 Axes>"
      ]
     },
     "metadata": {
      "needs_background": "light"
     },
     "output_type": "display_data"
    }
   ],
   "source": [
    "plt.scatter(y_predict, residuals)\n",
    "plt.hlines(y = 0, xmin = y_predict.min(), xmax = y_predict.max())\n",
    "plt.title('Residual Plot for Advertising Dataset')\n",
    "plt.xlabel('On the x-axis we put predicted values for Sales')\n",
    "plt.ylabel('On the y-axis we put residuals (errors) for Sales')\n",
    "plt.show()"
   ]
  },
  {
   "cell_type": "markdown",
   "metadata": {},
   "source": [
    "### Linear Regression on Advertising Dataset - Visualization\n",
    "\n",
    "<img src = 'images/interaction.png' width = 550>\n",
    "\n",
    "Img Source: ISLR, p81"
   ]
  },
  {
   "cell_type": "markdown",
   "metadata": {},
   "source": [
    "## Adding Interaction Terms to the Model"
   ]
  },
  {
   "cell_type": "code",
   "execution_count": 15,
   "metadata": {},
   "outputs": [],
   "source": [
    "# Sklearn has PolynomialFeatures class for creating higher order terms in the data\n",
    "from sklearn.preprocessing import PolynomialFeatures"
   ]
  },
  {
   "cell_type": "markdown",
   "metadata": {},
   "source": [
    "Recall that when we imported the class PolynomialFeatures, we should instantiate it to be able to use it. \n",
    "\n",
    "__Important parameters__\n",
    "\n",
    "- Degree: Degrees of polynomials to be created. In our case we have $X_{1} = \\text{TV}$ and $X_{2} = \\text{Radio}$ \n",
    "\n",
    "if degree=2:\n",
    "\n",
    "$$X_{1}^{2}, X_{1}  X_{2},X_{2}^{2}$$ columns will be created.\n",
    "\n",
    "if degree=3:\n",
    "\n",
    "$$X_{1}^{2}, X_{1}^{3}, X_{1}X_{2}, X_{1}^{2}X_{2}, X_{1}X_{2}^{2}, X_{2}^{2}, X_{2}^{3}$$\n",
    "\n",
    "\n",
    "- Interaction only: It only adds interaction terms between the variables: \n",
    "\n",
    "\n",
    "$$ X_{1}X_{2} $$\n"
   ]
  },
  {
   "cell_type": "markdown",
   "metadata": {},
   "source": [
    "Now, to understand the effect of PolynomialFeatures let's work with the columns ['TV', 'Radio' 'Newspaper]. Later on for the final model we will exclude 'Newspaper'."
   ]
  },
  {
   "cell_type": "code",
   "execution_count": 16,
   "metadata": {},
   "outputs": [],
   "source": [
    "columns = ['TV', 'Radio', 'Newspaper']"
   ]
  },
  {
   "cell_type": "code",
   "execution_count": 26,
   "metadata": {},
   "outputs": [],
   "source": [
    "# Instantiate the PolynomialFeatures with some degree = 2\n",
    "pf = PolynomialFeatures(degree=2)"
   ]
  },
  {
   "cell_type": "code",
   "execution_count": 22,
   "metadata": {},
   "outputs": [],
   "source": [
    "p_data = pf.fit_transform(advertising[columns])\n",
    "#like std scalar\n",
    "#not transforming sales\n",
    "\n",
    "#ten columns\n",
    "#const\n",
    "#tv\n",
    "#tv2\n",
    "#radio\n",
    "#radio2\n",
    "#newspaper\n",
    "#newspaper2\n",
    "#tvradio\n",
    "#radionewspaper\n",
    "#tvnewspaper"
   ]
  },
  {
   "cell_type": "code",
   "execution_count": 23,
   "metadata": {},
   "outputs": [],
   "source": [
    "# PolynomialFeatures has a method that creates column names\n",
    "p_columns = pf.get_feature_names(input_features=columns)"
   ]
  },
  {
   "cell_type": "code",
   "execution_count": 24,
   "metadata": {},
   "outputs": [],
   "source": [
    "p_df = pd.DataFrame(p_data, columns=p_columns, index=y.index)"
   ]
  },
  {
   "cell_type": "code",
   "execution_count": 21,
   "metadata": {},
   "outputs": [
    {
     "data": {
      "text/html": [
       "<div>\n",
       "<style scoped>\n",
       "    .dataframe tbody tr th:only-of-type {\n",
       "        vertical-align: middle;\n",
       "    }\n",
       "\n",
       "    .dataframe tbody tr th {\n",
       "        vertical-align: top;\n",
       "    }\n",
       "\n",
       "    .dataframe thead th {\n",
       "        text-align: right;\n",
       "    }\n",
       "</style>\n",
       "<table border=\"1\" class=\"dataframe\">\n",
       "  <thead>\n",
       "    <tr style=\"text-align: right;\">\n",
       "      <th></th>\n",
       "      <th>1</th>\n",
       "      <th>TV</th>\n",
       "      <th>Radio</th>\n",
       "      <th>Newspaper</th>\n",
       "      <th>TV^2</th>\n",
       "      <th>TV Radio</th>\n",
       "      <th>TV Newspaper</th>\n",
       "      <th>Radio^2</th>\n",
       "      <th>Radio Newspaper</th>\n",
       "      <th>Newspaper^2</th>\n",
       "    </tr>\n",
       "  </thead>\n",
       "  <tbody>\n",
       "    <tr>\n",
       "      <th>1</th>\n",
       "      <td>1.0</td>\n",
       "      <td>230.1</td>\n",
       "      <td>37.8</td>\n",
       "      <td>69.2</td>\n",
       "      <td>52946.01</td>\n",
       "      <td>8697.78</td>\n",
       "      <td>15922.92</td>\n",
       "      <td>1428.84</td>\n",
       "      <td>2615.76</td>\n",
       "      <td>4788.64</td>\n",
       "    </tr>\n",
       "    <tr>\n",
       "      <th>2</th>\n",
       "      <td>1.0</td>\n",
       "      <td>44.5</td>\n",
       "      <td>39.3</td>\n",
       "      <td>45.1</td>\n",
       "      <td>1980.25</td>\n",
       "      <td>1748.85</td>\n",
       "      <td>2006.95</td>\n",
       "      <td>1544.49</td>\n",
       "      <td>1772.43</td>\n",
       "      <td>2034.01</td>\n",
       "    </tr>\n",
       "    <tr>\n",
       "      <th>3</th>\n",
       "      <td>1.0</td>\n",
       "      <td>17.2</td>\n",
       "      <td>45.9</td>\n",
       "      <td>69.3</td>\n",
       "      <td>295.84</td>\n",
       "      <td>789.48</td>\n",
       "      <td>1191.96</td>\n",
       "      <td>2106.81</td>\n",
       "      <td>3180.87</td>\n",
       "      <td>4802.49</td>\n",
       "    </tr>\n",
       "    <tr>\n",
       "      <th>4</th>\n",
       "      <td>1.0</td>\n",
       "      <td>151.5</td>\n",
       "      <td>41.3</td>\n",
       "      <td>58.5</td>\n",
       "      <td>22952.25</td>\n",
       "      <td>6256.95</td>\n",
       "      <td>8862.75</td>\n",
       "      <td>1705.69</td>\n",
       "      <td>2416.05</td>\n",
       "      <td>3422.25</td>\n",
       "    </tr>\n",
       "    <tr>\n",
       "      <th>5</th>\n",
       "      <td>1.0</td>\n",
       "      <td>180.8</td>\n",
       "      <td>10.8</td>\n",
       "      <td>58.4</td>\n",
       "      <td>32688.64</td>\n",
       "      <td>1952.64</td>\n",
       "      <td>10558.72</td>\n",
       "      <td>116.64</td>\n",
       "      <td>630.72</td>\n",
       "      <td>3410.56</td>\n",
       "    </tr>\n",
       "  </tbody>\n",
       "</table>\n",
       "</div>"
      ],
      "text/plain": [
       "     1     TV  Radio  Newspaper      TV^2  TV Radio  TV Newspaper  Radio^2  \\\n",
       "1  1.0  230.1   37.8       69.2  52946.01   8697.78      15922.92  1428.84   \n",
       "2  1.0   44.5   39.3       45.1   1980.25   1748.85       2006.95  1544.49   \n",
       "3  1.0   17.2   45.9       69.3    295.84    789.48       1191.96  2106.81   \n",
       "4  1.0  151.5   41.3       58.5  22952.25   6256.95       8862.75  1705.69   \n",
       "5  1.0  180.8   10.8       58.4  32688.64   1952.64      10558.72   116.64   \n",
       "\n",
       "   Radio Newspaper  Newspaper^2  \n",
       "1          2615.76      4788.64  \n",
       "2          1772.43      2034.01  \n",
       "3          3180.87      4802.49  \n",
       "4          2416.05      3422.25  \n",
       "5           630.72      3410.56  "
      ]
     },
     "execution_count": 21,
     "metadata": {},
     "output_type": "execute_result"
    }
   ],
   "source": [
    "p_df.head()"
   ]
  },
  {
   "cell_type": "markdown",
   "metadata": {},
   "source": [
    "__Your Turn__\n",
    "\n",
    "- Change the parameters and understand the effect of the parameters.\n",
    "\n",
    "1. make degree =3. How many columns added?\n",
    "\n",
    "2. set degree = 3 and interaction_only = True. How many columns now? What happened?\n",
    "\n",
    "3. Set degree = 10, how many columns do you have?\n",
    "\n"
   ]
  },
  {
   "cell_type": "code",
   "execution_count": 27,
   "metadata": {},
   "outputs": [
    {
     "data": {
      "text/plain": [
       "20"
      ]
     },
     "execution_count": 27,
     "metadata": {},
     "output_type": "execute_result"
    }
   ],
   "source": [
    "pf3 = PolynomialFeatures(degree=3)\n",
    "p3_data = pf3.fit_transform(advertising[columns])\n",
    "p3_columns = pf3.get_feature_names(input_features=columns)\n",
    "len(p3_columns)"
   ]
  },
  {
   "cell_type": "code",
   "execution_count": 29,
   "metadata": {},
   "outputs": [
    {
     "data": {
      "text/plain": [
       "['1',\n",
       " 'TV',\n",
       " 'Radio',\n",
       " 'Newspaper',\n",
       " 'TV^2',\n",
       " 'TV Radio',\n",
       " 'TV Newspaper',\n",
       " 'Radio^2',\n",
       " 'Radio Newspaper',\n",
       " 'Newspaper^2',\n",
       " 'TV^3',\n",
       " 'TV^2 Radio',\n",
       " 'TV^2 Newspaper',\n",
       " 'TV Radio^2',\n",
       " 'TV Radio Newspaper',\n",
       " 'TV Newspaper^2',\n",
       " 'Radio^3',\n",
       " 'Radio^2 Newspaper',\n",
       " 'Radio Newspaper^2',\n",
       " 'Newspaper^3',\n",
       " 'TV^4',\n",
       " 'TV^3 Radio',\n",
       " 'TV^3 Newspaper',\n",
       " 'TV^2 Radio^2',\n",
       " 'TV^2 Radio Newspaper',\n",
       " 'TV^2 Newspaper^2',\n",
       " 'TV Radio^3',\n",
       " 'TV Radio^2 Newspaper',\n",
       " 'TV Radio Newspaper^2',\n",
       " 'TV Newspaper^3',\n",
       " 'Radio^4',\n",
       " 'Radio^3 Newspaper',\n",
       " 'Radio^2 Newspaper^2',\n",
       " 'Radio Newspaper^3',\n",
       " 'Newspaper^4',\n",
       " 'TV^5',\n",
       " 'TV^4 Radio',\n",
       " 'TV^4 Newspaper',\n",
       " 'TV^3 Radio^2',\n",
       " 'TV^3 Radio Newspaper',\n",
       " 'TV^3 Newspaper^2',\n",
       " 'TV^2 Radio^3',\n",
       " 'TV^2 Radio^2 Newspaper',\n",
       " 'TV^2 Radio Newspaper^2',\n",
       " 'TV^2 Newspaper^3',\n",
       " 'TV Radio^4',\n",
       " 'TV Radio^3 Newspaper',\n",
       " 'TV Radio^2 Newspaper^2',\n",
       " 'TV Radio Newspaper^3',\n",
       " 'TV Newspaper^4',\n",
       " 'Radio^5',\n",
       " 'Radio^4 Newspaper',\n",
       " 'Radio^3 Newspaper^2',\n",
       " 'Radio^2 Newspaper^3',\n",
       " 'Radio Newspaper^4',\n",
       " 'Newspaper^5',\n",
       " 'TV^6',\n",
       " 'TV^5 Radio',\n",
       " 'TV^5 Newspaper',\n",
       " 'TV^4 Radio^2',\n",
       " 'TV^4 Radio Newspaper',\n",
       " 'TV^4 Newspaper^2',\n",
       " 'TV^3 Radio^3',\n",
       " 'TV^3 Radio^2 Newspaper',\n",
       " 'TV^3 Radio Newspaper^2',\n",
       " 'TV^3 Newspaper^3',\n",
       " 'TV^2 Radio^4',\n",
       " 'TV^2 Radio^3 Newspaper',\n",
       " 'TV^2 Radio^2 Newspaper^2',\n",
       " 'TV^2 Radio Newspaper^3',\n",
       " 'TV^2 Newspaper^4',\n",
       " 'TV Radio^5',\n",
       " 'TV Radio^4 Newspaper',\n",
       " 'TV Radio^3 Newspaper^2',\n",
       " 'TV Radio^2 Newspaper^3',\n",
       " 'TV Radio Newspaper^4',\n",
       " 'TV Newspaper^5',\n",
       " 'Radio^6',\n",
       " 'Radio^5 Newspaper',\n",
       " 'Radio^4 Newspaper^2',\n",
       " 'Radio^3 Newspaper^3',\n",
       " 'Radio^2 Newspaper^4',\n",
       " 'Radio Newspaper^5',\n",
       " 'Newspaper^6',\n",
       " 'TV^7',\n",
       " 'TV^6 Radio',\n",
       " 'TV^6 Newspaper',\n",
       " 'TV^5 Radio^2',\n",
       " 'TV^5 Radio Newspaper',\n",
       " 'TV^5 Newspaper^2',\n",
       " 'TV^4 Radio^3',\n",
       " 'TV^4 Radio^2 Newspaper',\n",
       " 'TV^4 Radio Newspaper^2',\n",
       " 'TV^4 Newspaper^3',\n",
       " 'TV^3 Radio^4',\n",
       " 'TV^3 Radio^3 Newspaper',\n",
       " 'TV^3 Radio^2 Newspaper^2',\n",
       " 'TV^3 Radio Newspaper^3',\n",
       " 'TV^3 Newspaper^4',\n",
       " 'TV^2 Radio^5',\n",
       " 'TV^2 Radio^4 Newspaper',\n",
       " 'TV^2 Radio^3 Newspaper^2',\n",
       " 'TV^2 Radio^2 Newspaper^3',\n",
       " 'TV^2 Radio Newspaper^4',\n",
       " 'TV^2 Newspaper^5',\n",
       " 'TV Radio^6',\n",
       " 'TV Radio^5 Newspaper',\n",
       " 'TV Radio^4 Newspaper^2',\n",
       " 'TV Radio^3 Newspaper^3',\n",
       " 'TV Radio^2 Newspaper^4',\n",
       " 'TV Radio Newspaper^5',\n",
       " 'TV Newspaper^6',\n",
       " 'Radio^7',\n",
       " 'Radio^6 Newspaper',\n",
       " 'Radio^5 Newspaper^2',\n",
       " 'Radio^4 Newspaper^3',\n",
       " 'Radio^3 Newspaper^4',\n",
       " 'Radio^2 Newspaper^5',\n",
       " 'Radio Newspaper^6',\n",
       " 'Newspaper^7',\n",
       " 'TV^8',\n",
       " 'TV^7 Radio',\n",
       " 'TV^7 Newspaper',\n",
       " 'TV^6 Radio^2',\n",
       " 'TV^6 Radio Newspaper',\n",
       " 'TV^6 Newspaper^2',\n",
       " 'TV^5 Radio^3',\n",
       " 'TV^5 Radio^2 Newspaper',\n",
       " 'TV^5 Radio Newspaper^2',\n",
       " 'TV^5 Newspaper^3',\n",
       " 'TV^4 Radio^4',\n",
       " 'TV^4 Radio^3 Newspaper',\n",
       " 'TV^4 Radio^2 Newspaper^2',\n",
       " 'TV^4 Radio Newspaper^3',\n",
       " 'TV^4 Newspaper^4',\n",
       " 'TV^3 Radio^5',\n",
       " 'TV^3 Radio^4 Newspaper',\n",
       " 'TV^3 Radio^3 Newspaper^2',\n",
       " 'TV^3 Radio^2 Newspaper^3',\n",
       " 'TV^3 Radio Newspaper^4',\n",
       " 'TV^3 Newspaper^5',\n",
       " 'TV^2 Radio^6',\n",
       " 'TV^2 Radio^5 Newspaper',\n",
       " 'TV^2 Radio^4 Newspaper^2',\n",
       " 'TV^2 Radio^3 Newspaper^3',\n",
       " 'TV^2 Radio^2 Newspaper^4',\n",
       " 'TV^2 Radio Newspaper^5',\n",
       " 'TV^2 Newspaper^6',\n",
       " 'TV Radio^7',\n",
       " 'TV Radio^6 Newspaper',\n",
       " 'TV Radio^5 Newspaper^2',\n",
       " 'TV Radio^4 Newspaper^3',\n",
       " 'TV Radio^3 Newspaper^4',\n",
       " 'TV Radio^2 Newspaper^5',\n",
       " 'TV Radio Newspaper^6',\n",
       " 'TV Newspaper^7',\n",
       " 'Radio^8',\n",
       " 'Radio^7 Newspaper',\n",
       " 'Radio^6 Newspaper^2',\n",
       " 'Radio^5 Newspaper^3',\n",
       " 'Radio^4 Newspaper^4',\n",
       " 'Radio^3 Newspaper^5',\n",
       " 'Radio^2 Newspaper^6',\n",
       " 'Radio Newspaper^7',\n",
       " 'Newspaper^8',\n",
       " 'TV^9',\n",
       " 'TV^8 Radio',\n",
       " 'TV^8 Newspaper',\n",
       " 'TV^7 Radio^2',\n",
       " 'TV^7 Radio Newspaper',\n",
       " 'TV^7 Newspaper^2',\n",
       " 'TV^6 Radio^3',\n",
       " 'TV^6 Radio^2 Newspaper',\n",
       " 'TV^6 Radio Newspaper^2',\n",
       " 'TV^6 Newspaper^3',\n",
       " 'TV^5 Radio^4',\n",
       " 'TV^5 Radio^3 Newspaper',\n",
       " 'TV^5 Radio^2 Newspaper^2',\n",
       " 'TV^5 Radio Newspaper^3',\n",
       " 'TV^5 Newspaper^4',\n",
       " 'TV^4 Radio^5',\n",
       " 'TV^4 Radio^4 Newspaper',\n",
       " 'TV^4 Radio^3 Newspaper^2',\n",
       " 'TV^4 Radio^2 Newspaper^3',\n",
       " 'TV^4 Radio Newspaper^4',\n",
       " 'TV^4 Newspaper^5',\n",
       " 'TV^3 Radio^6',\n",
       " 'TV^3 Radio^5 Newspaper',\n",
       " 'TV^3 Radio^4 Newspaper^2',\n",
       " 'TV^3 Radio^3 Newspaper^3',\n",
       " 'TV^3 Radio^2 Newspaper^4',\n",
       " 'TV^3 Radio Newspaper^5',\n",
       " 'TV^3 Newspaper^6',\n",
       " 'TV^2 Radio^7',\n",
       " 'TV^2 Radio^6 Newspaper',\n",
       " 'TV^2 Radio^5 Newspaper^2',\n",
       " 'TV^2 Radio^4 Newspaper^3',\n",
       " 'TV^2 Radio^3 Newspaper^4',\n",
       " 'TV^2 Radio^2 Newspaper^5',\n",
       " 'TV^2 Radio Newspaper^6',\n",
       " 'TV^2 Newspaper^7',\n",
       " 'TV Radio^8',\n",
       " 'TV Radio^7 Newspaper',\n",
       " 'TV Radio^6 Newspaper^2',\n",
       " 'TV Radio^5 Newspaper^3',\n",
       " 'TV Radio^4 Newspaper^4',\n",
       " 'TV Radio^3 Newspaper^5',\n",
       " 'TV Radio^2 Newspaper^6',\n",
       " 'TV Radio Newspaper^7',\n",
       " 'TV Newspaper^8',\n",
       " 'Radio^9',\n",
       " 'Radio^8 Newspaper',\n",
       " 'Radio^7 Newspaper^2',\n",
       " 'Radio^6 Newspaper^3',\n",
       " 'Radio^5 Newspaper^4',\n",
       " 'Radio^4 Newspaper^5',\n",
       " 'Radio^3 Newspaper^6',\n",
       " 'Radio^2 Newspaper^7',\n",
       " 'Radio Newspaper^8',\n",
       " 'Newspaper^9',\n",
       " 'TV^10',\n",
       " 'TV^9 Radio',\n",
       " 'TV^9 Newspaper',\n",
       " 'TV^8 Radio^2',\n",
       " 'TV^8 Radio Newspaper',\n",
       " 'TV^8 Newspaper^2',\n",
       " 'TV^7 Radio^3',\n",
       " 'TV^7 Radio^2 Newspaper',\n",
       " 'TV^7 Radio Newspaper^2',\n",
       " 'TV^7 Newspaper^3',\n",
       " 'TV^6 Radio^4',\n",
       " 'TV^6 Radio^3 Newspaper',\n",
       " 'TV^6 Radio^2 Newspaper^2',\n",
       " 'TV^6 Radio Newspaper^3',\n",
       " 'TV^6 Newspaper^4',\n",
       " 'TV^5 Radio^5',\n",
       " 'TV^5 Radio^4 Newspaper',\n",
       " 'TV^5 Radio^3 Newspaper^2',\n",
       " 'TV^5 Radio^2 Newspaper^3',\n",
       " 'TV^5 Radio Newspaper^4',\n",
       " 'TV^5 Newspaper^5',\n",
       " 'TV^4 Radio^6',\n",
       " 'TV^4 Radio^5 Newspaper',\n",
       " 'TV^4 Radio^4 Newspaper^2',\n",
       " 'TV^4 Radio^3 Newspaper^3',\n",
       " 'TV^4 Radio^2 Newspaper^4',\n",
       " 'TV^4 Radio Newspaper^5',\n",
       " 'TV^4 Newspaper^6',\n",
       " 'TV^3 Radio^7',\n",
       " 'TV^3 Radio^6 Newspaper',\n",
       " 'TV^3 Radio^5 Newspaper^2',\n",
       " 'TV^3 Radio^4 Newspaper^3',\n",
       " 'TV^3 Radio^3 Newspaper^4',\n",
       " 'TV^3 Radio^2 Newspaper^5',\n",
       " 'TV^3 Radio Newspaper^6',\n",
       " 'TV^3 Newspaper^7',\n",
       " 'TV^2 Radio^8',\n",
       " 'TV^2 Radio^7 Newspaper',\n",
       " 'TV^2 Radio^6 Newspaper^2',\n",
       " 'TV^2 Radio^5 Newspaper^3',\n",
       " 'TV^2 Radio^4 Newspaper^4',\n",
       " 'TV^2 Radio^3 Newspaper^5',\n",
       " 'TV^2 Radio^2 Newspaper^6',\n",
       " 'TV^2 Radio Newspaper^7',\n",
       " 'TV^2 Newspaper^8',\n",
       " 'TV Radio^9',\n",
       " 'TV Radio^8 Newspaper',\n",
       " 'TV Radio^7 Newspaper^2',\n",
       " 'TV Radio^6 Newspaper^3',\n",
       " 'TV Radio^5 Newspaper^4',\n",
       " 'TV Radio^4 Newspaper^5',\n",
       " 'TV Radio^3 Newspaper^6',\n",
       " 'TV Radio^2 Newspaper^7',\n",
       " 'TV Radio Newspaper^8',\n",
       " 'TV Newspaper^9',\n",
       " 'Radio^10',\n",
       " 'Radio^9 Newspaper',\n",
       " 'Radio^8 Newspaper^2',\n",
       " 'Radio^7 Newspaper^3',\n",
       " 'Radio^6 Newspaper^4',\n",
       " 'Radio^5 Newspaper^5',\n",
       " 'Radio^4 Newspaper^6',\n",
       " 'Radio^3 Newspaper^7',\n",
       " 'Radio^2 Newspaper^8',\n",
       " 'Radio Newspaper^9',\n",
       " 'Newspaper^10']"
      ]
     },
     "execution_count": 29,
     "metadata": {},
     "output_type": "execute_result"
    }
   ],
   "source": [
    "pf10 = PolynomialFeatures(degree=10)\n",
    "p10_data = pf10.fit_transform(advertising[columns])\n",
    "p10_columns = pf10.get_feature_names(input_features=columns)\n",
    "len(p10_columns)\n",
    "p10_columns"
   ]
  },
  {
   "cell_type": "markdown",
   "metadata": {},
   "source": [
    "## Fitting a Linear Regression Model with Polynomial Features\n",
    "\n",
    "Now let's use degree =2 and interaction_only = True and see whether this improves our model."
   ]
  },
  {
   "cell_type": "code",
   "execution_count": null,
   "metadata": {},
   "outputs": [],
   "source": [
    "# This time, only use TV and Radio"
   ]
  },
  {
   "cell_type": "code",
   "execution_count": 30,
   "metadata": {},
   "outputs": [
    {
     "data": {
      "text/html": [
       "<div>\n",
       "<style scoped>\n",
       "    .dataframe tbody tr th:only-of-type {\n",
       "        vertical-align: middle;\n",
       "    }\n",
       "\n",
       "    .dataframe tbody tr th {\n",
       "        vertical-align: top;\n",
       "    }\n",
       "\n",
       "    .dataframe thead th {\n",
       "        text-align: right;\n",
       "    }\n",
       "</style>\n",
       "<table border=\"1\" class=\"dataframe\">\n",
       "  <thead>\n",
       "    <tr style=\"text-align: right;\">\n",
       "      <th></th>\n",
       "      <th>1</th>\n",
       "      <th>TV</th>\n",
       "      <th>Radio</th>\n",
       "      <th>TV Radio</th>\n",
       "    </tr>\n",
       "  </thead>\n",
       "  <tbody>\n",
       "    <tr>\n",
       "      <th>1</th>\n",
       "      <td>1.0</td>\n",
       "      <td>230.1</td>\n",
       "      <td>37.8</td>\n",
       "      <td>8697.78</td>\n",
       "    </tr>\n",
       "    <tr>\n",
       "      <th>2</th>\n",
       "      <td>1.0</td>\n",
       "      <td>44.5</td>\n",
       "      <td>39.3</td>\n",
       "      <td>1748.85</td>\n",
       "    </tr>\n",
       "    <tr>\n",
       "      <th>3</th>\n",
       "      <td>1.0</td>\n",
       "      <td>17.2</td>\n",
       "      <td>45.9</td>\n",
       "      <td>789.48</td>\n",
       "    </tr>\n",
       "    <tr>\n",
       "      <th>4</th>\n",
       "      <td>1.0</td>\n",
       "      <td>151.5</td>\n",
       "      <td>41.3</td>\n",
       "      <td>6256.95</td>\n",
       "    </tr>\n",
       "    <tr>\n",
       "      <th>5</th>\n",
       "      <td>1.0</td>\n",
       "      <td>180.8</td>\n",
       "      <td>10.8</td>\n",
       "      <td>1952.64</td>\n",
       "    </tr>\n",
       "  </tbody>\n",
       "</table>\n",
       "</div>"
      ],
      "text/plain": [
       "     1     TV  Radio  TV Radio\n",
       "1  1.0  230.1   37.8   8697.78\n",
       "2  1.0   44.5   39.3   1748.85\n",
       "3  1.0   17.2   45.9    789.48\n",
       "4  1.0  151.5   41.3   6256.95\n",
       "5  1.0  180.8   10.8   1952.64"
      ]
     },
     "execution_count": 30,
     "metadata": {},
     "output_type": "execute_result"
    }
   ],
   "source": [
    "pf = PolynomialFeatures(degree=2, interaction_only=True)\n",
    "\n",
    "final_data = pf.fit_transform(advertising[['TV', 'Radio']])\n",
    "\n",
    "final_cols = pf.get_feature_names(input_features=['TV', 'Radio'])\n",
    "final_df = pd.DataFrame(final_data, columns=final_cols, index=y.index)\n",
    "\n",
    "final_df.head()"
   ]
  },
  {
   "cell_type": "code",
   "execution_count": 31,
   "metadata": {},
   "outputs": [],
   "source": [
    "model = sm.OLS(y, final_df)"
   ]
  },
  {
   "cell_type": "code",
   "execution_count": 32,
   "metadata": {},
   "outputs": [],
   "source": [
    "final_model_fitted = model.fit()"
   ]
  },
  {
   "cell_type": "code",
   "execution_count": 33,
   "metadata": {},
   "outputs": [
    {
     "data": {
      "text/html": [
       "<table class=\"simpletable\">\n",
       "<caption>OLS Regression Results</caption>\n",
       "<tr>\n",
       "  <th>Dep. Variable:</th>          <td>Sales</td>      <th>  R-squared:         </th> <td>   0.968</td> \n",
       "</tr>\n",
       "<tr>\n",
       "  <th>Model:</th>                   <td>OLS</td>       <th>  Adj. R-squared:    </th> <td>   0.967</td> \n",
       "</tr>\n",
       "<tr>\n",
       "  <th>Method:</th>             <td>Least Squares</td>  <th>  F-statistic:       </th> <td>   1963.</td> \n",
       "</tr>\n",
       "<tr>\n",
       "  <th>Date:</th>             <td>Thu, 25 Jun 2020</td> <th>  Prob (F-statistic):</th> <td>6.68e-146</td>\n",
       "</tr>\n",
       "<tr>\n",
       "  <th>Time:</th>                 <td>13:08:48</td>     <th>  Log-Likelihood:    </th> <td> -270.14</td> \n",
       "</tr>\n",
       "<tr>\n",
       "  <th>No. Observations:</th>      <td>   200</td>      <th>  AIC:               </th> <td>   548.3</td> \n",
       "</tr>\n",
       "<tr>\n",
       "  <th>Df Residuals:</th>          <td>   196</td>      <th>  BIC:               </th> <td>   561.5</td> \n",
       "</tr>\n",
       "<tr>\n",
       "  <th>Df Model:</th>              <td>     3</td>      <th>                     </th>     <td> </td>    \n",
       "</tr>\n",
       "<tr>\n",
       "  <th>Covariance Type:</th>      <td>nonrobust</td>    <th>                     </th>     <td> </td>    \n",
       "</tr>\n",
       "</table>\n",
       "<table class=\"simpletable\">\n",
       "<tr>\n",
       "      <td></td>        <th>coef</th>     <th>std err</th>      <th>t</th>      <th>P>|t|</th>  <th>[0.025</th>    <th>0.975]</th>  \n",
       "</tr>\n",
       "<tr>\n",
       "  <th>1</th>        <td>    6.7502</td> <td>    0.248</td> <td>   27.233</td> <td> 0.000</td> <td>    6.261</td> <td>    7.239</td>\n",
       "</tr>\n",
       "<tr>\n",
       "  <th>TV</th>       <td>    0.0191</td> <td>    0.002</td> <td>   12.699</td> <td> 0.000</td> <td>    0.016</td> <td>    0.022</td>\n",
       "</tr>\n",
       "<tr>\n",
       "  <th>Radio</th>    <td>    0.0289</td> <td>    0.009</td> <td>    3.241</td> <td> 0.001</td> <td>    0.011</td> <td>    0.046</td>\n",
       "</tr>\n",
       "<tr>\n",
       "  <th>TV Radio</th> <td>    0.0011</td> <td> 5.24e-05</td> <td>   20.727</td> <td> 0.000</td> <td>    0.001</td> <td>    0.001</td>\n",
       "</tr>\n",
       "</table>\n",
       "<table class=\"simpletable\">\n",
       "<tr>\n",
       "  <th>Omnibus:</th>       <td>128.132</td> <th>  Durbin-Watson:     </th> <td>   2.224</td> \n",
       "</tr>\n",
       "<tr>\n",
       "  <th>Prob(Omnibus):</th> <td> 0.000</td>  <th>  Jarque-Bera (JB):  </th> <td>1183.719</td> \n",
       "</tr>\n",
       "<tr>\n",
       "  <th>Skew:</th>          <td>-2.323</td>  <th>  Prob(JB):          </th> <td>9.09e-258</td>\n",
       "</tr>\n",
       "<tr>\n",
       "  <th>Kurtosis:</th>      <td>13.975</td>  <th>  Cond. No.          </th> <td>1.80e+04</td> \n",
       "</tr>\n",
       "</table><br/><br/>Warnings:<br/>[1] Standard Errors assume that the covariance matrix of the errors is correctly specified.<br/>[2] The condition number is large, 1.8e+04. This might indicate that there are<br/>strong multicollinearity or other numerical problems."
      ],
      "text/plain": [
       "<class 'statsmodels.iolib.summary.Summary'>\n",
       "\"\"\"\n",
       "                            OLS Regression Results                            \n",
       "==============================================================================\n",
       "Dep. Variable:                  Sales   R-squared:                       0.968\n",
       "Model:                            OLS   Adj. R-squared:                  0.967\n",
       "Method:                 Least Squares   F-statistic:                     1963.\n",
       "Date:                Thu, 25 Jun 2020   Prob (F-statistic):          6.68e-146\n",
       "Time:                        13:08:48   Log-Likelihood:                -270.14\n",
       "No. Observations:                 200   AIC:                             548.3\n",
       "Df Residuals:                     196   BIC:                             561.5\n",
       "Df Model:                           3                                         \n",
       "Covariance Type:            nonrobust                                         \n",
       "==============================================================================\n",
       "                 coef    std err          t      P>|t|      [0.025      0.975]\n",
       "------------------------------------------------------------------------------\n",
       "1              6.7502      0.248     27.233      0.000       6.261       7.239\n",
       "TV             0.0191      0.002     12.699      0.000       0.016       0.022\n",
       "Radio          0.0289      0.009      3.241      0.001       0.011       0.046\n",
       "TV Radio       0.0011   5.24e-05     20.727      0.000       0.001       0.001\n",
       "==============================================================================\n",
       "Omnibus:                      128.132   Durbin-Watson:                   2.224\n",
       "Prob(Omnibus):                  0.000   Jarque-Bera (JB):             1183.719\n",
       "Skew:                          -2.323   Prob(JB):                    9.09e-258\n",
       "Kurtosis:                      13.975   Cond. No.                     1.80e+04\n",
       "==============================================================================\n",
       "\n",
       "Warnings:\n",
       "[1] Standard Errors assume that the covariance matrix of the errors is correctly specified.\n",
       "[2] The condition number is large, 1.8e+04. This might indicate that there are\n",
       "strong multicollinearity or other numerical problems.\n",
       "\"\"\""
      ]
     },
     "execution_count": 33,
     "metadata": {},
     "output_type": "execute_result"
    }
   ],
   "source": [
    "final_model_fitted.summary()"
   ]
  },
  {
   "cell_type": "markdown",
   "metadata": {},
   "source": [
    "## Residuals for the linear model with interactions"
   ]
  },
  {
   "cell_type": "code",
   "execution_count": 34,
   "metadata": {},
   "outputs": [],
   "source": [
    "y_predict = final_model_fitted.predict(final_df)"
   ]
  },
  {
   "cell_type": "code",
   "execution_count": 35,
   "metadata": {},
   "outputs": [],
   "source": [
    "residuals = y - y_predict"
   ]
  },
  {
   "cell_type": "code",
   "execution_count": 36,
   "metadata": {},
   "outputs": [
    {
     "data": {
      "image/png": "[encoded data removed]",
      "text/plain": [
       "<Figure size 432x288 with 1 Axes>"
      ]
     },
     "metadata": {
      "needs_background": "light"
     },
     "output_type": "display_data"
    }
   ],
   "source": [
    "plt.scatter(y_predict, residuals)\n",
    "plt.hlines(y = 0, xmin = y_predict.min(), xmax = y_predict.max())\n",
    "plt.title('Residual Plot for Advertising Dataset')\n",
    "plt.xlabel('Predicted values for Sales')\n",
    "plt.ylabel('Residuals (errors) for Sales')\n",
    "plt.show()"
   ]
  },
  {
   "cell_type": "markdown",
   "metadata": {},
   "source": [
    "__Your Turn__\n",
    "\n",
    "- We still see some pattern in the residuals.\n",
    "\n",
    "- Create different datasets by changing the parameters in polynomial_features. \n",
    "\n",
    "- Can you improve this model?\n"
   ]
  },
  {
   "cell_type": "code",
   "execution_count": 43,
   "metadata": {},
   "outputs": [
    {
     "data": {
      "image/png": "[encoded data removed]",
      "text/plain": [
       "<Figure size 432x288 with 1 Axes>"
      ]
     },
     "metadata": {
      "needs_background": "light"
     },
     "output_type": "display_data"
    }
   ],
   "source": [
    "pf = PolynomialFeatures(degree=3, interaction_only=False)\n",
    "#pf does add constant for us\n",
    "\n",
    "final_data = pf.fit_transform(advertising[['TV', 'Radio']])\n",
    "\n",
    "final_cols = pf.get_feature_names(input_features=['TV', 'Radio'])\n",
    "final_df = pd.DataFrame(final_data, columns=final_cols, index=y.index)\n",
    "\n",
    "model = sm.OLS(y, final_df)\n",
    "final_model_fitted = model.fit()\n",
    "y_predict = final_model_fitted.predict(final_df)\n",
    "residuals = y - y_predict\n",
    "\n",
    "plt.scatter(y_predict, residuals)\n",
    "plt.hlines(y = 0, xmin = y_predict.min(), xmax = y_predict.max())\n",
    "plt.title('Residual Plot for Advertising Dataset')\n",
    "plt.xlabel('Predicted values for Sales')\n",
    "plt.ylabel('Residuals (errors) for Sales')\n",
    "plt.show()\n"
   ]
  },
  {
   "cell_type": "code",
   "execution_count": 44,
   "metadata": {},
   "outputs": [
    {
     "data": {
      "text/html": [
       "<table class=\"simpletable\">\n",
       "<caption>OLS Regression Results</caption>\n",
       "<tr>\n",
       "  <th>Dep. Variable:</th>          <td>Sales</td>      <th>  R-squared:         </th> <td>   0.991</td> \n",
       "</tr>\n",
       "<tr>\n",
       "  <th>Model:</th>                   <td>OLS</td>       <th>  Adj. R-squared:    </th> <td>   0.991</td> \n",
       "</tr>\n",
       "<tr>\n",
       "  <th>Method:</th>             <td>Least Squares</td>  <th>  F-statistic:       </th> <td>   2369.</td> \n",
       "</tr>\n",
       "<tr>\n",
       "  <th>Date:</th>             <td>Thu, 25 Jun 2020</td> <th>  Prob (F-statistic):</th> <td>5.75e-190</td>\n",
       "</tr>\n",
       "<tr>\n",
       "  <th>Time:</th>                 <td>13:20:00</td>     <th>  Log-Likelihood:    </th> <td> -140.77</td> \n",
       "</tr>\n",
       "<tr>\n",
       "  <th>No. Observations:</th>      <td>   200</td>      <th>  AIC:               </th> <td>   301.5</td> \n",
       "</tr>\n",
       "<tr>\n",
       "  <th>Df Residuals:</th>          <td>   190</td>      <th>  BIC:               </th> <td>   334.5</td> \n",
       "</tr>\n",
       "<tr>\n",
       "  <th>Df Model:</th>              <td>     9</td>      <th>                     </th>     <td> </td>    \n",
       "</tr>\n",
       "<tr>\n",
       "  <th>Covariance Type:</th>      <td>nonrobust</td>    <th>                     </th>     <td> </td>    \n",
       "</tr>\n",
       "</table>\n",
       "<table class=\"simpletable\">\n",
       "<tr>\n",
       "       <td></td>         <th>coef</th>     <th>std err</th>      <th>t</th>      <th>P>|t|</th>  <th>[0.025</th>    <th>0.975]</th>  \n",
       "</tr>\n",
       "<tr>\n",
       "  <th>1</th>          <td>    4.2829</td> <td>    0.259</td> <td>   16.508</td> <td> 0.000</td> <td>    3.771</td> <td>    4.795</td>\n",
       "</tr>\n",
       "<tr>\n",
       "  <th>TV</th>         <td>    0.0854</td> <td>    0.005</td> <td>   17.455</td> <td> 0.000</td> <td>    0.076</td> <td>    0.095</td>\n",
       "</tr>\n",
       "<tr>\n",
       "  <th>Radio</th>      <td>    0.0425</td> <td>    0.027</td> <td>    1.586</td> <td> 0.114</td> <td>   -0.010</td> <td>    0.095</td>\n",
       "</tr>\n",
       "<tr>\n",
       "  <th>TV^2</th>       <td>   -0.0004</td> <td> 3.25e-05</td> <td>  -12.892</td> <td> 0.000</td> <td>   -0.000</td> <td>   -0.000</td>\n",
       "</tr>\n",
       "<tr>\n",
       "  <th>TV Radio</th>   <td>    0.0012</td> <td>    0.000</td> <td>    8.108</td> <td> 0.000</td> <td>    0.001</td> <td>    0.002</td>\n",
       "</tr>\n",
       "<tr>\n",
       "  <th>Radio^2</th>    <td>   -0.0008</td> <td>    0.001</td> <td>   -0.680</td> <td> 0.497</td> <td>   -0.003</td> <td>    0.001</td>\n",
       "</tr>\n",
       "<tr>\n",
       "  <th>TV^3</th>       <td> 7.349e-07</td> <td> 7.08e-08</td> <td>   10.386</td> <td> 0.000</td> <td> 5.95e-07</td> <td> 8.75e-07</td>\n",
       "</tr>\n",
       "<tr>\n",
       "  <th>TV^2 Radio</th> <td>-6.701e-07</td> <td> 3.78e-07</td> <td>   -1.775</td> <td> 0.078</td> <td>-1.42e-06</td> <td> 7.48e-08</td>\n",
       "</tr>\n",
       "<tr>\n",
       "  <th>TV Radio^2</th> <td>-2.867e-07</td> <td> 2.26e-06</td> <td>   -0.127</td> <td> 0.899</td> <td>-4.75e-06</td> <td> 4.17e-06</td>\n",
       "</tr>\n",
       "<tr>\n",
       "  <th>Radio^3</th>    <td> 1.306e-05</td> <td> 1.52e-05</td> <td>    0.860</td> <td> 0.391</td> <td>-1.69e-05</td> <td>  4.3e-05</td>\n",
       "</tr>\n",
       "</table>\n",
       "<table class=\"simpletable\">\n",
       "<tr>\n",
       "  <th>Omnibus:</th>       <td>170.571</td> <th>  Durbin-Watson:     </th> <td>   2.240</td>\n",
       "</tr>\n",
       "<tr>\n",
       "  <th>Prob(Omnibus):</th> <td> 0.000</td>  <th>  Jarque-Bera (JB):  </th> <td>4776.650</td>\n",
       "</tr>\n",
       "<tr>\n",
       "  <th>Skew:</th>          <td>-2.936</td>  <th>  Prob(JB):          </th> <td>    0.00</td>\n",
       "</tr>\n",
       "<tr>\n",
       "  <th>Kurtosis:</th>      <td>26.210</td>  <th>  Cond. No.          </th> <td>7.01e+07</td>\n",
       "</tr>\n",
       "</table><br/><br/>Warnings:<br/>[1] Standard Errors assume that the covariance matrix of the errors is correctly specified.<br/>[2] The condition number is large, 7.01e+07. This might indicate that there are<br/>strong multicollinearity or other numerical problems."
      ],
      "text/plain": [
       "<class 'statsmodels.iolib.summary.Summary'>\n",
       "\"\"\"\n",
       "                            OLS Regression Results                            \n",
       "==============================================================================\n",
       "Dep. Variable:                  Sales   R-squared:                       0.991\n",
       "Model:                            OLS   Adj. R-squared:                  0.991\n",
       "Method:                 Least Squares   F-statistic:                     2369.\n",
       "Date:                Thu, 25 Jun 2020   Prob (F-statistic):          5.75e-190\n",
       "Time:                        13:20:00   Log-Likelihood:                -140.77\n",
       "No. Observations:                 200   AIC:                             301.5\n",
       "Df Residuals:                     190   BIC:                             334.5\n",
       "Df Model:                           9                                         \n",
       "Covariance Type:            nonrobust                                         \n",
       "==============================================================================\n",
       "                 coef    std err          t      P>|t|      [0.025      0.975]\n",
       "------------------------------------------------------------------------------\n",
       "1              4.2829      0.259     16.508      0.000       3.771       4.795\n",
       "TV             0.0854      0.005     17.455      0.000       0.076       0.095\n",
       "Radio          0.0425      0.027      1.586      0.114      -0.010       0.095\n",
       "TV^2          -0.0004   3.25e-05    -12.892      0.000      -0.000      -0.000\n",
       "TV Radio       0.0012      0.000      8.108      0.000       0.001       0.002\n",
       "Radio^2       -0.0008      0.001     -0.680      0.497      -0.003       0.001\n",
       "TV^3        7.349e-07   7.08e-08     10.386      0.000    5.95e-07    8.75e-07\n",
       "TV^2 Radio -6.701e-07   3.78e-07     -1.775      0.078   -1.42e-06    7.48e-08\n",
       "TV Radio^2 -2.867e-07   2.26e-06     -0.127      0.899   -4.75e-06    4.17e-06\n",
       "Radio^3     1.306e-05   1.52e-05      0.860      0.391   -1.69e-05     4.3e-05\n",
       "==============================================================================\n",
       "Omnibus:                      170.571   Durbin-Watson:                   2.240\n",
       "Prob(Omnibus):                  0.000   Jarque-Bera (JB):             4776.650\n",
       "Skew:                          -2.936   Prob(JB):                         0.00\n",
       "Kurtosis:                      26.210   Cond. No.                     7.01e+07\n",
       "==============================================================================\n",
       "\n",
       "Warnings:\n",
       "[1] Standard Errors assume that the covariance matrix of the errors is correctly specified.\n",
       "[2] The condition number is large, 7.01e+07. This might indicate that there are\n",
       "strong multicollinearity or other numerical problems.\n",
       "\"\"\""
      ]
     },
     "execution_count": 44,
     "metadata": {},
     "output_type": "execute_result"
    }
   ],
   "source": [
    "final_model_fitted.summary()"
   ]
  },
  {
   "cell_type": "markdown",
   "metadata": {},
   "source": [
    "## Bonus: R-style formulas\n",
    "Many models are based on [R-style](http://r-statistics.co/Linear-Regression.html) regression formulas.  Statsmodels can help with this!"
   ]
  },
  {
   "cell_type": "code",
   "execution_count": 45,
   "metadata": {},
   "outputs": [],
   "source": [
    "import statsmodels.formula.api as smf"
   ]
  },
  {
   "cell_type": "code",
   "execution_count": 50,
   "metadata": {},
   "outputs": [
    {
     "data": {
      "text/html": [
       "<table class=\"simpletable\">\n",
       "<caption>OLS Regression Results</caption>\n",
       "<tr>\n",
       "  <th>Dep. Variable:</th>          <td>Sales</td>      <th>  R-squared:         </th> <td>   0.968</td> \n",
       "</tr>\n",
       "<tr>\n",
       "  <th>Model:</th>                   <td>OLS</td>       <th>  Adj. R-squared:    </th> <td>   0.967</td> \n",
       "</tr>\n",
       "<tr>\n",
       "  <th>Method:</th>             <td>Least Squares</td>  <th>  F-statistic:       </th> <td>   1963.</td> \n",
       "</tr>\n",
       "<tr>\n",
       "  <th>Date:</th>             <td>Thu, 25 Jun 2020</td> <th>  Prob (F-statistic):</th> <td>6.68e-146</td>\n",
       "</tr>\n",
       "<tr>\n",
       "  <th>Time:</th>                 <td>13:31:14</td>     <th>  Log-Likelihood:    </th> <td> -270.14</td> \n",
       "</tr>\n",
       "<tr>\n",
       "  <th>No. Observations:</th>      <td>   200</td>      <th>  AIC:               </th> <td>   548.3</td> \n",
       "</tr>\n",
       "<tr>\n",
       "  <th>Df Residuals:</th>          <td>   196</td>      <th>  BIC:               </th> <td>   561.5</td> \n",
       "</tr>\n",
       "<tr>\n",
       "  <th>Df Model:</th>              <td>     3</td>      <th>                     </th>     <td> </td>    \n",
       "</tr>\n",
       "<tr>\n",
       "  <th>Covariance Type:</th>      <td>nonrobust</td>    <th>                     </th>     <td> </td>    \n",
       "</tr>\n",
       "</table>\n",
       "<table class=\"simpletable\">\n",
       "<tr>\n",
       "      <td></td>         <th>coef</th>     <th>std err</th>      <th>t</th>      <th>P>|t|</th>  <th>[0.025</th>    <th>0.975]</th>  \n",
       "</tr>\n",
       "<tr>\n",
       "  <th>Intercept</th> <td>    6.7502</td> <td>    0.248</td> <td>   27.233</td> <td> 0.000</td> <td>    6.261</td> <td>    7.239</td>\n",
       "</tr>\n",
       "<tr>\n",
       "  <th>TV</th>        <td>    0.0191</td> <td>    0.002</td> <td>   12.699</td> <td> 0.000</td> <td>    0.016</td> <td>    0.022</td>\n",
       "</tr>\n",
       "<tr>\n",
       "  <th>Radio</th>     <td>    0.0289</td> <td>    0.009</td> <td>    3.241</td> <td> 0.001</td> <td>    0.011</td> <td>    0.046</td>\n",
       "</tr>\n",
       "<tr>\n",
       "  <th>TV:Radio</th>  <td>    0.0011</td> <td> 5.24e-05</td> <td>   20.727</td> <td> 0.000</td> <td>    0.001</td> <td>    0.001</td>\n",
       "</tr>\n",
       "</table>\n",
       "<table class=\"simpletable\">\n",
       "<tr>\n",
       "  <th>Omnibus:</th>       <td>128.132</td> <th>  Durbin-Watson:     </th> <td>   2.224</td> \n",
       "</tr>\n",
       "<tr>\n",
       "  <th>Prob(Omnibus):</th> <td> 0.000</td>  <th>  Jarque-Bera (JB):  </th> <td>1183.719</td> \n",
       "</tr>\n",
       "<tr>\n",
       "  <th>Skew:</th>          <td>-2.323</td>  <th>  Prob(JB):          </th> <td>9.09e-258</td>\n",
       "</tr>\n",
       "<tr>\n",
       "  <th>Kurtosis:</th>      <td>13.975</td>  <th>  Cond. No.          </th> <td>1.80e+04</td> \n",
       "</tr>\n",
       "</table><br/><br/>Warnings:<br/>[1] Standard Errors assume that the covariance matrix of the errors is correctly specified.<br/>[2] The condition number is large, 1.8e+04. This might indicate that there are<br/>strong multicollinearity or other numerical problems."
      ],
      "text/plain": [
       "<class 'statsmodels.iolib.summary.Summary'>\n",
       "\"\"\"\n",
       "                            OLS Regression Results                            \n",
       "==============================================================================\n",
       "Dep. Variable:                  Sales   R-squared:                       0.968\n",
       "Model:                            OLS   Adj. R-squared:                  0.967\n",
       "Method:                 Least Squares   F-statistic:                     1963.\n",
       "Date:                Thu, 25 Jun 2020   Prob (F-statistic):          6.68e-146\n",
       "Time:                        13:31:14   Log-Likelihood:                -270.14\n",
       "No. Observations:                 200   AIC:                             548.3\n",
       "Df Residuals:                     196   BIC:                             561.5\n",
       "Df Model:                           3                                         \n",
       "Covariance Type:            nonrobust                                         \n",
       "==============================================================================\n",
       "                 coef    std err          t      P>|t|      [0.025      0.975]\n",
       "------------------------------------------------------------------------------\n",
       "Intercept      6.7502      0.248     27.233      0.000       6.261       7.239\n",
       "TV             0.0191      0.002     12.699      0.000       0.016       0.022\n",
       "Radio          0.0289      0.009      3.241      0.001       0.011       0.046\n",
       "TV:Radio       0.0011   5.24e-05     20.727      0.000       0.001       0.001\n",
       "==============================================================================\n",
       "Omnibus:                      128.132   Durbin-Watson:                   2.224\n",
       "Prob(Omnibus):                  0.000   Jarque-Bera (JB):             1183.719\n",
       "Skew:                          -2.323   Prob(JB):                    9.09e-258\n",
       "Kurtosis:                      13.975   Cond. No.                     1.80e+04\n",
       "==============================================================================\n",
       "\n",
       "Warnings:\n",
       "[1] Standard Errors assume that the covariance matrix of the errors is correctly specified.\n",
       "[2] The condition number is large, 1.8e+04. This might indicate that there are\n",
       "strong multicollinearity or other numerical problems.\n",
       "\"\"\""
      ]
     },
     "execution_count": 50,
     "metadata": {},
     "output_type": "execute_result"
    }
   ],
   "source": [
    "model = smf.ols(formula='Sales ~ TV + Radio + TV:Radio', data=advertising)\n",
    "#OR fromula = 'Sales ~TV * Radio will give same'\n",
    "#sales influenced by tV\n",
    "res = model.fit()\n",
    "res.summary()"
   ]
  },
  {
   "cell_type": "code",
   "execution_count": null,
   "metadata": {},
   "outputs": [],
   "source": []
  }
 ],
 "metadata": {
  "kernelspec": {
   "display_name": "Python 3",
   "language": "python",
   "name": "python3"
  },
  "language_info": {
   "codemirror_mode": {
    "name": "ipython",
    "version": 3
   },
   "file_extension": ".py",
   "mimetype": "text/x-python",
   "name": "python",
   "nbconvert_exporter": "python",
   "pygments_lexer": "ipython3",
   "version": "3.7.6"
  },
  "toc": {
   "base_numbering": 1,
   "nav_menu": {},
   "number_sections": true,
   "sideBar": true,
   "skip_h1_title": false,
   "title_cell": "Table of Contents",
   "title_sidebar": "Contents",
   "toc_cell": false,
   "toc_position": {},
   "toc_section_display": true,
   "toc_window_display": false
  }
 },
 "nbformat": 4,
 "nbformat_minor": 2
}
