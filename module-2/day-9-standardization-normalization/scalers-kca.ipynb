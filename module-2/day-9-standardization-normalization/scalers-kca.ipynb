{
 "cells": [
  {
   "cell_type": "markdown",
   "metadata": {},
   "source": [
    "# Scaling data \n",
    "\n",
    "## Objectives\n",
    "\n",
    "- Understanding the effect of different scalers on the data.\n",
    "\n",
    "- Using different scaler in sklearn."
   ]
  },
  {
   "cell_type": "code",
   "execution_count": 1,
   "metadata": {},
   "outputs": [],
   "source": [
    "import numpy as np\n",
    "import scipy.stats as stats\n",
    "import matplotlib.pyplot as plt\n",
    "%matplotlib inline"
   ]
  },
  {
   "cell_type": "code",
   "execution_count": 4,
   "metadata": {},
   "outputs": [
    {
     "data": {
      "text/html": [
       "<div>\n",
       "<style scoped>\n",
       "    .dataframe tbody tr th:only-of-type {\n",
       "        vertical-align: middle;\n",
       "    }\n",
       "\n",
       "    .dataframe tbody tr th {\n",
       "        vertical-align: top;\n",
       "    }\n",
       "\n",
       "    .dataframe thead th {\n",
       "        text-align: right;\n",
       "    }\n",
       "</style>\n",
       "<table border=\"1\" class=\"dataframe\">\n",
       "  <thead>\n",
       "    <tr style=\"text-align: right;\">\n",
       "      <th></th>\n",
       "      <th>TV</th>\n",
       "      <th>Radio</th>\n",
       "      <th>Newspaper</th>\n",
       "      <th>Sales</th>\n",
       "    </tr>\n",
       "  </thead>\n",
       "  <tbody>\n",
       "    <tr>\n",
       "      <th>1</th>\n",
       "      <td>230.1</td>\n",
       "      <td>37.8</td>\n",
       "      <td>69.2</td>\n",
       "      <td>22.1</td>\n",
       "    </tr>\n",
       "    <tr>\n",
       "      <th>2</th>\n",
       "      <td>44.5</td>\n",
       "      <td>39.3</td>\n",
       "      <td>45.1</td>\n",
       "      <td>10.4</td>\n",
       "    </tr>\n",
       "    <tr>\n",
       "      <th>3</th>\n",
       "      <td>17.2</td>\n",
       "      <td>45.9</td>\n",
       "      <td>69.3</td>\n",
       "      <td>9.3</td>\n",
       "    </tr>\n",
       "    <tr>\n",
       "      <th>4</th>\n",
       "      <td>151.5</td>\n",
       "      <td>41.3</td>\n",
       "      <td>58.5</td>\n",
       "      <td>18.5</td>\n",
       "    </tr>\n",
       "    <tr>\n",
       "      <th>5</th>\n",
       "      <td>180.8</td>\n",
       "      <td>10.8</td>\n",
       "      <td>58.4</td>\n",
       "      <td>12.9</td>\n",
       "    </tr>\n",
       "    <tr>\n",
       "      <th>...</th>\n",
       "      <td>...</td>\n",
       "      <td>...</td>\n",
       "      <td>...</td>\n",
       "      <td>...</td>\n",
       "    </tr>\n",
       "    <tr>\n",
       "      <th>196</th>\n",
       "      <td>38.2</td>\n",
       "      <td>3.7</td>\n",
       "      <td>13.8</td>\n",
       "      <td>7.6</td>\n",
       "    </tr>\n",
       "    <tr>\n",
       "      <th>197</th>\n",
       "      <td>94.2</td>\n",
       "      <td>4.9</td>\n",
       "      <td>8.1</td>\n",
       "      <td>9.7</td>\n",
       "    </tr>\n",
       "    <tr>\n",
       "      <th>198</th>\n",
       "      <td>177.0</td>\n",
       "      <td>9.3</td>\n",
       "      <td>6.4</td>\n",
       "      <td>12.8</td>\n",
       "    </tr>\n",
       "    <tr>\n",
       "      <th>199</th>\n",
       "      <td>283.6</td>\n",
       "      <td>42.0</td>\n",
       "      <td>66.2</td>\n",
       "      <td>25.5</td>\n",
       "    </tr>\n",
       "    <tr>\n",
       "      <th>200</th>\n",
       "      <td>232.1</td>\n",
       "      <td>8.6</td>\n",
       "      <td>8.7</td>\n",
       "      <td>13.4</td>\n",
       "    </tr>\n",
       "  </tbody>\n",
       "</table>\n",
       "<p>200 rows × 4 columns</p>\n",
       "</div>"
      ],
      "text/plain": [
       "        TV  Radio  Newspaper  Sales\n",
       "1    230.1   37.8       69.2   22.1\n",
       "2     44.5   39.3       45.1   10.4\n",
       "3     17.2   45.9       69.3    9.3\n",
       "4    151.5   41.3       58.5   18.5\n",
       "5    180.8   10.8       58.4   12.9\n",
       "..     ...    ...        ...    ...\n",
       "196   38.2    3.7       13.8    7.6\n",
       "197   94.2    4.9        8.1    9.7\n",
       "198  177.0    9.3        6.4   12.8\n",
       "199  283.6   42.0       66.2   25.5\n",
       "200  232.1    8.6        8.7   13.4\n",
       "\n",
       "[200 rows x 4 columns]"
      ]
     },
     "execution_count": 4,
     "metadata": {},
     "output_type": "execute_result"
    }
   ],
   "source": [
    "import statsmodels.api as sm\n",
    "import pandas as pd\n",
    "df = pd.read_csv('../day-8-multiple-regression/data/advertising.csv', index_col=0)\n",
    "df"
   ]
  },
  {
   "cell_type": "code",
   "execution_count": 9,
   "metadata": {},
   "outputs": [
    {
     "data": {
      "text/html": [
       "<table class=\"simpletable\">\n",
       "<caption>OLS Regression Results</caption>\n",
       "<tr>\n",
       "  <th>Dep. Variable:</th>          <td>Sales</td>      <th>  R-squared:         </th> <td>   0.897</td>\n",
       "</tr>\n",
       "<tr>\n",
       "  <th>Model:</th>                   <td>OLS</td>       <th>  Adj. R-squared:    </th> <td>   0.896</td>\n",
       "</tr>\n",
       "<tr>\n",
       "  <th>Method:</th>             <td>Least Squares</td>  <th>  F-statistic:       </th> <td>   570.3</td>\n",
       "</tr>\n",
       "<tr>\n",
       "  <th>Date:</th>             <td>Thu, 25 Jun 2020</td> <th>  Prob (F-statistic):</th> <td>1.58e-96</td>\n",
       "</tr>\n",
       "<tr>\n",
       "  <th>Time:</th>                 <td>09:09:54</td>     <th>  Log-Likelihood:    </th> <td> -386.18</td>\n",
       "</tr>\n",
       "<tr>\n",
       "  <th>No. Observations:</th>      <td>   200</td>      <th>  AIC:               </th> <td>   780.4</td>\n",
       "</tr>\n",
       "<tr>\n",
       "  <th>Df Residuals:</th>          <td>   196</td>      <th>  BIC:               </th> <td>   793.6</td>\n",
       "</tr>\n",
       "<tr>\n",
       "  <th>Df Model:</th>              <td>     3</td>      <th>                     </th>     <td> </td>   \n",
       "</tr>\n",
       "<tr>\n",
       "  <th>Covariance Type:</th>      <td>nonrobust</td>    <th>                     </th>     <td> </td>   \n",
       "</tr>\n",
       "</table>\n",
       "<table class=\"simpletable\">\n",
       "<tr>\n",
       "      <td></td>         <th>coef</th>     <th>std err</th>      <th>t</th>      <th>P>|t|</th>  <th>[0.025</th>    <th>0.975]</th>  \n",
       "</tr>\n",
       "<tr>\n",
       "  <th>const</th>     <td>    2.9389</td> <td>    0.312</td> <td>    9.422</td> <td> 0.000</td> <td>    2.324</td> <td>    3.554</td>\n",
       "</tr>\n",
       "<tr>\n",
       "  <th>TV</th>        <td>    0.0458</td> <td>    0.001</td> <td>   32.809</td> <td> 0.000</td> <td>    0.043</td> <td>    0.049</td>\n",
       "</tr>\n",
       "<tr>\n",
       "  <th>Radio</th>     <td>    0.1885</td> <td>    0.009</td> <td>   21.893</td> <td> 0.000</td> <td>    0.172</td> <td>    0.206</td>\n",
       "</tr>\n",
       "<tr>\n",
       "  <th>Newspaper</th> <td>   -0.0010</td> <td>    0.006</td> <td>   -0.177</td> <td> 0.860</td> <td>   -0.013</td> <td>    0.011</td>\n",
       "</tr>\n",
       "</table>\n",
       "<table class=\"simpletable\">\n",
       "<tr>\n",
       "  <th>Omnibus:</th>       <td>60.414</td> <th>  Durbin-Watson:     </th> <td>   2.084</td>\n",
       "</tr>\n",
       "<tr>\n",
       "  <th>Prob(Omnibus):</th> <td> 0.000</td> <th>  Jarque-Bera (JB):  </th> <td> 151.241</td>\n",
       "</tr>\n",
       "<tr>\n",
       "  <th>Skew:</th>          <td>-1.327</td> <th>  Prob(JB):          </th> <td>1.44e-33</td>\n",
       "</tr>\n",
       "<tr>\n",
       "  <th>Kurtosis:</th>      <td> 6.332</td> <th>  Cond. No.          </th> <td>    454.</td>\n",
       "</tr>\n",
       "</table><br/><br/>Warnings:<br/>[1] Standard Errors assume that the covariance matrix of the errors is correctly specified."
      ],
      "text/plain": [
       "<class 'statsmodels.iolib.summary.Summary'>\n",
       "\"\"\"\n",
       "                            OLS Regression Results                            \n",
       "==============================================================================\n",
       "Dep. Variable:                  Sales   R-squared:                       0.897\n",
       "Model:                            OLS   Adj. R-squared:                  0.896\n",
       "Method:                 Least Squares   F-statistic:                     570.3\n",
       "Date:                Thu, 25 Jun 2020   Prob (F-statistic):           1.58e-96\n",
       "Time:                        09:09:54   Log-Likelihood:                -386.18\n",
       "No. Observations:                 200   AIC:                             780.4\n",
       "Df Residuals:                     196   BIC:                             793.6\n",
       "Df Model:                           3                                         \n",
       "Covariance Type:            nonrobust                                         \n",
       "==============================================================================\n",
       "                 coef    std err          t      P>|t|      [0.025      0.975]\n",
       "------------------------------------------------------------------------------\n",
       "const          2.9389      0.312      9.422      0.000       2.324       3.554\n",
       "TV             0.0458      0.001     32.809      0.000       0.043       0.049\n",
       "Radio          0.1885      0.009     21.893      0.000       0.172       0.206\n",
       "Newspaper     -0.0010      0.006     -0.177      0.860      -0.013       0.011\n",
       "==============================================================================\n",
       "Omnibus:                       60.414   Durbin-Watson:                   2.084\n",
       "Prob(Omnibus):                  0.000   Jarque-Bera (JB):              151.241\n",
       "Skew:                          -1.327   Prob(JB):                     1.44e-33\n",
       "Kurtosis:                       6.332   Cond. No.                         454.\n",
       "==============================================================================\n",
       "\n",
       "Warnings:\n",
       "[1] Standard Errors assume that the covariance matrix of the errors is correctly specified.\n",
       "\"\"\""
      ]
     },
     "execution_count": 9,
     "metadata": {},
     "output_type": "execute_result"
    }
   ],
   "source": [
    "model = sm.OLS(df.Sales,sm.add_constant(df.drop(columns='Sales')))\n",
    "results=model.fit()\n",
    "results.summary()"
   ]
  },
  {
   "cell_type": "code",
   "execution_count": 52,
   "metadata": {},
   "outputs": [],
   "source": [
    "np.random.seed(seed=42)\n",
    "X = np.random.multivariate_normal(mean=(1, 1),\n",
    "                                  cov=[[1, 0.7], [0.7, 1]],\n",
    "                                  size=200)"
   ]
  },
  {
   "cell_type": "code",
   "execution_count": 11,
   "metadata": {},
   "outputs": [
    {
     "data": {
      "image/png": "[encoded data removed]",
      "text/plain": [
       "<Figure size 432x288 with 1 Axes>"
      ]
     },
     "metadata": {
      "needs_background": "light"
     },
     "output_type": "display_data"
    }
   ],
   "source": [
    "plt.scatter(X[:,0], X[:,1])\n",
    "plt.xlabel('x1')\n",
    "plt.ylabel('x2')\n",
    "plt.show()"
   ]
  },
  {
   "cell_type": "markdown",
   "metadata": {},
   "source": [
    "## Initial Distribitions of the Columns\n"
   ]
  },
  {
   "cell_type": "code",
   "execution_count": 12,
   "metadata": {},
   "outputs": [
    {
     "data": {
      "image/png": "[encoded data removed]",
      "text/plain": [
       "<Figure size 720x432 with 2 Axes>"
      ]
     },
     "metadata": {
      "needs_background": "light"
     },
     "output_type": "display_data"
    }
   ],
   "source": [
    "plt.figure(figsize=(10, 6))\n",
    "plt.subplot(1, 2, 1)\n",
    "plt.title('X1')\n",
    "plt.hist(X[:, 0])\n",
    "\n",
    "plt.subplot(1, 2, 2)\n",
    "plt.title('X2')\n",
    "plt.hist(X[:, 1])\n",
    "\n",
    "plt.show()"
   ]
  },
  {
   "cell_type": "markdown",
   "metadata": {},
   "source": [
    "## Scalers in Sklearn and their effect on the data"
   ]
  },
  {
   "cell_type": "markdown",
   "metadata": {},
   "source": [
    "## Centralize"
   ]
  },
  {
   "cell_type": "code",
   "execution_count": 13,
   "metadata": {
    "scrolled": true
   },
   "outputs": [
    {
     "data": {
      "image/png": "[encoded data removed]",
      "text/plain": [
       "<Figure size 432x288 with 1 Axes>"
      ]
     },
     "metadata": {
      "needs_background": "light"
     },
     "output_type": "display_data"
    }
   ],
   "source": [
    "X_centralized = X - X.mean()\n",
    "#2 columns - subtracting mean from both\n",
    "\n",
    "plt.scatter(X_centralized[:,0], X_centralized[:,1])\n",
    "\n",
    "plt.title('Centralizing the data')\n",
    "\n",
    "plt.xlabel('x1_centralized')\n",
    "plt.ylabel('x2_centralized')\n",
    "\n",
    "plt.show()"
   ]
  },
  {
   "cell_type": "code",
   "execution_count": 16,
   "metadata": {},
   "outputs": [
    {
     "data": {
      "text/plain": [
       "1.0"
      ]
     },
     "execution_count": 16,
     "metadata": {},
     "output_type": "execute_result"
    }
   ],
   "source": [
    "(X_centralized/X_centralized.std()).std()\n",
    "#std scalar"
   ]
  },
  {
   "cell_type": "markdown",
   "metadata": {},
   "source": [
    "## StandardScaler\n",
    "\n",
    "[Sklearn Documentation](https://scikit-learn.org/stable/modules/generated/sklearn.preprocessing.StandardScaler.html#sklearn.preprocessing.StandardScaler)"
   ]
  },
  {
   "cell_type": "code",
   "execution_count": 17,
   "metadata": {},
   "outputs": [],
   "source": [
    "from sklearn.preprocessing import StandardScaler"
   ]
  },
  {
   "cell_type": "code",
   "execution_count": 18,
   "metadata": {},
   "outputs": [
    {
     "data": {
      "image/png": "[encoded data removed]",
      "text/plain": [
       "<Figure size 432x288 with 1 Axes>"
      ]
     },
     "metadata": {
      "needs_background": "light"
     },
     "output_type": "display_data"
    }
   ],
   "source": [
    "standard_scaler = StandardScaler()\n",
    "\n",
    "X_std_scaled = standard_scaler.fit_transform(X)\n",
    "#same thing as saying\n",
    "#standard_scalar.fit(X)\n",
    "# X_std_scaled = standard_scalar.transform(X)\n",
    "\n",
    "plt.scatter(X_std_scaled[:, 0], X_std_scaled[:, 1])\n",
    "\n",
    "plt.title('Scaling with Standard Scaler')\n",
    "\n",
    "plt.xlabel('x1_standardized')\n",
    "plt.ylabel('x2_standardized')\n",
    "\n",
    "plt.show()\n",
    "#creating a new data set\n"
   ]
  },
  {
   "cell_type": "code",
   "execution_count": 19,
   "metadata": {},
   "outputs": [
    {
     "data": {
      "image/png": "[encoded data removed]",
      "text/plain": [
       "<Figure size 720x432 with 2 Axes>"
      ]
     },
     "metadata": {
      "needs_background": "light"
     },
     "output_type": "display_data"
    }
   ],
   "source": [
    "plt.figure(figsize= (10,6))\n",
    "plt.subplot(1,2,1)\n",
    "plt.title('X1')\n",
    "plt.hist(X_std_scaled[:,0])\n",
    "\n",
    "plt.subplot(1,2,2)\n",
    "plt.title('X2')\n",
    "plt.hist(X_std_scaled[:,1])\n",
    "\n",
    "plt.show()"
   ]
  },
  {
   "cell_type": "code",
   "execution_count": 20,
   "metadata": {},
   "outputs": [
    {
     "name": "stdout",
     "output_type": "stream",
     "text": [
      "Mean of X1 after standard scaling is 0.0000\n",
      "Std of X1 after standard scaling is 1.0000\n"
     ]
    }
   ],
   "source": [
    "# let's investigate columns separately\n",
    "\n",
    "X1_std_scaled_mean = round(X_std_scaled[:, 0].mean(), 4)\n",
    "\n",
    "X1_std_scaled_std = round(X_std_scaled[:, 0].std(), 4)\n",
    "\n",
    "print(f'Mean of X1 after standard scaling is {X1_std_scaled_mean:.4f}')\n",
    "print(f'Std of X1 after standard scaling is {X1_std_scaled_std:.4f}')"
   ]
  },
  {
   "cell_type": "code",
   "execution_count": 21,
   "metadata": {},
   "outputs": [
    {
     "name": "stdout",
     "output_type": "stream",
     "text": [
      "Mean of X2 after standard scaling is 0.0000\n",
      "Std of X2 after standard scaling is 1.0000\n"
     ]
    }
   ],
   "source": [
    "# let's investigate columns separately\n",
    "\n",
    "X2_std_scaled_mean = round(X_std_scaled[:, 1].mean(), 4)\n",
    "\n",
    "X2_std_scaled_std = round(X_std_scaled[:, 1].std(), 4)\n",
    "\n",
    "print(f'Mean of X2 after standard scaling is {X2_std_scaled_mean:.4f}')\n",
    "print(f'Std of X2 after standard scaling is {X2_std_scaled_std:.4f}')"
   ]
  },
  {
   "cell_type": "code",
   "execution_count": 22,
   "metadata": {},
   "outputs": [
    {
     "data": {
      "text/html": [
       "<div>\n",
       "<style scoped>\n",
       "    .dataframe tbody tr th:only-of-type {\n",
       "        vertical-align: middle;\n",
       "    }\n",
       "\n",
       "    .dataframe tbody tr th {\n",
       "        vertical-align: top;\n",
       "    }\n",
       "\n",
       "    .dataframe thead th {\n",
       "        text-align: right;\n",
       "    }\n",
       "</style>\n",
       "<table border=\"1\" class=\"dataframe\">\n",
       "  <thead>\n",
       "    <tr style=\"text-align: right;\">\n",
       "      <th></th>\n",
       "      <th>TV</th>\n",
       "      <th>Radio</th>\n",
       "      <th>Newspaper</th>\n",
       "      <th>Sales</th>\n",
       "    </tr>\n",
       "  </thead>\n",
       "  <tbody>\n",
       "    <tr>\n",
       "      <th>1</th>\n",
       "      <td>230.1</td>\n",
       "      <td>37.8</td>\n",
       "      <td>69.2</td>\n",
       "      <td>22.1</td>\n",
       "    </tr>\n",
       "    <tr>\n",
       "      <th>2</th>\n",
       "      <td>44.5</td>\n",
       "      <td>39.3</td>\n",
       "      <td>45.1</td>\n",
       "      <td>10.4</td>\n",
       "    </tr>\n",
       "    <tr>\n",
       "      <th>3</th>\n",
       "      <td>17.2</td>\n",
       "      <td>45.9</td>\n",
       "      <td>69.3</td>\n",
       "      <td>9.3</td>\n",
       "    </tr>\n",
       "    <tr>\n",
       "      <th>4</th>\n",
       "      <td>151.5</td>\n",
       "      <td>41.3</td>\n",
       "      <td>58.5</td>\n",
       "      <td>18.5</td>\n",
       "    </tr>\n",
       "    <tr>\n",
       "      <th>5</th>\n",
       "      <td>180.8</td>\n",
       "      <td>10.8</td>\n",
       "      <td>58.4</td>\n",
       "      <td>12.9</td>\n",
       "    </tr>\n",
       "  </tbody>\n",
       "</table>\n",
       "</div>"
      ],
      "text/plain": [
       "      TV  Radio  Newspaper  Sales\n",
       "1  230.1   37.8       69.2   22.1\n",
       "2   44.5   39.3       45.1   10.4\n",
       "3   17.2   45.9       69.3    9.3\n",
       "4  151.5   41.3       58.5   18.5\n",
       "5  180.8   10.8       58.4   12.9"
      ]
     },
     "execution_count": 22,
     "metadata": {},
     "output_type": "execute_result"
    }
   ],
   "source": [
    "df.head()"
   ]
  },
  {
   "cell_type": "code",
   "execution_count": 25,
   "metadata": {},
   "outputs": [
    {
     "data": {
      "text/html": [
       "<div>\n",
       "<style scoped>\n",
       "    .dataframe tbody tr th:only-of-type {\n",
       "        vertical-align: middle;\n",
       "    }\n",
       "\n",
       "    .dataframe tbody tr th {\n",
       "        vertical-align: top;\n",
       "    }\n",
       "\n",
       "    .dataframe thead th {\n",
       "        text-align: right;\n",
       "    }\n",
       "</style>\n",
       "<table border=\"1\" class=\"dataframe\">\n",
       "  <thead>\n",
       "    <tr style=\"text-align: right;\">\n",
       "      <th></th>\n",
       "      <th>TV</th>\n",
       "      <th>Radio</th>\n",
       "      <th>Newspaper</th>\n",
       "    </tr>\n",
       "  </thead>\n",
       "  <tbody>\n",
       "    <tr>\n",
       "      <th>1</th>\n",
       "      <td>230.1</td>\n",
       "      <td>37.8</td>\n",
       "      <td>69.2</td>\n",
       "    </tr>\n",
       "    <tr>\n",
       "      <th>2</th>\n",
       "      <td>44.5</td>\n",
       "      <td>39.3</td>\n",
       "      <td>45.1</td>\n",
       "    </tr>\n",
       "    <tr>\n",
       "      <th>3</th>\n",
       "      <td>17.2</td>\n",
       "      <td>45.9</td>\n",
       "      <td>69.3</td>\n",
       "    </tr>\n",
       "    <tr>\n",
       "      <th>4</th>\n",
       "      <td>151.5</td>\n",
       "      <td>41.3</td>\n",
       "      <td>58.5</td>\n",
       "    </tr>\n",
       "    <tr>\n",
       "      <th>5</th>\n",
       "      <td>180.8</td>\n",
       "      <td>10.8</td>\n",
       "      <td>58.4</td>\n",
       "    </tr>\n",
       "  </tbody>\n",
       "</table>\n",
       "</div>"
      ],
      "text/plain": [
       "      TV  Radio  Newspaper\n",
       "1  230.1   37.8       69.2\n",
       "2   44.5   39.3       45.1\n",
       "3   17.2   45.9       69.3\n",
       "4  151.5   41.3       58.5\n",
       "5  180.8   10.8       58.4"
      ]
     },
     "execution_count": 25,
     "metadata": {},
     "output_type": "execute_result"
    }
   ],
   "source": [
    "y=df.Sales\n",
    "X=df.drop(columns='Sales')\n",
    "X.head()"
   ]
  },
  {
   "cell_type": "code",
   "execution_count": 33,
   "metadata": {},
   "outputs": [
    {
     "data": {
      "text/plain": [
       "TV           1.265654e-16\n",
       "Radio       -1.595946e-15\n",
       "Newspaper    2.498002e-16\n",
       "dtype: float64"
      ]
     },
     "execution_count": 33,
     "metadata": {},
     "output_type": "execute_result"
    }
   ],
   "source": [
    "X_standardized = (X-X.mean())/X.std()\n",
    "X_standardized.mean()"
   ]
  },
  {
   "cell_type": "code",
   "execution_count": 34,
   "metadata": {},
   "outputs": [
    {
     "data": {
      "text/plain": [
       "TV           1.0\n",
       "Radio        1.0\n",
       "Newspaper    1.0\n",
       "dtype: float64"
      ]
     },
     "execution_count": 34,
     "metadata": {},
     "output_type": "execute_result"
    }
   ],
   "source": [
    "X_standardized.std()"
   ]
  },
  {
   "cell_type": "code",
   "execution_count": 35,
   "metadata": {
    "scrolled": true
   },
   "outputs": [
    {
     "data": {
      "text/html": [
       "<table class=\"simpletable\">\n",
       "<caption>OLS Regression Results</caption>\n",
       "<tr>\n",
       "  <th>Dep. Variable:</th>          <td>Sales</td>      <th>  R-squared:         </th> <td>   0.897</td>\n",
       "</tr>\n",
       "<tr>\n",
       "  <th>Model:</th>                   <td>OLS</td>       <th>  Adj. R-squared:    </th> <td>   0.896</td>\n",
       "</tr>\n",
       "<tr>\n",
       "  <th>Method:</th>             <td>Least Squares</td>  <th>  F-statistic:       </th> <td>   570.3</td>\n",
       "</tr>\n",
       "<tr>\n",
       "  <th>Date:</th>             <td>Thu, 25 Jun 2020</td> <th>  Prob (F-statistic):</th> <td>1.58e-96</td>\n",
       "</tr>\n",
       "<tr>\n",
       "  <th>Time:</th>                 <td>09:34:19</td>     <th>  Log-Likelihood:    </th> <td> -386.18</td>\n",
       "</tr>\n",
       "<tr>\n",
       "  <th>No. Observations:</th>      <td>   200</td>      <th>  AIC:               </th> <td>   780.4</td>\n",
       "</tr>\n",
       "<tr>\n",
       "  <th>Df Residuals:</th>          <td>   196</td>      <th>  BIC:               </th> <td>   793.6</td>\n",
       "</tr>\n",
       "<tr>\n",
       "  <th>Df Model:</th>              <td>     3</td>      <th>                     </th>     <td> </td>   \n",
       "</tr>\n",
       "<tr>\n",
       "  <th>Covariance Type:</th>      <td>nonrobust</td>    <th>                     </th>     <td> </td>   \n",
       "</tr>\n",
       "</table>\n",
       "<table class=\"simpletable\">\n",
       "<tr>\n",
       "      <td></td>         <th>coef</th>     <th>std err</th>      <th>t</th>      <th>P>|t|</th>  <th>[0.025</th>    <th>0.975]</th>  \n",
       "</tr>\n",
       "<tr>\n",
       "  <th>const</th>     <td>   14.0225</td> <td>    0.119</td> <td>  117.655</td> <td> 0.000</td> <td>   13.787</td> <td>   14.258</td>\n",
       "</tr>\n",
       "<tr>\n",
       "  <th>TV</th>        <td>    3.9291</td> <td>    0.120</td> <td>   32.809</td> <td> 0.000</td> <td>    3.693</td> <td>    4.165</td>\n",
       "</tr>\n",
       "<tr>\n",
       "  <th>Radio</th>     <td>    2.7991</td> <td>    0.128</td> <td>   21.893</td> <td> 0.000</td> <td>    2.547</td> <td>    3.051</td>\n",
       "</tr>\n",
       "<tr>\n",
       "  <th>Newspaper</th> <td>   -0.0226</td> <td>    0.128</td> <td>   -0.177</td> <td> 0.860</td> <td>   -0.275</td> <td>    0.230</td>\n",
       "</tr>\n",
       "</table>\n",
       "<table class=\"simpletable\">\n",
       "<tr>\n",
       "  <th>Omnibus:</th>       <td>60.414</td> <th>  Durbin-Watson:     </th> <td>   2.084</td>\n",
       "</tr>\n",
       "<tr>\n",
       "  <th>Prob(Omnibus):</th> <td> 0.000</td> <th>  Jarque-Bera (JB):  </th> <td> 151.241</td>\n",
       "</tr>\n",
       "<tr>\n",
       "  <th>Skew:</th>          <td>-1.327</td> <th>  Prob(JB):          </th> <td>1.44e-33</td>\n",
       "</tr>\n",
       "<tr>\n",
       "  <th>Kurtosis:</th>      <td> 6.332</td> <th>  Cond. No.          </th> <td>    1.46</td>\n",
       "</tr>\n",
       "</table><br/><br/>Warnings:<br/>[1] Standard Errors assume that the covariance matrix of the errors is correctly specified."
      ],
      "text/plain": [
       "<class 'statsmodels.iolib.summary.Summary'>\n",
       "\"\"\"\n",
       "                            OLS Regression Results                            \n",
       "==============================================================================\n",
       "Dep. Variable:                  Sales   R-squared:                       0.897\n",
       "Model:                            OLS   Adj. R-squared:                  0.896\n",
       "Method:                 Least Squares   F-statistic:                     570.3\n",
       "Date:                Thu, 25 Jun 2020   Prob (F-statistic):           1.58e-96\n",
       "Time:                        09:34:19   Log-Likelihood:                -386.18\n",
       "No. Observations:                 200   AIC:                             780.4\n",
       "Df Residuals:                     196   BIC:                             793.6\n",
       "Df Model:                           3                                         \n",
       "Covariance Type:            nonrobust                                         \n",
       "==============================================================================\n",
       "                 coef    std err          t      P>|t|      [0.025      0.975]\n",
       "------------------------------------------------------------------------------\n",
       "const         14.0225      0.119    117.655      0.000      13.787      14.258\n",
       "TV             3.9291      0.120     32.809      0.000       3.693       4.165\n",
       "Radio          2.7991      0.128     21.893      0.000       2.547       3.051\n",
       "Newspaper     -0.0226      0.128     -0.177      0.860      -0.275       0.230\n",
       "==============================================================================\n",
       "Omnibus:                       60.414   Durbin-Watson:                   2.084\n",
       "Prob(Omnibus):                  0.000   Jarque-Bera (JB):              151.241\n",
       "Skew:                          -1.327   Prob(JB):                     1.44e-33\n",
       "Kurtosis:                       6.332   Cond. No.                         1.46\n",
       "==============================================================================\n",
       "\n",
       "Warnings:\n",
       "[1] Standard Errors assume that the covariance matrix of the errors is correctly specified.\n",
       "\"\"\""
      ]
     },
     "execution_count": 35,
     "metadata": {},
     "output_type": "execute_result"
    }
   ],
   "source": [
    "model_std=sm.OLS(y,sm.add_constant(X_standardized))\n",
    "results_std = model_std.fit()\n",
    "results_std.summary()\n",
    "\n",
    "#havent helped model at all just scaled values\n",
    "#can see TV is more important than Radio where that wasnt the case pre \n",
    "#standardization\n",
    "#no longer spend $1 get $1 - now a percentage - if add 1std tv - get more \n",
    "#than add 1 std radio\n",
    "#sales is not standardized "
   ]
  },
  {
   "cell_type": "code",
   "execution_count": 38,
   "metadata": {},
   "outputs": [],
   "source": [
    "#this time with sklearn\n",
    "from sklearn.preprocessing import StandardScaler\n",
    "ss=StandardScaler()"
   ]
  },
  {
   "cell_type": "code",
   "execution_count": 39,
   "metadata": {},
   "outputs": [],
   "source": [
    "ss.fit(X)\n",
    "X_ss = ss.transform(X)\n",
    "#same as\n",
    "X_ss=ss.fit_transform(X)"
   ]
  },
  {
   "cell_type": "code",
   "execution_count": 40,
   "metadata": {},
   "outputs": [],
   "source": [
    "from sklearn.linear_model import LinearRegression\n",
    "lm = LinearRegression()"
   ]
  },
  {
   "cell_type": "code",
   "execution_count": 41,
   "metadata": {},
   "outputs": [
    {
     "data": {
      "text/plain": [
       "LinearRegression(copy_X=True, fit_intercept=True, n_jobs=None, normalize=False)"
      ]
     },
     "execution_count": 41,
     "metadata": {},
     "output_type": "execute_result"
    }
   ],
   "source": [
    "lm.fit(X_ss,y)"
   ]
  },
  {
   "cell_type": "code",
   "execution_count": 45,
   "metadata": {},
   "outputs": [
    {
     "name": "stdout",
     "output_type": "stream",
     "text": [
      "[ 0.04576465  0.18853002 -0.00103749] \n",
      " 2.9388893694594085\n"
     ]
    }
   ],
   "source": [
    "print (lm.coef_,'\\n',lm.intercept_)"
   ]
  },
  {
   "cell_type": "markdown",
   "metadata": {},
   "source": [
    "Note that standard scaler is __not__ necessarily makes data __normal__"
   ]
  },
  {
   "cell_type": "code",
   "execution_count": 46,
   "metadata": {},
   "outputs": [
    {
     "data": {
      "image/png": "[encoded data removed]",
      "text/plain": [
       "<Figure size 432x288 with 1 Axes>"
      ]
     },
     "metadata": {
      "needs_background": "light"
     },
     "output_type": "display_data"
    }
   ],
   "source": [
    "exponential_data = np.random.exponential(scale=4, size=200)\n",
    "\n",
    "plt.hist(exponential_data)\n",
    "plt.title('Histogram of a sample from exponential distribution')\n",
    "plt.xlabel('X-values in the sample')\n",
    "plt.ylabel('Number of occurences of the numbers')\n",
    "plt.show()"
   ]
  },
  {
   "cell_type": "code",
   "execution_count": 47,
   "metadata": {},
   "outputs": [
    {
     "name": "stdout",
     "output_type": "stream",
     "text": [
      "Mean of exponential_data is 3.7308\n",
      "Std of exponential_data is 4.3010\n"
     ]
    }
   ],
   "source": [
    "# let's mean and std seperately\n",
    "\n",
    "exponential_mean = round(exponential_data.mean(), 4)\n",
    "\n",
    "exponential_std = round(exponential_data.std(), 4)\n",
    "\n",
    "print(f'Mean of exponential_data is {exponential_mean:.4f}')\n",
    "print(f'Std of exponential_data is {exponential_std:.4f}')"
   ]
  },
  {
   "cell_type": "code",
   "execution_count": 50,
   "metadata": {},
   "outputs": [
    {
     "data": {
      "image/png": "[encoded data removed]",
      "text/plain": [
       "<Figure size 432x288 with 1 Axes>"
      ]
     },
     "metadata": {
      "needs_background": "light"
     },
     "output_type": "display_data"
    }
   ],
   "source": [
    "## After Standard Scaler\n",
    "standard_scaler=StandardScaler()\n",
    "\n",
    "std_scaled_exponential = standard_scaler.fit_transform(exponential_data.reshape(-1,1))\n",
    "\n",
    "plt.hist(std_scaled_exponential)\n",
    "plt.title('Exponential Data after Standard Scaler')\n",
    "\n",
    "plt.show()"
   ]
  },
  {
   "cell_type": "code",
   "execution_count": 49,
   "metadata": {},
   "outputs": [
    {
     "name": "stdout",
     "output_type": "stream",
     "text": [
      "Mean of exponential_data after scaling is -0.0000\n",
      "Std of exponential_data after scaling is 1.0000\n"
     ]
    }
   ],
   "source": [
    "# let's mean and std seperately\n",
    "\n",
    "std_exponential_mean = round(std_scaled_exponential.mean(), 4)\n",
    "\n",
    "std_exponential_std = round(std_scaled_exponential.std(), 4)\n",
    "\n",
    "print(f'Mean of exponential_data after scaling is {std_exponential_mean:.4f}')\n",
    "print(f'Std of exponential_data after scaling is {std_exponential_std:.4f}')"
   ]
  },
  {
   "cell_type": "markdown",
   "metadata": {},
   "source": [
    "## MinMax Scaler\n",
    "\n",
    "\n",
    "[Sklearn Documentation](https://scikit-learn.org/stable/modules/generated/sklearn.preprocessing.MinMaxScaler.html#sklearn.preprocessing.MinMaxScaler)\n",
    "\n",
    "__Your Turn__\n",
    "\n",
    "- Apply minmax scaler to the data and plot it.\n",
    "\n",
    "- Check the mean and std of individual columns\n"
   ]
  },
  {
   "cell_type": "code",
   "execution_count": 51,
   "metadata": {},
   "outputs": [],
   "source": [
    "from sklearn.preprocessing import MinMaxScaler\n",
    "mms=MinMaxScaler()"
   ]
  },
  {
   "cell_type": "code",
   "execution_count": 54,
   "metadata": {},
   "outputs": [],
   "source": [
    "#mms=MinMaxScaler(feature_range=(0,1)) -- default values\n",
    "X = np.random.multivariate_normal(mean=(1, 1),\n",
    "                                  cov=[[1, 0.7], [0.7, 1]],\n",
    "                                  size=200)\n",
    "X_minmax=mms.fit_transform(X)"
   ]
  },
  {
   "cell_type": "code",
   "execution_count": 55,
   "metadata": {},
   "outputs": [
    {
     "data": {
      "text/plain": [
       "array([[0.34892471, 0.25675205],\n",
       "       [0.52143391, 0.39596446],\n",
       "       [0.61958374, 0.49174013],\n",
       "       [0.49636653, 0.37456413],\n",
       "       [0.3155744 , 0.18004235],\n",
       "       [0.57900647, 0.44304677],\n",
       "       [0.17884233, 0.22305094],\n",
       "       [0.41495783, 0.17612423],\n",
       "       [0.36591761, 0.45987327],\n",
       "       [0.38925939, 0.50151024],\n",
       "       [0.48505569, 0.62128763],\n",
       "       [0.04898756, 0.0480737 ],\n",
       "       [0.46605191, 0.61270924],\n",
       "       [0.21454506, 0.15305297],\n",
       "       [0.61415015, 0.49128867],\n",
       "       [0.86500778, 0.59701208],\n",
       "       [0.78003849, 0.55242901],\n",
       "       [0.48738175, 0.46412415],\n",
       "       [0.26270829, 0.12557662],\n",
       "       [0.31252589, 0.26976778],\n",
       "       [0.45153341, 0.49630031],\n",
       "       [0.70329475, 0.6493045 ],\n",
       "       [0.42221144, 0.44920786],\n",
       "       [0.22282263, 0.56219479],\n",
       "       [0.68197788, 0.50945799],\n",
       "       [0.68106948, 0.50545216],\n",
       "       [0.52981685, 0.62572136],\n",
       "       [0.25226083, 0.17542218],\n",
       "       [0.63430659, 0.60857893],\n",
       "       [0.56106103, 0.57440456],\n",
       "       [0.59210318, 0.3075274 ],\n",
       "       [0.01626765, 0.31502566],\n",
       "       [0.66405554, 0.5151319 ],\n",
       "       [0.41104679, 0.41929929],\n",
       "       [0.18443038, 0.47262995],\n",
       "       [0.6086226 , 0.41720015],\n",
       "       [0.85574844, 0.6153206 ],\n",
       "       [0.34908542, 0.56939541],\n",
       "       [0.58995299, 0.5411632 ],\n",
       "       [0.39916764, 0.52571291],\n",
       "       [0.01584706, 0.        ],\n",
       "       [0.51148433, 0.59210769],\n",
       "       [0.19397284, 0.45781448],\n",
       "       [0.40965128, 0.32439899],\n",
       "       [0.27843253, 0.42259293],\n",
       "       [0.28323658, 0.34492088],\n",
       "       [0.17287932, 0.35005828],\n",
       "       [0.15250542, 0.26406396],\n",
       "       [0.5229941 , 0.47952651],\n",
       "       [0.31907238, 0.19322317],\n",
       "       [0.45796991, 0.35674943],\n",
       "       [0.38169731, 0.524532  ],\n",
       "       [0.45646107, 0.41507722],\n",
       "       [0.72103644, 0.71208552],\n",
       "       [0.17364637, 0.48508283],\n",
       "       [0.54619612, 0.50706947],\n",
       "       [0.30881765, 0.50923303],\n",
       "       [0.49617755, 0.47691176],\n",
       "       [0.35633669, 0.35745835],\n",
       "       [0.57759703, 0.52769622],\n",
       "       [0.3655726 , 0.20044115],\n",
       "       [0.53470847, 0.37394742],\n",
       "       [0.38393307, 0.14730645],\n",
       "       [0.58508226, 0.55818928],\n",
       "       [0.17708351, 0.18622769],\n",
       "       [0.45131717, 0.65929806],\n",
       "       [1.        , 0.52711071],\n",
       "       [0.45256641, 0.33791238],\n",
       "       [0.65311188, 0.65500916],\n",
       "       [0.49935098, 0.36530541],\n",
       "       [0.69313274, 0.70781368],\n",
       "       [0.37270178, 0.33132099],\n",
       "       [0.20671825, 0.07305195],\n",
       "       [0.88307236, 0.6414966 ],\n",
       "       [0.48886946, 0.46649615],\n",
       "       [0.52043821, 0.50534518],\n",
       "       [0.63656207, 0.741819  ],\n",
       "       [0.41928909, 0.53148608],\n",
       "       [0.38826489, 0.41841625],\n",
       "       [0.34127547, 0.3812541 ],\n",
       "       [0.24798046, 0.42911915],\n",
       "       [0.39673438, 0.45901209],\n",
       "       [0.39234106, 0.55453867],\n",
       "       [0.48391946, 0.6733835 ],\n",
       "       [0.63575522, 0.35240617],\n",
       "       [0.53404641, 0.37602026],\n",
       "       [0.38155321, 0.26323422],\n",
       "       [0.76178283, 0.38674526],\n",
       "       [0.81031882, 0.35159499],\n",
       "       [0.766943  , 0.74911149],\n",
       "       [0.29777103, 0.34497114],\n",
       "       [0.70854451, 0.59514366],\n",
       "       [0.60397378, 0.36494371],\n",
       "       [0.10676836, 0.26000936],\n",
       "       [0.54492335, 0.4800913 ],\n",
       "       [0.63746304, 0.27107702],\n",
       "       [0.61312046, 0.43637215],\n",
       "       [0.73647324, 0.58493732],\n",
       "       [0.06573827, 0.19663798],\n",
       "       [0.57038717, 0.57337494],\n",
       "       [0.12448811, 0.27995561],\n",
       "       [0.54544274, 0.3893507 ],\n",
       "       [0.31903177, 0.35690756],\n",
       "       [0.25620199, 0.34154288],\n",
       "       [0.32720101, 0.23754156],\n",
       "       [0.20602553, 0.24398273],\n",
       "       [0.12491649, 0.0620059 ],\n",
       "       [0.11789491, 0.17662007],\n",
       "       [0.68069126, 0.51484596],\n",
       "       [0.53071388, 0.5229576 ],\n",
       "       [0.44146878, 0.31973416],\n",
       "       [0.31649358, 0.5914981 ],\n",
       "       [0.09858643, 0.19409894],\n",
       "       [0.48217817, 0.44470043],\n",
       "       [0.46209097, 0.27476459],\n",
       "       [0.70250422, 0.37129281],\n",
       "       [0.3595336 , 0.42220008],\n",
       "       [0.46331998, 0.62693184],\n",
       "       [0.88828009, 0.54099966],\n",
       "       [0.36096042, 0.47738013],\n",
       "       [0.18692282, 0.14057975],\n",
       "       [0.27714845, 0.26644472],\n",
       "       [0.45899157, 0.53025123],\n",
       "       [0.50287337, 0.23107902],\n",
       "       [0.06796936, 0.2983314 ],\n",
       "       [0.59746533, 0.5701748 ],\n",
       "       [0.37375503, 0.38079799],\n",
       "       [0.67600851, 0.48587204],\n",
       "       [0.40247468, 0.52612357],\n",
       "       [0.4191409 , 0.33012552],\n",
       "       [0.59023231, 0.12582891],\n",
       "       [0.41282027, 0.14011385],\n",
       "       [0.67608281, 0.42532835],\n",
       "       [0.67066075, 0.72962988],\n",
       "       [0.56859685, 0.54142737],\n",
       "       [0.46848606, 0.48251563],\n",
       "       [0.59806536, 0.34356829],\n",
       "       [0.33474933, 0.24892491],\n",
       "       [0.86628431, 0.66433594],\n",
       "       [0.10972355, 0.25859867],\n",
       "       [0.60505919, 0.47520958],\n",
       "       [0.38486059, 0.63492486],\n",
       "       [0.38237359, 0.41029755],\n",
       "       [0.26281626, 0.29298894],\n",
       "       [0.57267714, 0.47112444],\n",
       "       [0.51915309, 0.45171055],\n",
       "       [0.34304172, 0.32907612],\n",
       "       [0.35371733, 0.31929787],\n",
       "       [0.66092373, 0.29490863],\n",
       "       [0.2772794 , 0.31861762],\n",
       "       [0.54681576, 0.08616934],\n",
       "       [0.07355973, 0.0970627 ],\n",
       "       [0.3594841 , 0.19397335],\n",
       "       [0.46495533, 0.27281342],\n",
       "       [0.46284327, 0.67255995],\n",
       "       [0.52170094, 0.48810258],\n",
       "       [0.27382451, 0.33615437],\n",
       "       [0.43685915, 0.44316714],\n",
       "       [0.        , 0.05188913],\n",
       "       [0.36556142, 0.48138008],\n",
       "       [0.16313354, 0.34500314],\n",
       "       [0.46741354, 0.26257613],\n",
       "       [0.25833813, 0.10221764],\n",
       "       [0.50378467, 0.34297131],\n",
       "       [0.48522122, 0.47525975],\n",
       "       [0.39584253, 0.41950058],\n",
       "       [0.12102467, 0.21358814],\n",
       "       [0.46693598, 0.54720551],\n",
       "       [0.35897113, 0.1681934 ],\n",
       "       [0.31304738, 0.39394677],\n",
       "       [0.44178121, 0.58364004],\n",
       "       [0.52127167, 0.47535023],\n",
       "       [0.53584245, 0.47161667],\n",
       "       [0.85887336, 0.52179852],\n",
       "       [0.24005952, 0.12873083],\n",
       "       [0.89987177, 0.45667258],\n",
       "       [0.75227335, 0.45608744],\n",
       "       [0.06587955, 0.24665163],\n",
       "       [0.44647231, 0.70580987],\n",
       "       [0.32286498, 0.2626834 ],\n",
       "       [0.82431152, 1.        ],\n",
       "       [0.93876561, 0.55512801],\n",
       "       [0.06982653, 0.44307622],\n",
       "       [0.15955872, 0.2579888 ],\n",
       "       [0.30014268, 0.40466849],\n",
       "       [0.3161834 , 0.33954073],\n",
       "       [0.48439248, 0.42169314],\n",
       "       [0.68430762, 0.54509712],\n",
       "       [0.86582998, 0.70859222],\n",
       "       [0.80645683, 0.52721699],\n",
       "       [0.33984215, 0.50787826],\n",
       "       [0.44636445, 0.18865629],\n",
       "       [0.62590899, 0.66563888],\n",
       "       [0.72745316, 0.58567597],\n",
       "       [0.47063525, 0.28866387],\n",
       "       [0.59656767, 0.33552031],\n",
       "       [0.59909457, 0.5611386 ],\n",
       "       [0.79714618, 0.72893826],\n",
       "       [0.45607207, 0.48322593],\n",
       "       [0.33304015, 0.49890745]])"
      ]
     },
     "execution_count": 55,
     "metadata": {},
     "output_type": "execute_result"
    }
   ],
   "source": [
    "X_minmax\n",
    "#all values between 0 and 1"
   ]
  },
  {
   "cell_type": "code",
   "execution_count": 56,
   "metadata": {},
   "outputs": [
    {
     "data": {
      "image/png": "[encoded data removed]",
      "text/plain": [
       "<Figure size 432x288 with 1 Axes>"
      ]
     },
     "metadata": {
      "needs_background": "light"
     },
     "output_type": "display_data"
    }
   ],
   "source": [
    "plt.scatter(X_minmax[:, 0], X_minmax[:, 1])\n",
    "\n",
    "plt.title('Scaling with MinMax Scaler')\n",
    "\n",
    "plt.xlabel('x1_minmax')\n",
    "plt.ylabel('x2_inmax')\n",
    "\n",
    "plt.show()\n",
    "#creating a new data set\n"
   ]
  },
  {
   "cell_type": "code",
   "execution_count": 58,
   "metadata": {},
   "outputs": [
    {
     "data": {
      "text/plain": [
       "array([0.4532877 , 0.41481278])"
      ]
     },
     "execution_count": 58,
     "metadata": {},
     "output_type": "execute_result"
    }
   ],
   "source": [
    "X_minmax.mean(axis=0)"
   ]
  },
  {
   "cell_type": "markdown",
   "metadata": {},
   "source": [
    "## Bonus: Normalizer\n",
    "\n",
    "[Sklearn Documentation](https://scikit-learn.org/stable/modules/preprocessing.html#normalization)"
   ]
  },
  {
   "cell_type": "code",
   "execution_count": null,
   "metadata": {},
   "outputs": [],
   "source": [
    "from sklearn.preprocessing import Normalizer"
   ]
  },
  {
   "cell_type": "code",
   "execution_count": null,
   "metadata": {},
   "outputs": [],
   "source": [
    "normalizer = Normalizer()\n",
    "\n",
    "X_normalized = normalizer.fit_transform(X.T).T"
   ]
  },
  {
   "cell_type": "code",
   "execution_count": null,
   "metadata": {},
   "outputs": [],
   "source": [
    "plt.scatter(X_normalized[:,0], X_normalized[:,1])\n",
    "\n",
    "plt.title('Scaling with Normalizer')\n",
    "\n",
    "plt.xlabel('X1_norm')\n",
    "plt.ylabel('X2_norm')\n",
    "\n",
    "plt.show()"
   ]
  },
  {
   "cell_type": "code",
   "execution_count": null,
   "metadata": {},
   "outputs": [],
   "source": [
    "X_normalized[:,0].mean()"
   ]
  },
  {
   "cell_type": "code",
   "execution_count": null,
   "metadata": {},
   "outputs": [],
   "source": [
    "X_normalized[:,0].std()"
   ]
  }
 ],
 "metadata": {
  "kernelspec": {
   "display_name": "Python 3",
   "language": "python",
   "name": "python3"
  },
  "language_info": {
   "codemirror_mode": {
    "name": "ipython",
    "version": 3
   },
   "file_extension": ".py",
   "mimetype": "text/x-python",
   "name": "python",
   "nbconvert_exporter": "python",
   "pygments_lexer": "ipython3",
   "version": "3.7.6"
  },
  "toc": {
   "base_numbering": 1,
   "nav_menu": {},
   "number_sections": true,
   "sideBar": true,
   "skip_h1_title": false,
   "title_cell": "Table of Contents",
   "title_sidebar": "Contents",
   "toc_cell": false,
   "toc_position": {},
   "toc_section_display": true,
   "toc_window_display": false
  }
 },
 "nbformat": 4,
 "nbformat_minor": 2
}
