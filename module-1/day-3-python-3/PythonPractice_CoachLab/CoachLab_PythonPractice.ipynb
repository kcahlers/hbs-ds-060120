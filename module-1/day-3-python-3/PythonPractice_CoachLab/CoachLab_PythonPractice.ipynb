{
 "cells": [
  {
   "cell_type": "markdown",
   "metadata": {},
   "source": [
    "# Python Practice\n",
    "\n",
    "![boston city image, from the boston herald](bostoncity_source-bostonherald.jpg)\n",
    "\n",
    "I don't know about you all, but I miss traveling right now! Maybe looking at some details about cities around the world will sate my travel urges for now - so let's use a dictionary of cities to practice variable types, lists,  dictionaries and for-loops.\n",
    "\n",
    "This cities dictionary may look familiar to some of you - it was also used in your Prework, in the [Looping Over Collections Lab](https://learn.co/tracks/data-science-enterprise-harvard-business-school-summer-bootcamp/optional-prework-python/introduction-to-python/looping-over-collections-lab)"
   ]
  },
  {
   "cell_type": "code",
   "execution_count": 1,
   "metadata": {},
   "outputs": [],
   "source": [
    "# Here's a list of city dictionaries\n",
    "cities_dict_list = [\n",
    "    {'City': 'Buenos Aires',\n",
    "     'Country': 'Argentina',\n",
    "     'Population': 2891000,\n",
    "     'Area': 4758},\n",
    "    {'City': 'Toronto',\n",
    "     'Country': 'Canada',\n",
    "     'Population': 2800000,\n",
    "     'Area': 2731},\n",
    "    {'City': 'Pyeongchang',\n",
    "     'Country': 'South Korea',\n",
    "     'Population': 2581000,\n",
    "     'Area': 3194},\n",
    "    {'City': 'Marrakesh',\n",
    "     'Country': 'Morocco',\n",
    "     'Population': 928850,\n",
    "     'Area': 200},\n",
    "    {'City': 'Albuquerque',\n",
    "     'Country': 'USA',\n",
    "     'Population': 559277,\n",
    "     'Area': 491},\n",
    "    {'City': 'Los Cabos',\n",
    "     'Country': 'Mexico',\n",
    "     'Population': 287671,\n",
    "     'Area': 3750},\n",
    "    {'City': 'Greenville',\n",
    "     'Country': 'USA',\n",
    "     'Population': 84554,\n",
    "     'Area': 68},\n",
    "    {'City': 'Archipelago Sea',\n",
    "     'Country': 'Finland',\n",
    "     'Population': 60000,\n",
    "     'Area': 8300},\n",
    "    {'City': 'Walla Walla Valley',\n",
    "     'Country': 'Oregon',\n",
    "     'Population': 32237,\n",
    "     'Area': 33},\n",
    "    {'City': 'Salina Island',\n",
    "     'Country': 'Italy',\n",
    "     'Population': 4000,\n",
    "     'Area': 27},\n",
    "    {'City': 'Solta',\n",
    "     'Country': 'Croatia',\n",
    "     'Population': 1700,\n",
    "     'Area': 59},\n",
    "    {'City': 'Iguazu Falls',\n",
    "     'Country': 'Argentina',\n",
    "     'Population': 0,\n",
    "     'Area': 672}\n",
    "]"
   ]
  },
  {
   "cell_type": "markdown",
   "metadata": {},
   "source": [
    "Let's look at the first city in the list of city dictionaries, Buenos Aires:"
   ]
  },
  {
   "cell_type": "code",
   "execution_count": 2,
   "metadata": {},
   "outputs": [
    {
     "data": {
      "text/plain": [
       "{'City': 'Buenos Aires',\n",
       " 'Country': 'Argentina',\n",
       " 'Population': 2891000,\n",
       " 'Area': 4758}"
      ]
     },
     "execution_count": 2,
     "metadata": {},
     "output_type": "execute_result"
    }
   ],
   "source": [
    "cities_dict_list[0]"
   ]
  },
  {
   "cell_type": "markdown",
   "metadata": {},
   "source": [
    "Save it into a new variable, `first_city`:"
   ]
  },
  {
   "cell_type": "code",
   "execution_count": 6,
   "metadata": {},
   "outputs": [
    {
     "data": {
      "text/plain": [
       "{'City': 'Buenos Aires',\n",
       " 'Country': 'Argentina',\n",
       " 'Population': 2891000,\n",
       " 'Area': 4758}"
      ]
     },
     "execution_count": 6,
     "metadata": {},
     "output_type": "execute_result"
    }
   ],
   "source": [
    "first_city = cities_dict_list[0]\n",
    "first_city"
   ]
  },
  {
   "cell_type": "markdown",
   "metadata": {},
   "source": [
    "Let's say I want to print all of the details about Buenos Aires nicely? How can we use `f-string` or `format` to do that?"
   ]
  },
  {
   "cell_type": "code",
   "execution_count": 9,
   "metadata": {},
   "outputs": [
    {
     "name": "stdout",
     "output_type": "stream",
     "text": [
      "Buenos Aires is located in Argentina with a population of 2891000 and has an area of 4758\n"
     ]
    }
   ],
   "source": [
    "print(f\"{first_city['City']} is located in {first_city['Country']} with a population of {first_city['Population']} and has an area of {first_city['Area']}\")"
   ]
  },
  {
   "cell_type": "code",
   "execution_count": 12,
   "metadata": {},
   "outputs": [
    {
     "name": "stdout",
     "output_type": "stream",
     "text": [
      "Buenos Aires is in Argentina, with a population of2891000 and area of 4758\n"
     ]
    }
   ],
   "source": [
    "print('{} is in {}, with a population of{} and area of {}'.format(first_city['City'], \n",
    "                                                                  first_city['Country'], \n",
    "                                                                  first_city['Population'], \n",
    "                                                                  first_city['Area']))"
   ]
  },
  {
   "cell_type": "markdown",
   "metadata": {},
   "source": [
    "Let's use a for-loop and do the same thing for each city in `cities_dict`:"
   ]
  },
  {
   "cell_type": "code",
   "execution_count": 13,
   "metadata": {
    "scrolled": true
   },
   "outputs": [
    {
     "name": "stdout",
     "output_type": "stream",
     "text": [
      "Buenos Aires is located in Argentina with a population of 2891000 and has an area of 4758\n",
      "----\n",
      "Toronto is located in Canada with a population of 2800000 and has an area of 2731\n",
      "----\n",
      "Pyeongchang is located in South Korea with a population of 2581000 and has an area of 3194\n",
      "----\n",
      "Marrakesh is located in Morocco with a population of 928850 and has an area of 200\n",
      "----\n",
      "Albuquerque is located in USA with a population of 559277 and has an area of 491\n",
      "----\n",
      "Los Cabos is located in Mexico with a population of 287671 and has an area of 3750\n",
      "----\n",
      "Greenville is located in USA with a population of 84554 and has an area of 68\n",
      "----\n",
      "Archipelago Sea is located in Finland with a population of 60000 and has an area of 8300\n",
      "----\n",
      "Walla Walla Valley is located in Oregon with a population of 32237 and has an area of 33\n",
      "----\n",
      "Salina Island is located in Italy with a population of 4000 and has an area of 27\n",
      "----\n",
      "Solta is located in Croatia with a population of 1700 and has an area of 59\n",
      "----\n",
      "Iguazu Falls is located in Argentina with a population of 0 and has an area of 672\n",
      "----\n"
     ]
    }
   ],
   "source": [
    "for city in cities_dict_list:\n",
    "    print(f\"{city['City']} is located in {city['Country']} with a population of {city['Population']} and has an area of {city['Area']}\")\n",
    "    print('----')\n",
    "    \n",
    "    \n",
    "    "
   ]
  },
  {
   "cell_type": "markdown",
   "metadata": {},
   "source": [
    "Sweet!\n",
    "\n",
    "Now, let's see if we can find out what the total population is across all of our cities:"
   ]
  },
  {
   "cell_type": "code",
   "execution_count": 14,
   "metadata": {},
   "outputs": [
    {
     "data": {
      "text/plain": [
       "6"
      ]
     },
     "execution_count": 14,
     "metadata": {},
     "output_type": "execute_result"
    }
   ],
   "source": [
    "population = [1,2,3]\n",
    "sum(population)"
   ]
  },
  {
   "cell_type": "code",
   "execution_count": 15,
   "metadata": {},
   "outputs": [
    {
     "data": {
      "text/plain": [
       "10230289"
      ]
     },
     "execution_count": 15,
     "metadata": {},
     "output_type": "execute_result"
    }
   ],
   "source": [
    "population=[]\n",
    "for city in cities_dict_list:\n",
    "    population.append(city['Population'])\n",
    "\n",
    "sum(population)\n",
    "\n",
    "#OR total_population = 0\n",
    "#for city in cities_dict_list:\n",
    "#    total_population += city['Population']\n",
    "#     total_population = total_population + city['Population']"
   ]
  },
  {
   "cell_type": "markdown",
   "metadata": {},
   "source": [
    "Note: you can use `f-string`s or `.format` to make that string look nicer.\n",
    "\n",
    "Start with this example: \" `print(f'{value:,}')` \" and see if you can get it to work with the total population we calculated above:"
   ]
  },
  {
   "cell_type": "code",
   "execution_count": 19,
   "metadata": {},
   "outputs": [
    {
     "name": "stdout",
     "output_type": "stream",
     "text": [
      "Total populations is 10,230,289\n"
     ]
    }
   ],
   "source": [
    "total_population = 0\n",
    "for city in cities_dict_list:\n",
    "    total_population += city['Population']\n",
    "    \n",
    "print(f'Total populations is {total_population:,}')"
   ]
  },
  {
   "cell_type": "markdown",
   "metadata": {},
   "source": [
    "Unfortunately, and you may have already seen this by now, but it says that `Walla Walla Valley` is in `Country: Oregon` - and Oregon is not a country! Let's update that value to say `USA`:"
   ]
  },
  {
   "cell_type": "code",
   "execution_count": 25,
   "metadata": {},
   "outputs": [
    {
     "name": "stdout",
     "output_type": "stream",
     "text": [
      "{'City': 'Walla Walla Valley', 'Country': 'USA', 'Population': 32237, 'Area': 33}\n"
     ]
    }
   ],
   "source": [
    "for city in cities_dict_list:\n",
    "    if city['Country'] == 'Oregon':\n",
    "        city['Country'] = 'USA'\n",
    "        \n",
    "print(cities_dict_list[8])"
   ]
  },
  {
   "cell_type": "markdown",
   "metadata": {},
   "source": [
    "Now let's use a for loop and an `if` statement to print out all the cities that are in `Country: USA`:"
   ]
  },
  {
   "cell_type": "code",
   "execution_count": 29,
   "metadata": {},
   "outputs": [
    {
     "name": "stdout",
     "output_type": "stream",
     "text": [
      "Albuquerque\n",
      "Greenville\n",
      "Walla Walla Valley\n"
     ]
    }
   ],
   "source": [
    "for city in cities_dict_list:\n",
    "    if city['Country'] == 'USA':\n",
    "        print (city['City'])"
   ]
  },
  {
   "cell_type": "markdown",
   "metadata": {},
   "source": [
    "Now let's say we want to only grab cities where the population is more than 100,000 people. Write a for loop that does so:"
   ]
  },
  {
   "cell_type": "code",
   "execution_count": 31,
   "metadata": {},
   "outputs": [
    {
     "name": "stdout",
     "output_type": "stream",
     "text": [
      "{'City': 'Buenos Aires', 'Country': 'Argentina', 'Population': 2891000, 'Area': 4758}\n",
      "{'City': 'Toronto', 'Country': 'Canada', 'Population': 2800000, 'Area': 2731}\n",
      "{'City': 'Pyeongchang', 'Country': 'South Korea', 'Population': 2581000, 'Area': 3194}\n",
      "{'City': 'Marrakesh', 'Country': 'Morocco', 'Population': 928850, 'Area': 200}\n",
      "{'City': 'Albuquerque', 'Country': 'USA', 'Population': 559277, 'Area': 491}\n",
      "{'City': 'Los Cabos', 'Country': 'Mexico', 'Population': 287671, 'Area': 3750}\n"
     ]
    }
   ],
   "source": [
    "for city in cities_dict_list:\n",
    "    if city['Population'] > 100000:\n",
    "        print (city)"
   ]
  },
  {
   "cell_type": "markdown",
   "metadata": {},
   "source": [
    "## Level Up!\n",
    "\n",
    "Below, I have defined a dictionary matching each country to its continent:"
   ]
  },
  {
   "cell_type": "code",
   "execution_count": 32,
   "metadata": {},
   "outputs": [],
   "source": [
    "continents_dict = {\n",
    "    'Argentina': 'South America',\n",
    "    'Canada': 'North America',\n",
    "    'South Korea': 'Asia',\n",
    "    'Morocco': 'Africa',\n",
    "    'USA': 'North America',\n",
    "    'Mexico': 'North America',\n",
    "    'Finland': 'Europe',\n",
    "    'Italy': 'Europe',\n",
    "    'Croatia': 'Europe'\n",
    "}"
   ]
  },
  {
   "cell_type": "markdown",
   "metadata": {},
   "source": [
    "How can we add each of these continents into our earlier dictionary, `cities_dict_list`?"
   ]
  },
  {
   "cell_type": "code",
   "execution_count": 40,
   "metadata": {},
   "outputs": [
    {
     "data": {
      "text/plain": [
       "[{'City': 'Buenos Aires',\n",
       "  'Country': 'Argentina',\n",
       "  'Population': 2891000,\n",
       "  'Area': 4758,\n",
       "  'Continent': 'South America'},\n",
       " {'City': 'Toronto',\n",
       "  'Country': 'Canada',\n",
       "  'Population': 2800000,\n",
       "  'Area': 2731,\n",
       "  'Continent': 'North America'},\n",
       " {'City': 'Pyeongchang',\n",
       "  'Country': 'South Korea',\n",
       "  'Population': 2581000,\n",
       "  'Area': 3194,\n",
       "  'Continent': 'Asia'},\n",
       " {'City': 'Marrakesh',\n",
       "  'Country': 'Morocco',\n",
       "  'Population': 928850,\n",
       "  'Area': 200,\n",
       "  'Continent': 'Africa'},\n",
       " {'City': 'Albuquerque',\n",
       "  'Country': 'USA',\n",
       "  'Population': 559277,\n",
       "  'Area': 491,\n",
       "  'Continent': 'North America'},\n",
       " {'City': 'Los Cabos',\n",
       "  'Country': 'Mexico',\n",
       "  'Population': 287671,\n",
       "  'Area': 3750,\n",
       "  'Continent': 'North America'},\n",
       " {'City': 'Greenville',\n",
       "  'Country': 'USA',\n",
       "  'Population': 84554,\n",
       "  'Area': 68,\n",
       "  'Continent': 'North America'},\n",
       " {'City': 'Archipelago Sea',\n",
       "  'Country': 'Finland',\n",
       "  'Population': 60000,\n",
       "  'Area': 8300,\n",
       "  'Continent': 'Europe'},\n",
       " {'City': 'Walla Walla Valley',\n",
       "  'Country': 'USA',\n",
       "  'Population': 32237,\n",
       "  'Area': 33,\n",
       "  'Continent': 'North America'},\n",
       " {'City': 'Salina Island',\n",
       "  'Country': 'Italy',\n",
       "  'Population': 4000,\n",
       "  'Area': 27,\n",
       "  'Continent': 'Europe'},\n",
       " {'City': 'Solta',\n",
       "  'Country': 'Croatia',\n",
       "  'Population': 1700,\n",
       "  'Area': 59,\n",
       "  'Continent': 'Europe'},\n",
       " {'City': 'Iguazu Falls',\n",
       "  'Country': 'Argentina',\n",
       "  'Population': 0,\n",
       "  'Area': 672,\n",
       "  'Continent': 'South America'}]"
      ]
     },
     "execution_count": 40,
     "metadata": {},
     "output_type": "execute_result"
    }
   ],
   "source": [
    "for city in cities_dict_list:\n",
    "    for country, continent in continents_dict.items():\n",
    "        if city['Country'] == country:\n",
    "            city['Continent'] = continent\n",
    "cities_dict_list"
   ]
  },
  {
   "cell_type": "code",
   "execution_count": null,
   "metadata": {},
   "outputs": [],
   "source": []
  }
 ],
 "metadata": {
  "kernelspec": {
   "display_name": "learn-env",
   "language": "python",
   "name": "learn-env"
  },
  "language_info": {
   "codemirror_mode": {
    "name": "ipython",
    "version": 3
   },
   "file_extension": ".py",
   "mimetype": "text/x-python",
   "name": "python",
   "nbconvert_exporter": "python",
   "pygments_lexer": "ipython3",
   "version": "3.7.6"
  }
 },
 "nbformat": 4,
 "nbformat_minor": 2
}
