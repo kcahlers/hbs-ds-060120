{
 "cells": [
  {
   "cell_type": "markdown",
   "metadata": {},
   "source": [
    "What if we wanted to use continue and break to skip an item if an item costs more than **$10** ?"
   ]
  },
  {
   "cell_type": "code",
   "execution_count": 4,
   "metadata": {},
   "outputs": [
    {
     "name": "stdout",
     "output_type": "stream",
     "text": [
      "- [ ] cheese: $2.79\n",
      "- [ ] whole milk: $3.42\n",
      "- [ ] kefir: $4.5\n",
      "- [ ] kale: $2.75\n",
      "- [ ] oranges: $3.64\n",
      "- [ ] ben & jerry's: $5.29\n",
      "Total bill: $22.39\n"
     ]
    }
   ],
   "source": [
    "items = ['cheese', 'whole milk', 'kefir', 'tofu four-pack', 'kale', 'oranges', 'ham', 'ben & jerry\\'s']\n",
    "costs = [2.79, 3.42, 4.50, 12.00, 2.75, 3.64, 25.00, 5.29]\n",
    "\n",
    "shopping_list = dict(zip(items, costs))\n",
    "\n",
    "total_bill = 0\n",
    "for item,cost in shopping_list.items():\n",
    "    if cost > 10:\n",
    "        continue\n",
    "    total_bill += cost\n",
    "    print (f'- [ ] {item}: ${cost}')\n",
    "    \n",
    "print(f'Total bill: ${total_bill}')"
   ]
  },
  {
   "cell_type": "code",
   "execution_count": 5,
   "metadata": {},
   "outputs": [
    {
     "name": "stdout",
     "output_type": "stream",
     "text": [
      "- [ ] cheese: $2.79\n",
      "- [ ] whole milk: $3.42\n",
      "- [ ] kefir: $4.5\n",
      "Total bill: $10.71\n"
     ]
    }
   ],
   "source": [
    "total_bill = 0\n",
    "for item,cost in shopping_list.items():\n",
    "    if cost > 10:\n",
    "        break \n",
    "        # completely leave store so offended after seeing price of tofu\n",
    "    total_bill += cost\n",
    "    print (f'- [ ] {item}: ${cost}')\n",
    "    \n",
    "print(f'Total bill: ${total_bill}')"
   ]
  },
  {
   "cell_type": "code",
   "execution_count": 6,
   "metadata": {},
   "outputs": [
    {
     "name": "stdout",
     "output_type": "stream",
     "text": [
      "- [ ] cheese: $2.79\n",
      "- [ ] whole milk: $3.42\n",
      "- [ ] kefir: $4.50\n",
      "- [ ] tofu four-pack: $12.00\n",
      "- [ ] kale: $2.75\n",
      "- [ ] oranges: $3.64\n",
      "- [ ] ben & jerry's: $5.29\n",
      "Total bill: $34.39\n"
     ]
    }
   ],
   "source": [
    "total_bill = 0\n",
    "for item,cost in shopping_list.items():\n",
    "    if cost > 15:\n",
    "        continue\n",
    "    total_bill += cost\n",
    "    print (f'- [ ] {item}: ${cost:.2f}')\n",
    "    # prettier formatting\n",
    "print(f'Total bill: ${total_bill}')"
   ]
  },
  {
   "cell_type": "markdown",
   "metadata": {},
   "source": [
    "### Nested Loops"
   ]
  },
  {
   "cell_type": "code",
   "execution_count": 7,
   "metadata": {},
   "outputs": [
    {
     "name": "stdout",
     "output_type": "stream",
     "text": [
      "loop1: 1\n",
      "loop2--- 1\n",
      "loop2--- 2\n",
      "loop2--- 3\n",
      "loop2--- 4\n",
      "loop2--- 5\n",
      "loop1: 2\n",
      "loop2--- 1\n",
      "loop2--- 2\n",
      "loop2--- 3\n",
      "loop2--- 4\n",
      "loop2--- 5\n",
      "loop1: 3\n",
      "loop2--- 1\n",
      "loop2--- 2\n",
      "loop2--- 3\n",
      "loop2--- 4\n",
      "loop2--- 5\n",
      "loop1: 4\n",
      "loop2--- 1\n",
      "loop2--- 2\n",
      "loop2--- 3\n",
      "loop2--- 4\n",
      "loop2--- 5\n",
      "loop1: 5\n",
      "loop2--- 1\n",
      "loop2--- 2\n",
      "loop2--- 3\n",
      "loop2--- 4\n",
      "loop2--- 5\n"
     ]
    }
   ],
   "source": [
    "list2 = [1, 2, 3, 4, 5]\n",
    "\n",
    "for x in list2:\n",
    "    print('loop1:', x)\n",
    "    for y in list2:\n",
    "        print('loop2---', y)"
   ]
  },
  {
   "cell_type": "markdown",
   "metadata": {},
   "source": [
    "What do you expect to see? Why?"
   ]
  },
  {
   "cell_type": "markdown",
   "metadata": {},
   "source": [
    "Here is a more robust shopping list of nested dictionaries:\n",
    "```python\n",
    "shopping_dict = {\n",
    "    'Groceries': {\n",
    "        'ben & jerrys': 5.29, 'cheese': 2.79, 'ham': 25.0, 'kale': 2.75,\n",
    "        'kefir': 4.5,'oranges': 3.64, 'tofu four-pack': 12.0,'whole milk': 3.42\n",
    "    },\n",
    "    'House supplies': {'toilet paper pack': 16.50, 'clorox spray': 6.43, 'kleenex': 2.50,},\n",
    "    'Pet supplies': {'Taste of the Wild': 65.20, 'squeaky toy': 4.50, 'duck feet': 8.45}}\n",
    "```\n",
    "\n",
    "write the nested for loops to print out each grocery list with its total\n",
    "\n",
    "_Hint_\n",
    "\n",
    "- use [this link](https://stackoverflow.com/a/45310389) for help in formatting the total to two decimal places"
   ]
  },
  {
   "cell_type": "code",
   "execution_count": 8,
   "metadata": {},
   "outputs": [],
   "source": [
    "shopping_dict = {\n",
    "    'Groceries': {\n",
    "        'ben & jerrys': 5.29, 'cheese': 2.79, 'ham': 25.0, 'kale': 2.75,\n",
    "        'kefir': 4.5,'oranges': 3.64, 'tofu four-pack': 12.0,'whole milk': 3.42\n",
    "    },\n",
    "    'House supplies': {'toilet paper pack': 16.50, 'clorox spray': 6.43, 'kleenex': 2.50,},\n",
    "    'Pet supplies': {'Taste of the Wild': 65.20, 'squeaky toy': 4.50, 'duck feet': 8.45}}"
   ]
  },
  {
   "cell_type": "code",
   "execution_count": 9,
   "metadata": {},
   "outputs": [
    {
     "name": "stdout",
     "output_type": "stream",
     "text": [
      "Groceries\n",
      "House supplies\n",
      "Pet supplies\n"
     ]
    }
   ],
   "source": [
    "for x in shopping_dict:\n",
    "    print(x)"
   ]
  },
  {
   "cell_type": "code",
   "execution_count": 10,
   "metadata": {},
   "outputs": [
    {
     "name": "stdout",
     "output_type": "stream",
     "text": [
      "('Groceries', {'ben & jerrys': 5.29, 'cheese': 2.79, 'ham': 25.0, 'kale': 2.75, 'kefir': 4.5, 'oranges': 3.64, 'tofu four-pack': 12.0, 'whole milk': 3.42})\n",
      "('House supplies', {'toilet paper pack': 16.5, 'clorox spray': 6.43, 'kleenex': 2.5})\n",
      "('Pet supplies', {'Taste of the Wild': 65.2, 'squeaky toy': 4.5, 'duck feet': 8.45})\n"
     ]
    }
   ],
   "source": [
    "for x in shopping_dict.items():\n",
    "    print(x)\n",
    "    # x represents whole row"
   ]
  },
  {
   "cell_type": "code",
   "execution_count": 13,
   "metadata": {},
   "outputs": [
    {
     "name": "stdout",
     "output_type": "stream",
     "text": [
      "Groceries\n",
      "ben & jerrys 5.29\n",
      "cheese 2.79\n",
      "ham 25.0\n",
      "kale 2.75\n",
      "kefir 4.5\n",
      "oranges 3.64\n",
      "tofu four-pack 12.0\n",
      "whole milk 3.42\n",
      "House supplies\n",
      "toilet paper pack 16.5\n",
      "clorox spray 6.43\n",
      "kleenex 2.5\n",
      "Pet supplies\n",
      "Taste of the Wild 65.2\n",
      "squeaky toy 4.5\n",
      "duck feet 8.45\n"
     ]
    }
   ],
   "source": [
    "for category, category_items in shopping_dict.items():\n",
    "    print (category)\n",
    "    for item, cost in category_items.items():\n",
    "        print(item,cost)"
   ]
  },
  {
   "cell_type": "code",
   "execution_count": 14,
   "metadata": {},
   "outputs": [
    {
     "name": "stdout",
     "output_type": "stream",
     "text": [
      "---------\n",
      "Groceries\n",
      "---------\n",
      "- [ ] ben & jerrys: $5.29\n",
      "- [ ] cheese: $2.79\n",
      "- [ ] ham: $25.00\n",
      "- [ ] kale: $2.75\n",
      "- [ ] kefir: $4.50\n",
      "- [ ] oranges: $3.64\n",
      "- [ ] tofu four-pack: $12.00\n",
      "- [ ] whole milk: $3.42\n",
      "--------------\n",
      "House supplies\n",
      "--------------\n",
      "- [ ] toilet paper pack: $16.50\n",
      "- [ ] clorox spray: $6.43\n",
      "- [ ] kleenex: $2.50\n",
      "------------\n",
      "Pet supplies\n",
      "------------\n",
      "- [ ] Taste of the Wild: $65.20\n",
      "- [ ] squeaky toy: $4.50\n",
      "- [ ] duck feet: $8.45\n"
     ]
    }
   ],
   "source": [
    "for category, category_items in shopping_dict.items():\n",
    "    print('-'*len(category))\n",
    "    print (category)\n",
    "    print('-'*len(category))\n",
    "    for item, cost in category_items.items():\n",
    "        print(f'- [ ] {item}: ${cost:.2f}')"
   ]
  },
  {
   "cell_type": "code",
   "execution_count": 19,
   "metadata": {},
   "outputs": [
    {
     "data": {
      "text/plain": [
       "{'a': [1, 2, 3, 4], 'b': ['a', 'b', 4, 5], 'c': [4, 5, 6, 7]}"
      ]
     },
     "execution_count": 19,
     "metadata": {},
     "output_type": "execute_result"
    }
   ],
   "source": [
    "dict_of_lists = {'a':[1,2,3,4],'b':['a','b',4,5],'c':[4,5,6,7]}\n",
    "dict_of_lists"
   ]
  },
  {
   "cell_type": "code",
   "execution_count": 20,
   "metadata": {},
   "outputs": [
    {
     "name": "stdout",
     "output_type": "stream",
     "text": [
      "a\n",
      "[1, 2, 3, 4]\n",
      "b\n",
      "['a', 'b', 4, 5]\n",
      "c\n",
      "[4, 5, 6, 7]\n"
     ]
    }
   ],
   "source": [
    "for k, v in dict_of_lists.items():\n",
    "    print(k)\n",
    "    print(v)"
   ]
  },
  {
   "cell_type": "code",
   "execution_count": 21,
   "metadata": {},
   "outputs": [
    {
     "name": "stdout",
     "output_type": "stream",
     "text": [
      "a\n",
      "5\n",
      "10\n",
      "15\n",
      "20\n",
      "b\n",
      "aaaaa\n",
      "bbbbb\n",
      "20\n",
      "25\n",
      "c\n",
      "20\n",
      "25\n",
      "30\n",
      "35\n"
     ]
    }
   ],
   "source": [
    "for k, v in dict_of_lists.items():\n",
    "    print(k)\n",
    "    for item in v:\n",
    "        print(item*5)"
   ]
  },
  {
   "cell_type": "markdown",
   "metadata": {},
   "source": [
    "### Functions\n",
    "\n",
    "**Built-in functions** <br>\n",
    "Many useful functions are already built into Python:<br>\n",
    "\n",
    "`print()`: print the given string or variable's value<br>\n",
    "`type()`: returns the datatype of the argument<br>\n",
    "`len()`: returns the length of an array<br>\n",
    "`sum()`: returns the sum of the array's values<br>\n",
    "`min()`: returns the smallest member of an array <br>\n",
    "`max()`: returns the largest member of an array<br>\n",
    "\n",
    "\n",
    "**Writing your own functions**\n",
    "\n",
    "```python\n",
    "def sayHello():\n",
    "    print(\"Hello!\")\n",
    "```\n"
   ]
  },
  {
   "cell_type": "markdown",
   "metadata": {},
   "source": [
    "False-y values:\n",
    "- 0\n",
    "- empty string\n",
    "- false\n",
    "- [ ]\n",
    "- { }\n",
    "- (,)\n",
    "- 0.0\n",
    "- None"
   ]
  },
  {
   "cell_type": "code",
   "execution_count": 24,
   "metadata": {},
   "outputs": [],
   "source": [
    "if 0:\n",
    "    print('True!!')"
   ]
  },
  {
   "cell_type": "markdown",
   "metadata": {},
   "source": [
    "Let's talk about arguments or parameters. Let's say we want to make this function more dynamic and print out whatever we want! How would we do that?\n",
    "```python\n",
    "def shout(phrase):\n",
    "    print(phrase + \"!!!\")\n",
    "shout(\"oh hai\")\n",
    "```"
   ]
  },
  {
   "cell_type": "code",
   "execution_count": 25,
   "metadata": {},
   "outputs": [
    {
     "name": "stdout",
     "output_type": "stream",
     "text": [
      "oh hai!!!\n"
     ]
    }
   ],
   "source": [
    "def shout(phrase):\n",
    "    print(phrase + \"!!!\")\n",
    "shout(\"oh hai\")\n",
    "# requires some sort of input, can't have shout()\n",
    "# cant put integer (i.e. shout(2)) because can't have integer plus string (!!!) together"
   ]
  },
  {
   "cell_type": "code",
   "execution_count": 27,
   "metadata": {
    "scrolled": true
   },
   "outputs": [
    {
     "name": "stdout",
     "output_type": "stream",
     "text": [
      "error!\n"
     ]
    }
   ],
   "source": [
    "def shout(phrase):\n",
    "    if not isinstance(phrase, str):\n",
    "        print('error!')\n",
    "        return\n",
    "        #must use return for within def statement. cannot use continue/break\n",
    "        #continue break only inside loop but not within nested def\n",
    "    print(phrase + \"!!!\")\n",
    "    \n",
    "shout(12)"
   ]
  },
  {
   "cell_type": "code",
   "execution_count": 28,
   "metadata": {},
   "outputs": [
    {
     "ename": "SyntaxError",
     "evalue": "'continue' not properly in loop (<ipython-input-28-346ffebc85a7>, line 7)",
     "output_type": "error",
     "traceback": [
      "\u001b[0;36m  File \u001b[0;32m\"<ipython-input-28-346ffebc85a7>\"\u001b[0;36m, line \u001b[0;32m7\u001b[0m\n\u001b[0;31m    print(phrase + \"!!!\")\u001b[0m\n\u001b[0m               ^\u001b[0m\n\u001b[0;31mSyntaxError\u001b[0m\u001b[0;31m:\u001b[0m 'continue' not properly in loop\n"
     ]
    }
   ],
   "source": [
    "def shout(phrase):\n",
    "    if not isinstance(phrase, str):\n",
    "        print('error!')\n",
    "        continue\n",
    "        #must use return for within def statement. cannot use continue/break\n",
    "        #continue break only inside loop but not within nested def\n",
    "    print(phrase + \"!!!\")\n",
    "    \n",
    "shout(12)"
   ]
  },
  {
   "cell_type": "markdown",
   "metadata": {},
   "source": [
    "What if we don't pass in an argument? What happens?\n",
    "Maybe we can establish a default value for the argument in case it isn't passed in.\n",
    "\n",
    "```python\n",
    "def shout(phrase = \"oh hai\"):\n",
    "    print(phrase + \"!!!\")\n",
    "\n",
    "shout()\n",
    "shout(\"bye\")\n",
    "```"
   ]
  },
  {
   "cell_type": "code",
   "execution_count": 26,
   "metadata": {},
   "outputs": [
    {
     "name": "stdout",
     "output_type": "stream",
     "text": [
      "oh hai!!!\n",
      "bye!!!\n"
     ]
    }
   ],
   "source": [
    "def shout(phrase = \"oh hai\"):\n",
    "    print(phrase + \"!!!\")\n",
    "\n",
    "shout()\n",
    "shout(\"bye\")"
   ]
  },
  {
   "cell_type": "code",
   "execution_count": 29,
   "metadata": {},
   "outputs": [
    {
     "name": "stdout",
     "output_type": "stream",
     "text": [
      " !!!\n"
     ]
    }
   ],
   "source": [
    "def shout(phrase = \"oh hai\"):\n",
    "    print(phrase + \"!!!\")\n",
    "\n",
    "shout(' ')"
   ]
  },
  {
   "cell_type": "code",
   "execution_count": 31,
   "metadata": {},
   "outputs": [
    {
     "name": "stdout",
     "output_type": "stream",
     "text": [
      "oh hai!!!\n"
     ]
    }
   ],
   "source": [
    "def shout(phrase = \"oh hai\"):\n",
    "    print(phrase + \"!!!\")\n",
    "    \n",
    "shout()"
   ]
  },
  {
   "cell_type": "markdown",
   "metadata": {},
   "source": [
    "What if we wanted to run a function, take its output and put it in to another function?\n",
    "\n",
    "```python\n",
    "def add_one(number):\n",
    "    return number + 1\n",
    "\n",
    "def times_five(number):\n",
    "    return number * 5\n",
    "\n",
    "number_plus_one = add_one(1)\n",
    "answer = times_five(number_plus_one)\n",
    "print(answer)\n",
    "```\n",
    "\n",
    "What will the above code return?"
   ]
  },
  {
   "cell_type": "code",
   "execution_count": 35,
   "metadata": {},
   "outputs": [
    {
     "name": "stdout",
     "output_type": "stream",
     "text": [
      "10\n"
     ]
    }
   ],
   "source": [
    "def add_one(number):\n",
    "    return number + 1\n",
    "\n",
    "def times_five(number):\n",
    "    return number * 5\n",
    "\n",
    "number_plus_one = add_one(1)\n",
    "answer = times_five(number_plus_one)\n",
    "print(answer)"
   ]
  },
  {
   "cell_type": "code",
   "execution_count": 43,
   "metadata": {},
   "outputs": [],
   "source": [
    "def make_sentence(word1, word2, word3=None, word4=None):\n",
    "    my_sentence = f'My words are {word1} and {word2}.'\n",
    "    if word3:\n",
    "        my_sentence += f' I also have {word3}.'\n",
    "        #if you put a return here - you're cutting off the function early\n",
    "        #i.e. anytime there's a word3, the loop will always stop here and will never hit the word4, even if word4 exists\n",
    "        #if no word3 then would iterate to word4\n",
    "    if word4:\n",
    "        my_sentence += f' My last word is {word4}.'\n",
    "        \n",
    "    return my_sentence"
   ]
  },
  {
   "cell_type": "code",
   "execution_count": 38,
   "metadata": {},
   "outputs": [
    {
     "name": "stderr",
     "output_type": "stream",
     "text": [
      "ERROR:root:Internal Python error in the inspect module.\n",
      "Below is the traceback from this internal error.\n",
      "\n"
     ]
    },
    {
     "name": "stdout",
     "output_type": "stream",
     "text": [
      "Traceback (most recent call last):\n",
      "  File \"/Users/kcahlers/Applications/anaconda3/lib/python3.7/site-packages/IPython/core/interactiveshell.py\", line 3331, in run_code\n",
      "    exec(code_obj, self.user_global_ns, self.user_ns)\n",
      "  File \"<ipython-input-38-c5be9ea7b76f>\", line 1, in <module>\n",
      "    print(make_sentece())\n",
      "NameError: name 'make_sentece' is not defined\n",
      "\n",
      "During handling of the above exception, another exception occurred:\n",
      "\n",
      "Traceback (most recent call last):\n",
      "  File \"/Users/kcahlers/Applications/anaconda3/lib/python3.7/site-packages/IPython/core/interactiveshell.py\", line 2044, in showtraceback\n",
      "    stb = value._render_traceback_()\n",
      "AttributeError: 'NameError' object has no attribute '_render_traceback_'\n",
      "\n",
      "During handling of the above exception, another exception occurred:\n",
      "\n",
      "Traceback (most recent call last):\n",
      "  File \"/Users/kcahlers/Applications/anaconda3/lib/python3.7/site-packages/IPython/core/ultratb.py\", line 1151, in get_records\n",
      "    return _fixed_getinnerframes(etb, number_of_lines_of_context, tb_offset)\n",
      "  File \"/Users/kcahlers/Applications/anaconda3/lib/python3.7/site-packages/IPython/core/ultratb.py\", line 319, in wrapped\n",
      "    return f(*args, **kwargs)\n",
      "  File \"/Users/kcahlers/Applications/anaconda3/lib/python3.7/site-packages/IPython/core/ultratb.py\", line 353, in _fixed_getinnerframes\n",
      "    records = fix_frame_records_filenames(inspect.getinnerframes(etb, context))\n",
      "  File \"/Users/kcahlers/Applications/anaconda3/lib/python3.7/inspect.py\", line 1502, in getinnerframes\n",
      "    frameinfo = (tb.tb_frame,) + getframeinfo(tb, context)\n",
      "  File \"/Users/kcahlers/Applications/anaconda3/lib/python3.7/inspect.py\", line 1460, in getframeinfo\n",
      "    filename = getsourcefile(frame) or getfile(frame)\n",
      "  File \"/Users/kcahlers/Applications/anaconda3/lib/python3.7/inspect.py\", line 696, in getsourcefile\n",
      "    if getattr(getmodule(object, filename), '__loader__', None) is not None:\n",
      "  File \"/Users/kcahlers/Applications/anaconda3/lib/python3.7/inspect.py\", line 725, in getmodule\n",
      "    file = getabsfile(object, _filename)\n",
      "  File \"/Users/kcahlers/Applications/anaconda3/lib/python3.7/inspect.py\", line 709, in getabsfile\n",
      "    return os.path.normcase(os.path.abspath(_filename))\n",
      "  File \"/Users/kcahlers/Applications/anaconda3/lib/python3.7/posixpath.py\", line 383, in abspath\n",
      "    cwd = os.getcwd()\n",
      "PermissionError: [Errno 1] Operation not permitted\n"
     ]
    },
    {
     "ename": "NameError",
     "evalue": "name 'make_sentece' is not defined",
     "output_type": "error",
     "traceback": [
      "\u001b[0;31m---------------------------------------------------------------------------\u001b[0m"
     ]
    }
   ],
   "source": [
    "print(make_sentece())"
   ]
  },
  {
   "cell_type": "code",
   "execution_count": 44,
   "metadata": {},
   "outputs": [
    {
     "name": "stdout",
     "output_type": "stream",
     "text": [
      "My words are dog and cat. My last word is ball.\n"
     ]
    }
   ],
   "source": [
    "print(make_sentence('dog','cat', word4='ball'))"
   ]
  },
  {
   "cell_type": "code",
   "execution_count": 45,
   "metadata": {},
   "outputs": [
    {
     "name": "stdout",
     "output_type": "stream",
     "text": [
      "My words are cat and dog. My last word is ball.\n"
     ]
    }
   ],
   "source": [
    "print(make_sentence(word2='dog',word1='cat', word4='ball'))"
   ]
  },
  {
   "cell_type": "code",
   "execution_count": 47,
   "metadata": {},
   "outputs": [],
   "source": [
    "def asdf(some_number):\n",
    "    if some_number % 2: #true when some_number is odd\n",
    "        return 'Odd'\n",
    "    else:\n",
    "        return some_number"
   ]
  },
  {
   "cell_type": "code",
   "execution_count": 48,
   "metadata": {},
   "outputs": [
    {
     "data": {
      "text/plain": [
       "100"
      ]
     },
     "execution_count": 48,
     "metadata": {},
     "output_type": "execute_result"
    }
   ],
   "source": [
    "asdf(100)"
   ]
  },
  {
   "cell_type": "code",
   "execution_count": 49,
   "metadata": {},
   "outputs": [
    {
     "data": {
      "text/plain": [
       "'Odd'"
      ]
     },
     "execution_count": 49,
     "metadata": {},
     "output_type": "execute_result"
    }
   ],
   "source": [
    "asdf(27)"
   ]
  },
  {
   "cell_type": "markdown",
   "metadata": {},
   "source": [
    "Adapt your shopping list nested for-loop to be wrapped in a function you could call on any shopping list of nested dictionaries."
   ]
  },
  {
   "cell_type": "code",
   "execution_count": 50,
   "metadata": {},
   "outputs": [
    {
     "data": {
      "text/plain": [
       "{'Groceries': {'ben & jerrys': 5.29,\n",
       "  'cheese': 2.79,\n",
       "  'ham': 25.0,\n",
       "  'kale': 2.75,\n",
       "  'kefir': 4.5,\n",
       "  'oranges': 3.64,\n",
       "  'tofu four-pack': 12.0,\n",
       "  'whole milk': 3.42},\n",
       " 'House supplies': {'toilet paper pack': 16.5,\n",
       "  'clorox spray': 6.43,\n",
       "  'kleenex': 2.5},\n",
       " 'Pet supplies': {'Taste of the Wild': 65.2,\n",
       "  'squeaky toy': 4.5,\n",
       "  'duck feet': 8.45}}"
      ]
     },
     "execution_count": 50,
     "metadata": {},
     "output_type": "execute_result"
    }
   ],
   "source": [
    "shopping_dict"
   ]
  },
  {
   "cell_type": "code",
   "execution_count": 51,
   "metadata": {},
   "outputs": [],
   "source": [
    "def print_shopping_dicts(s_dict):\n",
    "    for category, category_items in s_dict.items():\n",
    "        print('-'*len(category))\n",
    "        print (category)\n",
    "        print('-'*len(category))\n",
    "        for item, cost in category_items.items():\n",
    "            print(f'- [ ] {item}: ${cost:.2f}')"
   ]
  },
  {
   "cell_type": "code",
   "execution_count": 56,
   "metadata": {},
   "outputs": [
    {
     "name": "stdout",
     "output_type": "stream",
     "text": [
      "---------\n",
      "Groceries\n",
      "---------\n",
      "- [ ] ben & jerrys: $5.29\n",
      "- [ ] cheese: $2.79\n",
      "- [ ] ham: $25.00\n",
      "- [ ] kale: $2.75\n",
      "- [ ] kefir: $4.50\n",
      "- [ ] oranges: $3.64\n",
      "- [ ] tofu four-pack: $12.00\n",
      "- [ ] whole milk: $3.42\n",
      "--------------\n",
      "House supplies\n",
      "--------------\n",
      "- [ ] toilet paper pack: $16.50\n",
      "- [ ] clorox spray: $6.43\n",
      "- [ ] kleenex: $2.50\n",
      "------------\n",
      "Pet supplies\n",
      "------------\n",
      "- [ ] Taste of the Wild: $65.20\n",
      "- [ ] squeaky toy: $4.50\n",
      "- [ ] duck feet: $8.45\n"
     ]
    }
   ],
   "source": [
    "print_shopping_dicts(shopping_dict)"
   ]
  },
  {
   "cell_type": "code",
   "execution_count": 58,
   "metadata": {},
   "outputs": [],
   "source": [
    "x=print_shopping_dicts"
   ]
  },
  {
   "cell_type": "code",
   "execution_count": 59,
   "metadata": {},
   "outputs": [
    {
     "data": {
      "text/plain": [
       "function"
      ]
     },
     "execution_count": 59,
     "metadata": {},
     "output_type": "execute_result"
    }
   ],
   "source": [
    "type(x)"
   ]
  },
  {
   "cell_type": "code",
   "execution_count": 60,
   "metadata": {},
   "outputs": [],
   "source": [
    "# 'is' references the id - i.e. where the computer points \n",
    "#i.e. x=2 then 2 and x point in the same place"
   ]
  },
  {
   "cell_type": "code",
   "execution_count": 61,
   "metadata": {},
   "outputs": [
    {
     "data": {
      "text/plain": [
       "False"
      ]
     },
     "execution_count": 61,
     "metadata": {},
     "output_type": "execute_result"
    }
   ],
   "source": [
    "[] is []"
   ]
  },
  {
   "cell_type": "markdown",
   "metadata": {},
   "source": [
    "False because making 2 new empty lists that are stored and referenced in different locationes. See below"
   ]
  },
  {
   "cell_type": "code",
   "execution_count": 62,
   "metadata": {},
   "outputs": [
    {
     "name": "stdout",
     "output_type": "stream",
     "text": [
      "['same'] [] ['same']\n"
     ]
    }
   ],
   "source": [
    "a = []\n",
    "b = []\n",
    "c = a\n",
    "\n",
    "a.append('same')\n",
    "\n",
    "print(a,b,c)"
   ]
  },
  {
   "cell_type": "code",
   "execution_count": 64,
   "metadata": {},
   "outputs": [
    {
     "name": "stdout",
     "output_type": "stream",
     "text": [
      "ab\n"
     ]
    },
    {
     "data": {
      "text/plain": [
       "False"
      ]
     },
     "execution_count": 64,
     "metadata": {},
     "output_type": "execute_result"
    }
   ],
   "source": [
    "#stings are built like lists under the hood\n",
    "a = 'a'\n",
    "b = 'b'\n",
    "print (a+b)\n",
    "a + b is 'ab'\n",
    "\n",
    "#integers and characters have 1 canonical location in memory (primitive types). cannot be stored alswer"
   ]
  },
  {
   "cell_type": "code",
   "execution_count": 65,
   "metadata": {},
   "outputs": [
    {
     "data": {
      "text/plain": [
       "True"
      ]
     },
     "execution_count": 65,
     "metadata": {},
     "output_type": "execute_result"
    }
   ],
   "source": [
    "1+2 is 3"
   ]
  },
  {
   "cell_type": "code",
   "execution_count": 66,
   "metadata": {},
   "outputs": [
    {
     "data": {
      "text/plain": [
       "True"
      ]
     },
     "execution_count": 66,
     "metadata": {},
     "output_type": "execute_result"
    }
   ],
   "source": [
    "a='a'\n",
    "b=a\n",
    "\n",
    "b is 'a'"
   ]
  },
  {
   "cell_type": "markdown",
   "metadata": {},
   "source": [
    "### Mathematical Notation and Measures of Central Tendency \n",
    "\n",
    "median vs mode vs mean<br>\n",
    "What's the difference?\n",
    "\n",
    "\n",
    "```python\n",
    "samp_list = [1,1,1,1,2,2,2,3,3,10,44]\n",
    "```\n",
    "\n",
    "How could you write a for loop to calculate the mean?"
   ]
  },
  {
   "cell_type": "code",
   "execution_count": 67,
   "metadata": {},
   "outputs": [],
   "source": [
    "samp_list = [1, 1, 1, 1, 2, 2, 2, 3, 3, 10, 44]"
   ]
  },
  {
   "cell_type": "code",
   "execution_count": 69,
   "metadata": {},
   "outputs": [
    {
     "name": "stdout",
     "output_type": "stream",
     "text": [
      "6.363636363636363\n"
     ]
    }
   ],
   "source": [
    "running_total = 0\n",
    "for i, val in enumerate(samp_list):\n",
    "    running_total += val\n",
    "    \n",
    "print(running_total / (i+1))"
   ]
  },
  {
   "cell_type": "code",
   "execution_count": 70,
   "metadata": {},
   "outputs": [
    {
     "data": {
      "text/plain": [
       "6.363636363636363"
      ]
     },
     "execution_count": 70,
     "metadata": {},
     "output_type": "execute_result"
    }
   ],
   "source": [
    "def average(samples):\n",
    "    running_total = 0\n",
    "    for i, val in enumerate(samp_list):\n",
    "        running_total += val\n",
    "    \n",
    "    return(running_total / (i+1))\n",
    "\n",
    "average(samp_list)"
   ]
  },
  {
   "cell_type": "code",
   "execution_count": 71,
   "metadata": {},
   "outputs": [
    {
     "data": {
      "text/plain": [
       "6.363636363636363"
      ]
     },
     "execution_count": 71,
     "metadata": {},
     "output_type": "execute_result"
    }
   ],
   "source": [
    "def fast_average(samples):\n",
    "    return sum(samples) / len(samples)\n",
    "\n",
    "fast_average(samp_list)"
   ]
  },
  {
   "cell_type": "markdown",
   "metadata": {},
   "source": [
    "### Integration\n",
    "\n",
    "adapt your function to do the following:\n",
    "- stop the nested loop if a grocery total goes over $30\n",
    "- print out the average cost of per item in your cart"
   ]
  },
  {
   "cell_type": "markdown",
   "metadata": {},
   "source": [
    "## Jupyter Bonus\n",
    "\n",
    "This doesn't really fit in with the rest of Python 102, but Jupyter is incredibly flexible! Here are two examples of embedding beautiful LaTex scripting in a notebook."
   ]
  },
  {
   "cell_type": "code",
   "execution_count": 72,
   "metadata": {},
   "outputs": [
    {
     "data": {
      "text/latex": [
       "$$\\lim\\limits_{x \\to \\infty} \\exp(-x) = 0$$\n"
      ],
      "text/plain": [
       "<IPython.core.display.Latex object>"
      ]
     },
     "metadata": {},
     "output_type": "display_data"
    }
   ],
   "source": [
    "%%latex # this will make the entire cell LaTeX syntax\n",
    "$$\\lim\\limits_{x \\to \\infty} \\exp(-x) = 0$$"
   ]
  },
  {
   "cell_type": "code",
   "execution_count": 73,
   "metadata": {},
   "outputs": [
    {
     "data": {
      "text/latex": [
       "$\\displaystyle F(k) = \\int_{-\\infty}^{\\infty} f(x) e^{2\\pi i k} dx$"
      ],
      "text/plain": [
       "<IPython.core.display.Math object>"
      ]
     },
     "execution_count": 73,
     "metadata": {},
     "output_type": "execute_result"
    }
   ],
   "source": [
    "from IPython.display import Math\n",
    "# this imports a function called Math() in which you can pass in a raw string of LaTeX\n",
    "Math('F(k) = \\int_{-\\infty}^{\\infty} f(x) e^{2\\pi i k} dx')"
   ]
  },
  {
   "cell_type": "code",
   "execution_count": null,
   "metadata": {},
   "outputs": [],
   "source": []
  }
 ],
 "metadata": {
  "kernelspec": {
   "display_name": "Python 3",
   "language": "python",
   "name": "python3"
  },
  "language_info": {
   "codemirror_mode": {
    "name": "ipython",
    "version": 3
   },
   "file_extension": ".py",
   "mimetype": "text/x-python",
   "name": "python",
   "nbconvert_exporter": "python",
   "pygments_lexer": "ipython3",
   "version": "3.7.6"
  }
 },
 "nbformat": 4,
 "nbformat_minor": 2
}
