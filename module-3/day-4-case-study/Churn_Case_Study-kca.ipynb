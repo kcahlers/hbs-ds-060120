{
 "cells": [
  {
   "cell_type": "markdown",
   "metadata": {},
   "source": [
    "# Churn Case Study\n",
    "\n",
    "## Context\n",
    "\"Predict behavior to retain customers. You can analyze all relevant customer data and develop focused customer retention programs.\" [IBM Sample Data Sets]\n",
    "\n",
    "\n",
    "<img src=\"https://images.pexels.com/photos/3078/home-dialer-siemens-telephone.jpg?auto=compress&cs=tinysrgb&dpr=2&h=750&w=1260\" style=\"width:400px\">\n",
    "\n",
    "**Client**: Telco Company in the USA offering triple play (phone, internet and TV).\n",
    "\n",
    "New competitor entered offering triple play, resulting in increased churn.\n",
    "\n",
    "Want better way to spot potential churning customers and suggested actions what to do."
   ]
  },
  {
   "cell_type": "markdown",
   "metadata": {},
   "source": [
    "## **Assignment**\n",
    "\n",
    "- Define the business problem\n",
    "- Determine which evaluation metric you find appropriate:\n",
    "   - accuracy\n",
    "   - precision\n",
    "   - recall\n",
    "   - f1 score\n",
    "- Determine which type of slice/segment/type of churn you are interested\n",
    "- Run \"data prep code\"\n",
    "- Use logistic regression to create 2-3 model specifications\n",
    "  - model 1 (vanilla model): uses cleaned data as is, find best cutoff using chosen metric\n",
    "  - model 2: create at least **2 new features** and add them to the model\n",
    "  - model 3 (if time, a 'reach' model): increase the LASSO penalty to decrease the feature set\n",
    "- Pick the \"best\" model and find the \"best\" threshold\n",
    "- Use \"best\" model to identify the drivers of churn in your segment analysis and make recommendations for the company\n",
    "- Each group will have 5 minutes to present their recommendations to the rest of the class. Make sure to share:\n",
    "   - segment you chose\n",
    "   - evaluation metric you chose based on the business problem\n",
    "   - evaluation metric of \"best\" model's threshold & threshold\n",
    "   - what drives churn and what are your recommendations\n",
    "   - **if you had more time** what would you work on?"
   ]
  },
  {
   "cell_type": "markdown",
   "metadata": {},
   "source": [
    "## Data\n",
    "\n",
    "<img src=\"https://images.pexels.com/photos/53621/calculator-calculation-insurance-finance-53621.jpeg?auto=compress&cs=tinysrgb&dpr=2&h=750&w=1260\" style = \"width:400px\" >\n",
    "Each row represents a customer, each column contains customer’s attributes described on the column Metadata.\n",
    "\n",
    "The data set includes information about:\n",
    "\n",
    "- Customers who left within the last month – the column is called Churn\n",
    "- Services that each customer has signed up for – phone, multiple lines, internet, online security, online backup, device protection, tech support, and streaming TV and movies\n",
    "- Customer account information \n",
    "     - how long they’ve been a customer (tenure is in months)\n",
    "     - contract, payment method, paperless billing, monthly charges, and total charges\n",
    "     - all \"totals\" are over the length of the contract\n",
    "- Demographic info about customers – gender, age range, and if they have partners and dependents\n",
    "- Usage\n",
    "    - information about their usage patterns\n",
    "    - again, usage totals are over length of contract"
   ]
  },
  {
   "cell_type": "markdown",
   "metadata": {},
   "source": [
    "## Concept: Churn\n",
    "\n",
    "#### Type of churn:\n",
    "\n",
    "**Voluntary** – they left after contract was up\n",
    "\n",
    "**Involuntary** – we fired them\n",
    "\n",
    "**Early churn** – left early, broke contract\n",
    "\n",
    "### Churn is a survival problem:\n",
    "- Predicting who will churn next month is really hard\n",
    "- Predicting who may churn over next 3 months is easier\n",
    "\n",
    "<img src = \"./img/funnel.png\" style=\"width:800px\">\n",
    "\n",
    "There are many reasons to churn &#8594; **feature engineering is king**"
   ]
  },
  {
   "cell_type": "markdown",
   "metadata": {},
   "source": [
    "### Solutions need to be tied to root problems\n",
    "\n",
    "<img src = \"./img/solution.png\" style=\"width:800px\">"
   ]
  },
  {
   "cell_type": "markdown",
   "metadata": {},
   "source": [
    "### Different solutions have different time frames\n",
    "\n",
    "<img src = \"./img/time.png\" style=\"width:800px\">"
   ]
  },
  {
   "cell_type": "markdown",
   "metadata": {},
   "source": [
    "## Remember:\n",
    "\n",
    "#### You will not be paid to create intricate models\n",
    "### You will be paid to **Solve Problems**"
   ]
  },
  {
   "cell_type": "markdown",
   "metadata": {},
   "source": [
    "# Get Started!\n",
    "\n",
    "## Part 1: Business problem\n",
    "\n",
    "#### End Users: Telco leadership, customers\n",
    "\n",
    "\n",
    "\n",
    "#### True business problem: Identify potential churning customers and suggested actions what to do\n",
    "\n",
    "\n",
    "\n",
    "#### Context:\n",
    "\n",
    "- **False negative** Fail to ID customers that are actually churning\n",
    "    - **Outcome**: High churn rate (v bad)\n",
    "- **False positive** ID customers that aren't actually churning \n",
    "    - **Outcome**: Invest in customers that aren't flight risk - maybe lose some money on customers you didnt need ton invest in + losing money on churn\n",
    "    \n",
    "False negative is worse - want low FN so high Recall"
   ]
  },
  {
   "cell_type": "markdown",
   "metadata": {},
   "source": [
    "## Part 2: Evaluation Metric\n",
    "Which metric (of the ones we've explore so far) would make sense to primarily use as we evaluate our models?\n",
    "\n",
    "- Accuracy\n",
    "- Precision\n",
    "- Recall******\n",
    "- F1-Score"
   ]
  },
  {
   "cell_type": "markdown",
   "metadata": {},
   "source": [
    "## Part 3: Segment choice\n",
    "\n",
    "What type slice/segment/type of churn you are interested in?\n",
    "Tipping point? Expect some frustration but if can avoid tipping point? also probably larger more fixable problems\n",
    "\n",
    "The customers that as a whole were going to get the most money from. The most profitable segment accounting for CAC and retention"
   ]
  },
  {
   "cell_type": "markdown",
   "metadata": {},
   "source": [
    "## Part 4: Data Prep Code"
   ]
  },
  {
   "cell_type": "code",
   "execution_count": 144,
   "metadata": {},
   "outputs": [
    {
     "name": "stderr",
     "output_type": "stream",
     "text": [
      "/Users/kcahlers/Applications/anaconda3/lib/python3.7/site-packages/pandas/core/frame.py:3997: SettingWithCopyWarning: \n",
      "A value is trying to be set on a copy of a slice from a DataFrame\n",
      "\n",
      "See the caveats in the documentation: https://pandas.pydata.org/pandas-docs/stable/user_guide/indexing.html#returning-a-view-versus-a-copy\n",
      "  errors=errors,\n"
     ]
    }
   ],
   "source": [
    "# Import pacakges\n",
    "import numpy as np\n",
    "import pandas as pd\n",
    "from sklearn.preprocessing import OneHotEncoder\n",
    "from sklearn.model_selection import train_test_split\n",
    "from sklearn.preprocessing import StandardScaler, OneHotEncoder, MinMaxScaler, RobustScaler\n",
    "# Load dataset\n",
    "url_link = 'https://docs.google.com/spreadsheets/d/1TAWfdKnWYiCzKUeDyGL6NzIOv7AxFt_Sfzzax464_FQ/export?format=csv&gid=882919979'\n",
    "telco = pd.read_csv(url_link)\n",
    "\n",
    "# Drop nas\n",
    "telco.dropna(inplace=True)\n",
    "\n",
    "# Train-test-split\n",
    "X_train, X_test, y_train, y_test = train_test_split(telco.drop(columns=['customerID','Churn']), np.where(telco.Churn ==\"Yes\", 1, 0), test_size=0.33, random_state=42)\n",
    "\n",
    "# Separate out numeric from categorical variables\n",
    "cat_var = telco.select_dtypes(include='object')\n",
    "cat_var.drop(columns=['customerID','Churn'], inplace = True)\n",
    "\n",
    "num_var = telco.select_dtypes(exclude = 'object') \n",
    "\n",
    "# Encode categorical variables\n",
    "ohc = OneHotEncoder(drop='first')\n",
    "encoded_cat = ohc.fit_transform(X_train[cat_var.columns.tolist()]).toarray()\n",
    "\n",
    "scaler = MinMaxScaler()\n",
    "X_train_scale_num = scaler.fit_transform(X_train[num_var.columns])\n",
    "X_train_scale_num = pd.DataFrame(X_train_scale_num)\n",
    "X_train_scale_num.columns = num_var.columns\n",
    "\n",
    "\n",
    "# Add feature names to encoded vars\n",
    "encoded=pd.DataFrame(encoded_cat, columns=ohc.get_feature_names(cat_var.columns.tolist()))\n",
    "encoded.reset_index(inplace=True, drop=True)\n",
    "X_train.reset_index(inplace=True, drop=True)\n",
    "\n",
    "# Reassemble entire training dataset\n",
    "clean_X_train = pd.concat([pd.DataFrame(X_train_scale_num) , encoded], axis=1,  sort=False)\n",
    "clean_X_train.shape\n",
    "\n",
    "\n",
    "encoded_cat = ohc.transform(X_test[cat_var.columns.tolist()]).toarray()\n",
    "X_test_scale_num = scaler.transform(X_test[num_var.columns])\n",
    "X_test_scale_num = pd.DataFrame(X_test_scale_num)\n",
    "X_test_scale_num.columns = num_var.columns\n",
    "\n",
    "\n",
    "# Add feature names to encoded vars\n",
    "encoded=pd.DataFrame(encoded_cat, columns=ohc.get_feature_names(cat_var.columns.tolist()))\n",
    "encoded.reset_index(inplace=True, drop=True)\n",
    "X_test.reset_index(inplace=True, drop=True)\n",
    "# Reassemble entire training dataset\n",
    "clean_X_test = pd.concat([pd.DataFrame(X_test_scale_num) , encoded], axis=1,  sort=False)\n",
    "\n",
    "\n",
    "\n"
   ]
  },
  {
   "cell_type": "code",
   "execution_count": 145,
   "metadata": {},
   "outputs": [
    {
     "data": {
      "text/html": [
       "<div>\n",
       "<style scoped>\n",
       "    .dataframe tbody tr th:only-of-type {\n",
       "        vertical-align: middle;\n",
       "    }\n",
       "\n",
       "    .dataframe tbody tr th {\n",
       "        vertical-align: top;\n",
       "    }\n",
       "\n",
       "    .dataframe thead th {\n",
       "        text-align: right;\n",
       "    }\n",
       "</style>\n",
       "<table border=\"1\" class=\"dataframe\">\n",
       "  <thead>\n",
       "    <tr style=\"text-align: right;\">\n",
       "      <th></th>\n",
       "      <th>SeniorCitizen</th>\n",
       "      <th>tenure</th>\n",
       "      <th>NumbervMailMessages</th>\n",
       "      <th>TotalDayMinutes</th>\n",
       "      <th>TotalDayCalls</th>\n",
       "      <th>TotalEveMinutes</th>\n",
       "      <th>TotalEveCalls</th>\n",
       "      <th>TotalNightMinutes</th>\n",
       "      <th>TotalNightCalls</th>\n",
       "      <th>TotalIntlMinutes</th>\n",
       "      <th>...</th>\n",
       "      <th>StreamingMovies_No internet service</th>\n",
       "      <th>StreamingMovies_Yes</th>\n",
       "      <th>Contract_One year</th>\n",
       "      <th>Contract_Two year</th>\n",
       "      <th>PaperlessBilling_Yes</th>\n",
       "      <th>PaymentMethod_Credit card (automatic)</th>\n",
       "      <th>PaymentMethod_Electronic check</th>\n",
       "      <th>PaymentMethod_Mailed check</th>\n",
       "      <th>InternationalPlan_Yes</th>\n",
       "      <th>VoiceMailPlan_Yes</th>\n",
       "    </tr>\n",
       "  </thead>\n",
       "  <tbody>\n",
       "    <tr>\n",
       "      <th>0</th>\n",
       "      <td>0.0</td>\n",
       "      <td>0.760563</td>\n",
       "      <td>0.274510</td>\n",
       "      <td>0.412918</td>\n",
       "      <td>0.600000</td>\n",
       "      <td>0.417143</td>\n",
       "      <td>0.416667</td>\n",
       "      <td>0.553108</td>\n",
       "      <td>0.309859</td>\n",
       "      <td>0.580</td>\n",
       "      <td>...</td>\n",
       "      <td>0.0</td>\n",
       "      <td>0.0</td>\n",
       "      <td>0.0</td>\n",
       "      <td>1.0</td>\n",
       "      <td>1.0</td>\n",
       "      <td>1.0</td>\n",
       "      <td>0.0</td>\n",
       "      <td>0.0</td>\n",
       "      <td>0.0</td>\n",
       "      <td>1.0</td>\n",
       "    </tr>\n",
       "    <tr>\n",
       "      <th>1</th>\n",
       "      <td>0.0</td>\n",
       "      <td>0.507042</td>\n",
       "      <td>0.000000</td>\n",
       "      <td>0.548731</td>\n",
       "      <td>0.593939</td>\n",
       "      <td>0.666165</td>\n",
       "      <td>0.257576</td>\n",
       "      <td>0.550321</td>\n",
       "      <td>0.450704</td>\n",
       "      <td>0.360</td>\n",
       "      <td>...</td>\n",
       "      <td>1.0</td>\n",
       "      <td>0.0</td>\n",
       "      <td>0.0</td>\n",
       "      <td>0.0</td>\n",
       "      <td>0.0</td>\n",
       "      <td>0.0</td>\n",
       "      <td>1.0</td>\n",
       "      <td>0.0</td>\n",
       "      <td>0.0</td>\n",
       "      <td>0.0</td>\n",
       "    </tr>\n",
       "    <tr>\n",
       "      <th>2</th>\n",
       "      <td>0.0</td>\n",
       "      <td>0.042254</td>\n",
       "      <td>0.000000</td>\n",
       "      <td>0.306805</td>\n",
       "      <td>0.430303</td>\n",
       "      <td>0.628271</td>\n",
       "      <td>0.356061</td>\n",
       "      <td>0.347087</td>\n",
       "      <td>0.570423</td>\n",
       "      <td>0.265</td>\n",
       "      <td>...</td>\n",
       "      <td>0.0</td>\n",
       "      <td>1.0</td>\n",
       "      <td>0.0</td>\n",
       "      <td>0.0</td>\n",
       "      <td>1.0</td>\n",
       "      <td>0.0</td>\n",
       "      <td>0.0</td>\n",
       "      <td>0.0</td>\n",
       "      <td>0.0</td>\n",
       "      <td>0.0</td>\n",
       "    </tr>\n",
       "    <tr>\n",
       "      <th>3</th>\n",
       "      <td>0.0</td>\n",
       "      <td>0.887324</td>\n",
       "      <td>0.647059</td>\n",
       "      <td>0.256055</td>\n",
       "      <td>0.630303</td>\n",
       "      <td>0.235789</td>\n",
       "      <td>0.439394</td>\n",
       "      <td>0.416783</td>\n",
       "      <td>0.521127</td>\n",
       "      <td>0.355</td>\n",
       "      <td>...</td>\n",
       "      <td>0.0</td>\n",
       "      <td>1.0</td>\n",
       "      <td>1.0</td>\n",
       "      <td>0.0</td>\n",
       "      <td>1.0</td>\n",
       "      <td>0.0</td>\n",
       "      <td>0.0</td>\n",
       "      <td>1.0</td>\n",
       "      <td>0.0</td>\n",
       "      <td>1.0</td>\n",
       "    </tr>\n",
       "    <tr>\n",
       "      <th>4</th>\n",
       "      <td>0.0</td>\n",
       "      <td>0.112676</td>\n",
       "      <td>0.000000</td>\n",
       "      <td>0.491638</td>\n",
       "      <td>0.624242</td>\n",
       "      <td>0.670977</td>\n",
       "      <td>0.310606</td>\n",
       "      <td>0.485364</td>\n",
       "      <td>0.739437</td>\n",
       "      <td>0.525</td>\n",
       "      <td>...</td>\n",
       "      <td>0.0</td>\n",
       "      <td>1.0</td>\n",
       "      <td>0.0</td>\n",
       "      <td>0.0</td>\n",
       "      <td>1.0</td>\n",
       "      <td>1.0</td>\n",
       "      <td>0.0</td>\n",
       "      <td>0.0</td>\n",
       "      <td>0.0</td>\n",
       "      <td>0.0</td>\n",
       "    </tr>\n",
       "    <tr>\n",
       "      <th>...</th>\n",
       "      <td>...</td>\n",
       "      <td>...</td>\n",
       "      <td>...</td>\n",
       "      <td>...</td>\n",
       "      <td>...</td>\n",
       "      <td>...</td>\n",
       "      <td>...</td>\n",
       "      <td>...</td>\n",
       "      <td>...</td>\n",
       "      <td>...</td>\n",
       "      <td>...</td>\n",
       "      <td>...</td>\n",
       "      <td>...</td>\n",
       "      <td>...</td>\n",
       "      <td>...</td>\n",
       "      <td>...</td>\n",
       "      <td>...</td>\n",
       "      <td>...</td>\n",
       "      <td>...</td>\n",
       "      <td>...</td>\n",
       "      <td>...</td>\n",
       "    </tr>\n",
       "    <tr>\n",
       "      <th>1094</th>\n",
       "      <td>0.0</td>\n",
       "      <td>0.957746</td>\n",
       "      <td>0.000000</td>\n",
       "      <td>0.485006</td>\n",
       "      <td>0.557576</td>\n",
       "      <td>0.581955</td>\n",
       "      <td>0.484848</td>\n",
       "      <td>0.407862</td>\n",
       "      <td>0.464789</td>\n",
       "      <td>0.645</td>\n",
       "      <td>...</td>\n",
       "      <td>0.0</td>\n",
       "      <td>1.0</td>\n",
       "      <td>0.0</td>\n",
       "      <td>1.0</td>\n",
       "      <td>1.0</td>\n",
       "      <td>1.0</td>\n",
       "      <td>0.0</td>\n",
       "      <td>0.0</td>\n",
       "      <td>0.0</td>\n",
       "      <td>0.0</td>\n",
       "    </tr>\n",
       "    <tr>\n",
       "      <th>1095</th>\n",
       "      <td>1.0</td>\n",
       "      <td>0.830986</td>\n",
       "      <td>0.000000</td>\n",
       "      <td>0.587659</td>\n",
       "      <td>0.515152</td>\n",
       "      <td>0.170226</td>\n",
       "      <td>0.560606</td>\n",
       "      <td>0.398662</td>\n",
       "      <td>0.626761</td>\n",
       "      <td>0.585</td>\n",
       "      <td>...</td>\n",
       "      <td>0.0</td>\n",
       "      <td>1.0</td>\n",
       "      <td>0.0</td>\n",
       "      <td>0.0</td>\n",
       "      <td>1.0</td>\n",
       "      <td>0.0</td>\n",
       "      <td>1.0</td>\n",
       "      <td>0.0</td>\n",
       "      <td>0.0</td>\n",
       "      <td>0.0</td>\n",
       "    </tr>\n",
       "    <tr>\n",
       "      <th>1096</th>\n",
       "      <td>1.0</td>\n",
       "      <td>0.014085</td>\n",
       "      <td>0.000000</td>\n",
       "      <td>0.612168</td>\n",
       "      <td>0.648485</td>\n",
       "      <td>0.593083</td>\n",
       "      <td>0.507576</td>\n",
       "      <td>0.390577</td>\n",
       "      <td>0.584507</td>\n",
       "      <td>0.385</td>\n",
       "      <td>...</td>\n",
       "      <td>1.0</td>\n",
       "      <td>0.0</td>\n",
       "      <td>0.0</td>\n",
       "      <td>0.0</td>\n",
       "      <td>0.0</td>\n",
       "      <td>0.0</td>\n",
       "      <td>1.0</td>\n",
       "      <td>0.0</td>\n",
       "      <td>0.0</td>\n",
       "      <td>0.0</td>\n",
       "    </tr>\n",
       "    <tr>\n",
       "      <th>1097</th>\n",
       "      <td>0.0</td>\n",
       "      <td>0.563380</td>\n",
       "      <td>0.000000</td>\n",
       "      <td>0.440888</td>\n",
       "      <td>0.490909</td>\n",
       "      <td>0.677895</td>\n",
       "      <td>0.348485</td>\n",
       "      <td>0.419292</td>\n",
       "      <td>0.556338</td>\n",
       "      <td>0.265</td>\n",
       "      <td>...</td>\n",
       "      <td>0.0</td>\n",
       "      <td>0.0</td>\n",
       "      <td>1.0</td>\n",
       "      <td>0.0</td>\n",
       "      <td>1.0</td>\n",
       "      <td>0.0</td>\n",
       "      <td>1.0</td>\n",
       "      <td>0.0</td>\n",
       "      <td>0.0</td>\n",
       "      <td>0.0</td>\n",
       "    </tr>\n",
       "    <tr>\n",
       "      <th>1098</th>\n",
       "      <td>0.0</td>\n",
       "      <td>0.323944</td>\n",
       "      <td>0.000000</td>\n",
       "      <td>0.410900</td>\n",
       "      <td>0.496970</td>\n",
       "      <td>0.602105</td>\n",
       "      <td>0.560606</td>\n",
       "      <td>0.301087</td>\n",
       "      <td>0.239437</td>\n",
       "      <td>0.500</td>\n",
       "      <td>...</td>\n",
       "      <td>1.0</td>\n",
       "      <td>0.0</td>\n",
       "      <td>1.0</td>\n",
       "      <td>0.0</td>\n",
       "      <td>0.0</td>\n",
       "      <td>0.0</td>\n",
       "      <td>0.0</td>\n",
       "      <td>1.0</td>\n",
       "      <td>0.0</td>\n",
       "      <td>0.0</td>\n",
       "    </tr>\n",
       "  </tbody>\n",
       "</table>\n",
       "<p>1099 rows × 42 columns</p>\n",
       "</div>"
      ],
      "text/plain": [
       "      SeniorCitizen    tenure  NumbervMailMessages  TotalDayMinutes  \\\n",
       "0               0.0  0.760563             0.274510         0.412918   \n",
       "1               0.0  0.507042             0.000000         0.548731   \n",
       "2               0.0  0.042254             0.000000         0.306805   \n",
       "3               0.0  0.887324             0.647059         0.256055   \n",
       "4               0.0  0.112676             0.000000         0.491638   \n",
       "...             ...       ...                  ...              ...   \n",
       "1094            0.0  0.957746             0.000000         0.485006   \n",
       "1095            1.0  0.830986             0.000000         0.587659   \n",
       "1096            1.0  0.014085             0.000000         0.612168   \n",
       "1097            0.0  0.563380             0.000000         0.440888   \n",
       "1098            0.0  0.323944             0.000000         0.410900   \n",
       "\n",
       "      TotalDayCalls  TotalEveMinutes  TotalEveCalls  TotalNightMinutes  \\\n",
       "0          0.600000         0.417143       0.416667           0.553108   \n",
       "1          0.593939         0.666165       0.257576           0.550321   \n",
       "2          0.430303         0.628271       0.356061           0.347087   \n",
       "3          0.630303         0.235789       0.439394           0.416783   \n",
       "4          0.624242         0.670977       0.310606           0.485364   \n",
       "...             ...              ...            ...                ...   \n",
       "1094       0.557576         0.581955       0.484848           0.407862   \n",
       "1095       0.515152         0.170226       0.560606           0.398662   \n",
       "1096       0.648485         0.593083       0.507576           0.390577   \n",
       "1097       0.490909         0.677895       0.348485           0.419292   \n",
       "1098       0.496970         0.602105       0.560606           0.301087   \n",
       "\n",
       "      TotalNightCalls  TotalIntlMinutes  ...  \\\n",
       "0            0.309859             0.580  ...   \n",
       "1            0.450704             0.360  ...   \n",
       "2            0.570423             0.265  ...   \n",
       "3            0.521127             0.355  ...   \n",
       "4            0.739437             0.525  ...   \n",
       "...               ...               ...  ...   \n",
       "1094         0.464789             0.645  ...   \n",
       "1095         0.626761             0.585  ...   \n",
       "1096         0.584507             0.385  ...   \n",
       "1097         0.556338             0.265  ...   \n",
       "1098         0.239437             0.500  ...   \n",
       "\n",
       "      StreamingMovies_No internet service  StreamingMovies_Yes  \\\n",
       "0                                     0.0                  0.0   \n",
       "1                                     1.0                  0.0   \n",
       "2                                     0.0                  1.0   \n",
       "3                                     0.0                  1.0   \n",
       "4                                     0.0                  1.0   \n",
       "...                                   ...                  ...   \n",
       "1094                                  0.0                  1.0   \n",
       "1095                                  0.0                  1.0   \n",
       "1096                                  1.0                  0.0   \n",
       "1097                                  0.0                  0.0   \n",
       "1098                                  1.0                  0.0   \n",
       "\n",
       "      Contract_One year  Contract_Two year  PaperlessBilling_Yes  \\\n",
       "0                   0.0                1.0                   1.0   \n",
       "1                   0.0                0.0                   0.0   \n",
       "2                   0.0                0.0                   1.0   \n",
       "3                   1.0                0.0                   1.0   \n",
       "4                   0.0                0.0                   1.0   \n",
       "...                 ...                ...                   ...   \n",
       "1094                0.0                1.0                   1.0   \n",
       "1095                0.0                0.0                   1.0   \n",
       "1096                0.0                0.0                   0.0   \n",
       "1097                1.0                0.0                   1.0   \n",
       "1098                1.0                0.0                   0.0   \n",
       "\n",
       "      PaymentMethod_Credit card (automatic)  PaymentMethod_Electronic check  \\\n",
       "0                                       1.0                             0.0   \n",
       "1                                       0.0                             1.0   \n",
       "2                                       0.0                             0.0   \n",
       "3                                       0.0                             0.0   \n",
       "4                                       1.0                             0.0   \n",
       "...                                     ...                             ...   \n",
       "1094                                    1.0                             0.0   \n",
       "1095                                    0.0                             1.0   \n",
       "1096                                    0.0                             1.0   \n",
       "1097                                    0.0                             1.0   \n",
       "1098                                    0.0                             0.0   \n",
       "\n",
       "      PaymentMethod_Mailed check  InternationalPlan_Yes  VoiceMailPlan_Yes  \n",
       "0                            0.0                    0.0                1.0  \n",
       "1                            0.0                    0.0                0.0  \n",
       "2                            0.0                    0.0                0.0  \n",
       "3                            1.0                    0.0                1.0  \n",
       "4                            0.0                    0.0                0.0  \n",
       "...                          ...                    ...                ...  \n",
       "1094                         0.0                    0.0                0.0  \n",
       "1095                         0.0                    0.0                0.0  \n",
       "1096                         0.0                    0.0                0.0  \n",
       "1097                         0.0                    0.0                0.0  \n",
       "1098                         1.0                    0.0                0.0  \n",
       "\n",
       "[1099 rows x 42 columns]"
      ]
     },
     "execution_count": 145,
     "metadata": {},
     "output_type": "execute_result"
    }
   ],
   "source": [
    "clean_X_test"
   ]
  },
  {
   "cell_type": "code",
   "execution_count": 146,
   "metadata": {},
   "outputs": [
    {
     "data": {
      "text/plain": [
       "<matplotlib.axes._subplots.AxesSubplot at 0x7fdee17a4a90>"
      ]
     },
     "execution_count": 146,
     "metadata": {},
     "output_type": "execute_result"
    },
    {
     "data": {
      "image/png": "[encoded data removed]",
      "text/plain": [
       "<Figure size 432x288 with 2 Axes>"
      ]
     },
     "metadata": {
      "needs_background": "light"
     },
     "output_type": "display_data"
    }
   ],
   "source": [
    "import seaborn as sns\n",
    "import matplotlib.pyplot as plt\n",
    "%matplotlib inline\n",
    "\n",
    "sns.heatmap(X_train.corr().abs())\n",
    "\n",
    "# 0.877"
   ]
  },
  {
   "cell_type": "code",
   "execution_count": 147,
   "metadata": {},
   "outputs": [
    {
     "data": {
      "text/plain": [
       "array([0, 0, 1, ..., 0, 0, 0])"
      ]
     },
     "execution_count": 147,
     "metadata": {},
     "output_type": "execute_result"
    }
   ],
   "source": [
    "y_test"
   ]
  },
  {
   "cell_type": "markdown",
   "metadata": {},
   "source": [
    "## Part 5: Create models"
   ]
  },
  {
   "cell_type": "code",
   "execution_count": 148,
   "metadata": {},
   "outputs": [],
   "source": [
    "from sklearn.preprocessing import StandardScaler, OneHotEncoder, MinMaxScaler, RobustScaler\n",
    "from sklearn.impute import SimpleImputer\n",
    "from sklearn.linear_model import LogisticRegression\n",
    "from sklearn.model_selection import train_test_split\n",
    "\n",
    "from sklearn.metrics import accuracy_score, balanced_accuracy_score\n",
    "from sklearn.metrics import recall_score, precision_score, f1_score\n",
    "from sklearn.metrics import confusion_matrix\n",
    "from sklearn.metrics import plot_confusion_matrix"
   ]
  },
  {
   "cell_type": "markdown",
   "metadata": {},
   "source": [
    "# Vanilla Model"
   ]
  },
  {
   "cell_type": "code",
   "execution_count": 156,
   "metadata": {},
   "outputs": [
    {
     "name": "stdout",
     "output_type": "stream",
     "text": [
      " If predicted everyone churned we would be accurate 0.196\n",
      " If predicted nobody churned we would be accurate 0.804\n"
     ]
    }
   ],
   "source": [
    "df_y_train = pd.DataFrame(y_train)\n",
    "df_y_train.columns = ['churn']\n",
    "df_y_test = pd.DataFrame(y_test)\n",
    "df_y_test.columns = ['churn']\n",
    "all_churn = (len(df_y_train.loc[df_y_train['churn']==1])+len(df_y_test.loc[df_y_test['churn']==1]))/(len(y_train)+len(y_test))\n",
    "no_churn = 1-all_churn\n",
    "\n",
    "print(f\" If predicted everyone churned we would be accurate {all_churn:.3f}\")\n",
    "print(f\" If predicted nobody churned we would be accurate {no_churn:.3f}\")"
   ]
  },
  {
   "cell_type": "markdown",
   "metadata": {},
   "source": [
    "# Model v1"
   ]
  },
  {
   "cell_type": "code",
   "execution_count": 157,
   "metadata": {},
   "outputs": [
    {
     "data": {
      "text/plain": [
       "<sklearn.metrics._plot.confusion_matrix.ConfusionMatrixDisplay at 0x7fdee1efa050>"
      ]
     },
     "execution_count": 157,
     "metadata": {},
     "output_type": "execute_result"
    },
    {
     "data": {
      "image/png": "[encoded data removed]",
      "text/plain": [
       "<Figure size 432x288 with 2 Axes>"
      ]
     },
     "metadata": {
      "needs_background": "light"
     },
     "output_type": "display_data"
    }
   ],
   "source": [
    "logreg=LogisticRegression()\n",
    "logreg.fit(clean_X_train, y_train)\n",
    "y_pred_train = logreg.predict(clean_X_train)\n",
    "y_pred_test = logreg.predict(clean_X_test)\n",
    "plot_confusion_matrix(logreg,clean_X_test, y_test, \n",
    "                      cmap=plt.cm.Blues, # Changing the color scheme\n",
    "                      values_format=\".3g\")"
   ]
  },
  {
   "cell_type": "code",
   "execution_count": 158,
   "metadata": {},
   "outputs": [
    {
     "name": "stdout",
     "output_type": "stream",
     "text": [
      "Accuracy:\n",
      "========\n",
      "TRAIN: 0.8654\n",
      "TEST: 0.8389\n",
      "***************\n",
      "Recall:\n",
      "======\n",
      "TRAIN: 0.5188\n",
      "TEST: 0.4802\n",
      "***************\n",
      "Precision:\n",
      "=========\n",
      "TRAIN: 0.6994\n",
      "TEST: 0.6488\n",
      "***************\n",
      "F1-Score:\n",
      "========\n",
      "TRAIN: 0.5957\n",
      "TEST: 0.5519\n",
      "***************\n"
     ]
    }
   ],
   "source": [
    "metrics = {\"Accuracy\": accuracy_score,\n",
    "           \"Recall\": recall_score,\n",
    "           \"Precision\": precision_score,\n",
    "           \"F1-Score\": f1_score}\n",
    "\n",
    "for name, metric in metrics.items():\n",
    "    print(f\"{name}:\"); print(\"=\"*len(name))\n",
    "    print(f\"TRAIN: {metric(y_train, y_pred_train):.4f}\")\n",
    "    print(f\"TEST: {metric(y_test, y_pred_test):.4f}\")\n",
    "    print(\"*\" * 15)"
   ]
  },
  {
   "cell_type": "markdown",
   "metadata": {},
   "source": [
    "# Model v2 - balance does nothing for me but crushes Kyles"
   ]
  },
  {
   "cell_type": "code",
   "execution_count": 180,
   "metadata": {},
   "outputs": [
    {
     "name": "stdout",
     "output_type": "stream",
     "text": [
      "Accuracy:\n",
      "========\n",
      "TRAIN: 0.8143\n",
      "TEST: 0.8089\n",
      "***************\n",
      "Recall:\n",
      "======\n",
      "TRAIN: 0.8638\n",
      "TEST: 0.8634\n",
      "***************\n",
      "Precision:\n",
      "=========\n",
      "TRAIN: 0.5083\n",
      "TEST: 0.5227\n",
      "***************\n",
      "F1-Score:\n",
      "========\n",
      "TRAIN: 0.6400\n",
      "TEST: 0.6512\n",
      "***************\n"
     ]
    },
    {
     "data": {
      "image/png": "[encoded data removed]",
      "text/plain": [
       "<Figure size 432x288 with 2 Axes>"
      ]
     },
     "metadata": {
      "needs_background": "light"
     },
     "output_type": "display_data"
    }
   ],
   "source": [
    "logreg=LogisticRegression(class_weight='balanced')\n",
    "logreg.fit(clean_X_train, y_train)\n",
    "y_pred_train = logreg.predict(clean_X_train)\n",
    "y_pred_test = logreg.predict(clean_X_test)\n",
    "plot_confusion_matrix(logreg,clean_X_test, y_test, \n",
    "                      cmap=plt.cm.Blues, # Changing the color scheme\n",
    "                      values_format=\".3g\")\n",
    "metrics = {\"Accuracy\": accuracy_score,\n",
    "           \"Recall\": recall_score,\n",
    "           \"Precision\": precision_score,\n",
    "           \"F1-Score\": f1_score}\n",
    "\n",
    "for name, metric in metrics.items():\n",
    "    print(f\"{name}:\"); print(\"=\"*len(name))\n",
    "    print(f\"TRAIN: {metric(y_train, y_pred_train):.4f}\")\n",
    "    print(f\"TEST: {metric(y_test, y_pred_test):.4f}\")\n",
    "    print(\"*\" * 15)"
   ]
  },
  {
   "cell_type": "markdown",
   "metadata": {},
   "source": [
    "# Model v3 - lasso minimally helpful"
   ]
  },
  {
   "cell_type": "code",
   "execution_count": 161,
   "metadata": {},
   "outputs": [
    {
     "name": "stdout",
     "output_type": "stream",
     "text": [
      "Accuracy:\n",
      "========\n",
      "TRAIN: 0.8668\n",
      "TEST: 0.8453\n",
      "***************\n",
      "Recall:\n",
      "======\n",
      "TRAIN: 0.5258\n",
      "TEST: 0.5022\n",
      "***************\n",
      "Precision:\n",
      "=========\n",
      "TRAIN: 0.7022\n",
      "TEST: 0.6667\n",
      "***************\n",
      "F1-Score:\n",
      "========\n",
      "TRAIN: 0.6013\n",
      "TEST: 0.5729\n",
      "***************\n"
     ]
    },
    {
     "data": {
      "image/png": "[encoded data removed]",
      "text/plain": [
       "<Figure size 432x288 with 2 Axes>"
      ]
     },
     "metadata": {
      "needs_background": "light"
     },
     "output_type": "display_data"
    }
   ],
   "source": [
    "logreg=LogisticRegression(penalty='l1', solver='liblinear')\n",
    "logreg.fit(clean_X_train, y_train)\n",
    "y_pred_train = logreg.predict(clean_X_train)\n",
    "y_pred_test = logreg.predict(clean_X_test)\n",
    "plot_confusion_matrix(logreg,clean_X_test, y_test, \n",
    "                      cmap=plt.cm.Blues, # Changing the color scheme\n",
    "                      values_format=\".3g\")\n",
    "metrics = {\"Accuracy\": accuracy_score,\n",
    "           \"Recall\": recall_score,\n",
    "           \"Precision\": precision_score,\n",
    "           \"F1-Score\": f1_score}\n",
    "\n",
    "for name, metric in metrics.items():\n",
    "    print(f\"{name}:\"); print(\"=\"*len(name))\n",
    "    print(f\"TRAIN: {metric(y_train, y_pred_train):.4f}\")\n",
    "    print(f\"TEST: {metric(y_test, y_pred_test):.4f}\")\n",
    "    print(\"*\" * 15)"
   ]
  },
  {
   "cell_type": "markdown",
   "metadata": {},
   "source": [
    "# Model v4 - ridge worse than lasso"
   ]
  },
  {
   "cell_type": "code",
   "execution_count": 181,
   "metadata": {},
   "outputs": [
    {
     "name": "stdout",
     "output_type": "stream",
     "text": [
      "Accuracy:\n",
      "========\n",
      "TRAIN: 0.8156\n",
      "TEST: 0.8116\n",
      "***************\n",
      "Recall:\n",
      "======\n",
      "TRAIN: 0.8756\n",
      "TEST: 0.8722\n",
      "***************\n",
      "Precision:\n",
      "=========\n",
      "TRAIN: 0.5103\n",
      "TEST: 0.5266\n",
      "***************\n",
      "F1-Score:\n",
      "========\n",
      "TRAIN: 0.6448\n",
      "TEST: 0.6567\n",
      "***************\n"
     ]
    },
    {
     "data": {
      "image/png": "[encoded data removed]",
      "text/plain": [
       "<Figure size 432x288 with 2 Axes>"
      ]
     },
     "metadata": {
      "needs_background": "light"
     },
     "output_type": "display_data"
    }
   ],
   "source": [
    "logreg=LogisticRegression(penalty='l1', solver='liblinear',class_weight='balanced' )\n",
    "logreg.fit(clean_X_train, y_train)\n",
    "y_pred_train = logreg.predict(clean_X_train)\n",
    "y_pred_test = logreg.predict(clean_X_test)\n",
    "plot_confusion_matrix(logreg,clean_X_test, y_test, \n",
    "                      cmap=plt.cm.Blues, # Changing the color scheme\n",
    "                      values_format=\".3g\")\n",
    "metrics = {\"Accuracy\": accuracy_score,\n",
    "           \"Recall\": recall_score,\n",
    "           \"Precision\": precision_score,\n",
    "           \"F1-Score\": f1_score}\n",
    "\n",
    "for name, metric in metrics.items():\n",
    "    print(f\"{name}:\"); print(\"=\"*len(name))\n",
    "    print(f\"TRAIN: {metric(y_train, y_pred_train):.4f}\")\n",
    "    print(f\"TEST: {metric(y_test, y_pred_test):.4f}\")\n",
    "    print(\"*\" * 15)"
   ]
  },
  {
   "cell_type": "markdown",
   "metadata": {},
   "source": [
    "# Model v5 - skeleton - tenure+highbandwidth - better but still not Kyle level"
   ]
  },
  {
   "cell_type": "code",
   "execution_count": 164,
   "metadata": {},
   "outputs": [],
   "source": [
    "skeleton=['tenure','TotalHighBandwidthMinutes']\n",
    "X_train_skeleton=clean_X_train[skeleton]\n",
    "X_test_skeleton=clean_X_test[skeleton]"
   ]
  },
  {
   "cell_type": "code",
   "execution_count": 167,
   "metadata": {},
   "outputs": [
    {
     "name": "stdout",
     "output_type": "stream",
     "text": [
      "Accuracy:\n",
      "========\n",
      "TRAIN: 0.6303\n",
      "TEST: 0.6306\n",
      "***************\n",
      "Recall:\n",
      "======\n",
      "TRAIN: 0.7535\n",
      "TEST: 0.7621\n",
      "***************\n",
      "Precision:\n",
      "=========\n",
      "TRAIN: 0.3087\n",
      "TEST: 0.3295\n",
      "***************\n",
      "F1-Score:\n",
      "========\n",
      "TRAIN: 0.4379\n",
      "TEST: 0.4601\n",
      "***************\n"
     ]
    },
    {
     "data": {
      "image/png": "[encoded data removed]",
      "text/plain": [
       "<Figure size 432x288 with 2 Axes>"
      ]
     },
     "metadata": {
      "needs_background": "light"
     },
     "output_type": "display_data"
    }
   ],
   "source": [
    "logreg=LogisticRegression(penalty='l2', solver='liblinear',class_weight='balanced')\n",
    "logreg.fit(X_train_skeleton, y_train)\n",
    "y_pred_train = logreg.predict(X_train_skeleton)\n",
    "y_pred_test = logreg.predict(X_test_skeleton)\n",
    "plot_confusion_matrix(logreg,X_test_skeleton, y_test, \n",
    "                      cmap=plt.cm.Blues, # Changing the color scheme\n",
    "                      values_format=\".3g\")\n",
    "metrics = {\"Accuracy\": accuracy_score,\n",
    "           \"Recall\": recall_score,\n",
    "           \"Precision\": precision_score,\n",
    "           \"F1-Score\": f1_score}\n",
    "\n",
    "for name, metric in metrics.items():\n",
    "    print(f\"{name}:\"); print(\"=\"*len(name))\n",
    "    print(f\"TRAIN: {metric(y_train, y_pred_train):.4f}\")\n",
    "    print(f\"TEST: {metric(y_test, y_pred_test):.4f}\")\n",
    "    print(\"*\" * 15)"
   ]
  },
  {
   "cell_type": "code",
   "execution_count": 179,
   "metadata": {},
   "outputs": [
    {
     "ename": "ValueError",
     "evalue": "too many values to unpack (expected 2)",
     "output_type": "error",
     "traceback": [
      "\u001b[0;31m---------------------------------------------------------------------------\u001b[0m",
      "\u001b[0;31mValueError\u001b[0m                                Traceback (most recent call last)",
      "\u001b[0;32m<ipython-input-179-03c3a22b1b7d>\u001b[0m in \u001b[0;36m<module>\u001b[0;34m\u001b[0m\n\u001b[1;32m      1\u001b[0m \u001b[0mcoeff\u001b[0m \u001b[0;34m=\u001b[0m \u001b[0;34m[\u001b[0m\u001b[0;34m]\u001b[0m\u001b[0;34m\u001b[0m\u001b[0;34m\u001b[0m\u001b[0m\n\u001b[1;32m      2\u001b[0m \u001b[0my_test\u001b[0m\u001b[0;34m\u001b[0m\u001b[0;34m\u001b[0m\u001b[0m\n\u001b[0;32m----> 3\u001b[0;31m \u001b[0;32mfor\u001b[0m \u001b[0mn\u001b[0m\u001b[0;34m,\u001b[0m\u001b[0mx\u001b[0m \u001b[0;32min\u001b[0m \u001b[0mclean_X_test\u001b[0m\u001b[0;34m:\u001b[0m\u001b[0;34m\u001b[0m\u001b[0;34m\u001b[0m\u001b[0m\n\u001b[0m\u001b[1;32m      4\u001b[0m     \u001b[0mcorrcoef\u001b[0m \u001b[0;34m=\u001b[0m \u001b[0mnp\u001b[0m\u001b[0;34m.\u001b[0m\u001b[0mcorrcoef\u001b[0m\u001b[0;34m(\u001b[0m\u001b[0mclean_X_test\u001b[0m\u001b[0;34m.\u001b[0m\u001b[0mx\u001b[0m\u001b[0;34m,\u001b[0m \u001b[0my_test\u001b[0m\u001b[0;34m)\u001b[0m\u001b[0;34m\u001b[0m\u001b[0;34m\u001b[0m\u001b[0m\n\u001b[1;32m      5\u001b[0m     \u001b[0mcoeff\u001b[0m\u001b[0;34m[\u001b[0m\u001b[0mn\u001b[0m\u001b[0;34m]\u001b[0m\u001b[0;34m.\u001b[0m\u001b[0mappend\u001b[0m\u001b[0;34m(\u001b[0m\u001b[0mcorrcoef\u001b[0m\u001b[0;34m)\u001b[0m\u001b[0;34m\u001b[0m\u001b[0;34m\u001b[0m\u001b[0m\n",
      "\u001b[0;31mValueError\u001b[0m: too many values to unpack (expected 2)"
     ]
    }
   ],
   "source": [
    "coeff = []\n",
    "y_test\n",
    "for n,x in clean_X_test:\n",
    "    corrcoef = np.corrcoef(clean_X_test.x, y_test)\n",
    "    coeff[n].append(corrcoef)\n",
    "    \n",
    "print (coeff)"
   ]
  },
  {
   "cell_type": "markdown",
   "metadata": {},
   "source": [
    "## Part 6: Pick model & find best threshold"
   ]
  },
  {
   "cell_type": "code",
   "execution_count": null,
   "metadata": {},
   "outputs": [],
   "source": []
  },
  {
   "cell_type": "markdown",
   "metadata": {},
   "source": [
    "## Part 7: What drives churn?"
   ]
  },
  {
   "cell_type": "code",
   "execution_count": null,
   "metadata": {},
   "outputs": [],
   "source": []
  },
  {
   "cell_type": "markdown",
   "metadata": {},
   "source": [
    "## Part 8: What are your recommendations?"
   ]
  },
  {
   "cell_type": "code",
   "execution_count": null,
   "metadata": {},
   "outputs": [],
   "source": []
  },
  {
   "cell_type": "code",
   "execution_count": null,
   "metadata": {},
   "outputs": [],
   "source": []
  }
 ],
 "metadata": {
  "kernelspec": {
   "display_name": "Python 3",
   "language": "python",
   "name": "python3"
  },
  "language_info": {
   "codemirror_mode": {
    "name": "ipython",
    "version": 3
   },
   "file_extension": ".py",
   "mimetype": "text/x-python",
   "name": "python",
   "nbconvert_exporter": "python",
   "pygments_lexer": "ipython3",
   "version": "3.7.6"
  }
 },
 "nbformat": 4,
 "nbformat_minor": 4
}
